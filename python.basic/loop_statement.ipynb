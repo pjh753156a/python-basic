{
 "cells": [
  {
   "cell_type": "code",
   "execution_count": 100,
   "metadata": {},
   "outputs": [],
   "source": [
    "# 반복문\n",
    "# for 반복문 : 반복할 횟수가 정해져있는 반복작업에서 사용 \n",
    "# for 변수 in range(반복횟수)\n",
    "#   반복할 실행문 반복할 실행문 반복할 실행문 반복할 실행문"
   ]
  },
  {
   "cell_type": "code",
   "execution_count": 2,
   "metadata": {},
   "outputs": [
    {
     "name": "stdout",
     "output_type": "stream",
     "text": [
      "[0, 1, 2, 3, 4]\n",
      "0\n",
      "1\n",
      "2\n",
      "3\n",
      "4\n",
      "5\n",
      "6\n",
      "7\n",
      "8\n",
      "9\n",
      "5\n",
      "8\n",
      "10\n",
      "9\n",
      "8\n",
      "7\n",
      "6\n",
      "5\n",
      "4\n",
      "3\n",
      "2\n",
      "1\n",
      "0\n"
     ]
    }
   ],
   "source": [
    "# for(int index=0; index<5; index++) - X\n",
    "\n",
    "# int[] array = {0,1,2,3,4};\n",
    "# for (int index: array) {} - O\n",
    "\n",
    "# range(정수): 0부터 정수-1 까지의 정수 리스트 생성\n",
    "# range(시작 정수,종료 정수): 시작 정수부터 종료 정수-1까지의 정수 리스트 생성\n",
    "# range(시작 정수,종료 정수,차이):시작 정수부터 종료 정수-1 까지의 정수 리스트를 생성하는데\n",
    "# 차이정수 만큼의 차이를 가지며 변경됨\n",
    "\n",
    "print(list(range(5)))\n",
    "for index in range(5):\n",
    "    print(index)\n",
    "\n",
    "for index in range(5,10):\n",
    "    print(index)\n",
    "\n",
    "for index in range(5,10,3):\n",
    "    print(index)\n",
    "\n",
    "for index in range(10,-1,-1):\n",
    "    print(index)"
   ]
  },
  {
   "cell_type": "code",
   "execution_count": 3,
   "metadata": {},
   "outputs": [
    {
     "name": "stdout",
     "output_type": "stream",
     "text": [
      "\n",
      "*\n",
      "**\n",
      "***\n",
      "****\n",
      "*****\n",
      "******\n",
      "*******\n",
      "********\n",
      "*********\n",
      "**********\n"
     ]
    }
   ],
   "source": [
    "for index in range(11):\n",
    "    print('*'*index)"
   ]
  },
  {
   "cell_type": "code",
   "execution_count": 103,
   "metadata": {},
   "outputs": [
    {
     "name": "stdout",
     "output_type": "stream",
     "text": [
      "**********\n",
      "*********\n",
      "********\n",
      "*******\n",
      "******\n",
      "*****\n",
      "****\n",
      "***\n",
      "**\n",
      "*\n"
     ]
    }
   ],
   "source": [
    "for index in range(10,0,-1):\n",
    "    print('*'*index)"
   ]
  },
  {
   "cell_type": "code",
   "execution_count": 104,
   "metadata": {},
   "outputs": [
    {
     "name": "stdout",
     "output_type": "stream",
     "text": [
      "*\n",
      "**\n",
      "***\n",
      "****\n",
      "*****\n",
      "******\n",
      "*******\n",
      "********\n",
      "*********\n",
      "**********\n",
      "*********\n",
      "********\n",
      "*******\n",
      "******\n",
      "*****\n",
      "****\n",
      "***\n",
      "**\n",
      "*\n"
     ]
    }
   ],
   "source": [
    "for count in range(1,20):\n",
    "    if count <=10:\n",
    "        print(\"*\"*count)\n",
    "    else:\n",
    "        print(\"*\"*(20-count))"
   ]
  },
  {
   "cell_type": "code",
   "execution_count": 4,
   "metadata": {},
   "outputs": [
    {
     "name": "stdout",
     "output_type": "stream",
     "text": [
      "     *     \n",
      "    ***    \n",
      "   *****   \n",
      "  *******  \n",
      " ********* \n",
      "***********\n",
      " ********* \n",
      "  *******  \n",
      "   *****   \n",
      "    ***    \n",
      "     *     \n"
     ]
    }
   ],
   "source": [
    "for count in range(1,12):\n",
    "   if count <=6:\n",
    "      print(\" \"*(6-count)+\"*\"*(2*count-1)+\" \"*(6-count))\n",
    "   else: \n",
    "      print(\" \"*(count-6)+\"*\"*((12-count)*2-1)+\" \"*(count-6))\n",
    "    "
   ]
  },
  {
   "cell_type": "code",
   "execution_count": 5,
   "metadata": {},
   "outputs": [],
   "source": [
    "# 0 1 2 3 \n",
    "# 1 2 3 4 \n",
    "# 2 3 4 5\n",
    "# 6 7 8 9"
   ]
  },
  {
   "cell_type": "code",
   "execution_count": 6,
   "metadata": {},
   "outputs": [
    {
     "name": "stdout",
     "output_type": "stream",
     "text": [
      "0 1 2 3 \n",
      "1 2 3 4 \n",
      "2 3 4 5 \n",
      "3 4 5 6 \n"
     ]
    }
   ],
   "source": [
    "for a in range(4):\n",
    "    for b in range(4):\n",
    "        print(a+b,end=\" \")\n",
    "    print() "
   ]
  },
  {
   "cell_type": "code",
   "execution_count": 7,
   "metadata": {},
   "outputs": [
    {
     "name": "stdout",
     "output_type": "stream",
     "text": [
      "0 1 2 3 \n",
      "1 2 3 4 \n",
      "2 3 4 5 \n",
      "3 4 5 6 \n"
     ]
    }
   ],
   "source": [
    "for start in range(4):\n",
    "    for value in range(start,start+4):  \n",
    "        print(value,end=\" \")\n",
    "    print()"
   ]
  },
  {
   "cell_type": "code",
   "execution_count": 9,
   "metadata": {},
   "outputs": [
    {
     "name": "stdout",
     "output_type": "stream",
     "text": [
      "1 3\n",
      "2 2\n",
      "2 6\n",
      "3 1\n",
      "3 5\n",
      "4 4\n",
      "5 3\n",
      "6 2\n",
      "6 6\n"
     ]
    }
   ],
   "source": [
    "for a in range(1,7):\n",
    "    for b in range (1,7):\n",
    "        if (a+b) % 4 == 0:\n",
    "            print(f'{a} {b}')"
   ]
  },
  {
   "cell_type": "code",
   "execution_count": 10,
   "metadata": {},
   "outputs": [
    {
     "name": "stdout",
     "output_type": "stream",
     "text": [
      "64.0\n",
      "256.0\n",
      "1024.0\n",
      "4096.0\n",
      "16384\n"
     ]
    }
   ],
   "source": [
    "Aap = 0\n",
    "de = 0\n",
    "price = 1024\n",
    "for Aap in range(0,5):\n",
    "    for de in range(1,5-Aap):\n",
    "        price=price/2\n",
    "    for Aap in range(1,Aap+1):\n",
    "        price=price*2\n",
    "    print(price)\n",
    "    price = 1024"
   ]
  },
  {
   "cell_type": "code",
   "execution_count": 18,
   "metadata": {},
   "outputs": [
    {
     "name": "stdout",
     "output_type": "stream",
     "text": [
      "64.0\n",
      "256.0\n",
      "1024.0\n",
      "4096.0\n",
      "16384\n"
     ]
    }
   ],
   "source": [
    "def calculate_possible_prices(starting_price, num_coins):\n",
    "    prices = [starting_price]\n",
    "\n",
    "    for _ in range(num_coins):\n",
    "        new_prices = []\n",
    "        for price in prices:\n",
    "            new_prices.extend([price * 2, price / 2])\n",
    "        prices = new_prices\n",
    "\n",
    "    return sorted(set(prices))\n",
    "\n",
    "starting_price = 1024\n",
    "num_coins = 4\n",
    "possible_prices = calculate_possible_prices(starting_price, num_coins)\n",
    "\n",
    "for price in possible_prices:\n",
    "    print(price)\n"
   ]
  },
  {
   "cell_type": "code",
   "execution_count": 19,
   "metadata": {},
   "outputs": [
    {
     "name": "stdout",
     "output_type": "stream",
     "text": [
      "1\n",
      "3\n",
      "6\n",
      "10\n",
      "15\n",
      "21\n",
      "28\n",
      "36\n",
      "45\n",
      "55\n"
     ]
    }
   ],
   "source": [
    "for count in range(1,11):\n",
    "    sum = 0;\n",
    "    for value in range(count+1):\n",
    "        sum += value\n",
    "    print(sum)"
   ]
  },
  {
   "cell_type": "code",
   "execution_count": 20,
   "metadata": {},
   "outputs": [
    {
     "name": "stdout",
     "output_type": "stream",
     "text": [
      "220\n"
     ]
    }
   ],
   "source": [
    "sum = 0;\n",
    "for count in range(1,11):\n",
    "     for value in range(count+1):\n",
    "         sum += value\n",
    "\n",
    "print(sum)   "
   ]
  },
  {
   "cell_type": "code",
   "execution_count": 21,
   "metadata": {},
   "outputs": [],
   "source": [
    "# 리스트 복수 할당\n",
    "# 변수를 ,로 구분하여 대입연산자 좌항으로 나열하여 리스트에 있는 요소를 분리해서 대입할 수 있음\n"
   ]
  },
  {
   "cell_type": "code",
   "execution_count": 22,
   "metadata": {},
   "outputs": [],
   "source": [
    "numbers = [1,2,3]"
   ]
  },
  {
   "cell_type": "code",
   "execution_count": 23,
   "metadata": {},
   "outputs": [
    {
     "name": "stdout",
     "output_type": "stream",
     "text": [
      "123\n"
     ]
    }
   ],
   "source": [
    "number1,number2,number3 = numbers\n",
    "print(f'{number1}{number2}{number3}')"
   ]
  },
  {
   "cell_type": "code",
   "execution_count": 24,
   "metadata": {},
   "outputs": [
    {
     "ename": "ValueError",
     "evalue": "too many values to unpack (expected 2)",
     "output_type": "error",
     "traceback": [
      "\u001b[1;31m---------------------------------------------------------------------------\u001b[0m",
      "\u001b[1;31mValueError\u001b[0m                                Traceback (most recent call last)",
      "Cell \u001b[1;32mIn[24], line 2\u001b[0m\n\u001b[0;32m      1\u001b[0m \u001b[38;5;66;03m# 만약 복수 할당할 변수의 개수가 리스트 요소의 개수와 같지 않다면 오류가 발생\u001b[39;00m\n\u001b[1;32m----> 2\u001b[0m number1,number2\u001b[38;5;241m=\u001b[39mnumbers\n",
      "\u001b[1;31mValueError\u001b[0m: too many values to unpack (expected 2)"
     ]
    }
   ],
   "source": [
    "# 만약 복수 할당할 변수의 개수가 리스트 요소의 개수와 같지 않다면 오류가 발생\n",
    "number1,number2=numbers"
   ]
  },
  {
   "cell_type": "code",
   "execution_count": 25,
   "metadata": {},
   "outputs": [],
   "source": [
    "#enumerate()\n",
    "#리스트를 인덱스,요소 묶음으로 만들어 주는 내장 함수"
   ]
  },
  {
   "cell_type": "code",
   "execution_count": 26,
   "metadata": {},
   "outputs": [
    {
     "data": {
      "text/plain": [
       "<enumerate at 0x298d12c5ee0>"
      ]
     },
     "execution_count": 26,
     "metadata": {},
     "output_type": "execute_result"
    }
   ],
   "source": [
    "enumerate(numbers)"
   ]
  },
  {
   "cell_type": "code",
   "execution_count": 27,
   "metadata": {},
   "outputs": [
    {
     "name": "stdout",
     "output_type": "stream",
     "text": [
      "인덱스: 0, 요소: 1\n",
      "인덱스: 1, 요소: 2\n",
      "인덱스: 2, 요소: 3\n"
     ]
    }
   ],
   "source": [
    "for index,item in enumerate(numbers):\n",
    "    print(f'인덱스: {index}, 요소: {item}')"
   ]
  },
  {
   "cell_type": "code",
   "execution_count": 28,
   "metadata": {},
   "outputs": [],
   "source": [
    "# zip()\n",
    "# 두 개의 리스트를 동일한 인덱스의 값을 묶어서 새로운 리스트를 생성\n",
    "names=['김이준','이서아','박도윤']\n",
    "scores=[70,85,60]"
   ]
  },
  {
   "cell_type": "code",
   "execution_count": 29,
   "metadata": {},
   "outputs": [
    {
     "data": {
      "text/plain": [
       "[('김이준', 70), ('이서아', 85), ('박도윤', 60)]"
      ]
     },
     "execution_count": 29,
     "metadata": {},
     "output_type": "execute_result"
    }
   ],
   "source": [
    "name_scores = list(zip(names,scores))\n",
    "name_scores"
   ]
  },
  {
   "cell_type": "code",
   "execution_count": 30,
   "metadata": {},
   "outputs": [],
   "source": [
    "#중첩 리스트\n",
    "#요소로 리스트를 가지고 있는 리스트"
   ]
  },
  {
   "cell_type": "code",
   "execution_count": 31,
   "metadata": {},
   "outputs": [
    {
     "data": {
      "text/plain": [
       "2"
      ]
     },
     "execution_count": 31,
     "metadata": {},
     "output_type": "execute_result"
    }
   ],
   "source": [
    "overlappings = [\n",
    "    [1,2,3],\n",
    "    [4,5,6],\n",
    "    [7,8,9]\n",
    "]\n",
    "overlappings\n",
    "items=overlappings[0]\n",
    "items\n",
    "items[1]"
   ]
  },
  {
   "cell_type": "code",
   "execution_count": 32,
   "metadata": {},
   "outputs": [],
   "source": [
    "# 평균 평점을 구하는 함수\n",
    "# 함수의 매개변수로 grades, credits 리스트를 입력 받고 \n",
    "# 평균 평점 gpa를 반환하는 함수를 작성하시오.\n",
    "# 단, grades와 credits의 길이가 서로 다르다면 -1를 반환하시오."
   ]
  },
  {
   "cell_type": "code",
   "execution_count": null,
   "metadata": {},
   "outputs": [
    {
     "data": {
      "text/plain": [
       "3.36"
      ]
     },
     "execution_count": 36,
     "metadata": {},
     "output_type": "execute_result"
    }
   ],
   "source": [
    "grades=[4,3,2,3,4]\n",
    "credits=[3,3,1,2,2]\n",
    "\n",
    "def calculate_gpa(grades, credits):\n",
    "\n",
    "    sum1 = 0 # 이수학점의 총합\n",
    "    sum2 = 0 # 가중치 총합\n",
    "\n",
    "    if len(grades)!=len(credits):\n",
    "        return -1\n",
    "    \n",
    "    result=list(zip(grades,credits))\n",
    "    for index in range(len(grades)):\n",
    "        sum1 = sum1 + result[index][0]*result[index][1]\n",
    "    \n",
    "    for index in range(len(credits)):\n",
    "        sum2 = sum2 + credits[index]\n",
    "\n",
    "    return round(sum1/sum2,2)\n",
    "\n",
    "# 평균평점 = (가중치 총합)/(이수학점의 총합)\n",
    "calculate_gpa(grades,credits)\n"
   ]
  },
  {
   "cell_type": "code",
   "execution_count": 33,
   "metadata": {},
   "outputs": [],
   "source": [
    "# x = [['길동',90],['철수',80],['영희',70],['방자',60]]\n",
    "# 복수할당과 zip 함수를 사용하여 이름만 존재하는 x_names 리스트 변수를\n",
    "# 생성하시오."
   ]
  },
  {
   "cell_type": "code",
   "execution_count": 35,
   "metadata": {},
   "outputs": [
    {
     "name": "stdout",
     "output_type": "stream",
     "text": [
      "[('길동', '철수', '영희', '방자'), (90, 80, 70, 60)]\n"
     ]
    },
    {
     "data": {
      "text/plain": [
       "['길동', '철수', '영희', '방자']"
      ]
     },
     "execution_count": 35,
     "metadata": {},
     "output_type": "execute_result"
    }
   ],
   "source": [
    "x = [['길동',90],\n",
    "     ['철수',80],\n",
    "     ['영희',70],\n",
    "     ['방자',60]]\n",
    "\n",
    "r_x = list(zip(*x))\n",
    "r_x \n",
    "\n",
    "print(r_x)\n",
    "\n",
    "x_names,s_scores=r_x\n",
    "x_names = list(x_names)\n",
    "x_names\n"
   ]
  },
  {
   "cell_type": "code",
   "execution_count": 36,
   "metadata": {},
   "outputs": [
    {
     "data": {
      "text/plain": [
       "{'apple': '사과', 'banana': '바나나', 'carrot': '당근'}"
      ]
     },
     "execution_count": 36,
     "metadata": {},
     "output_type": "execute_result"
    }
   ],
   "source": [
    "# 딕셔너리\n",
    "# key,value를 하나의 쌍으로 관리하는 자료형\n",
    "# 순서가 존재하지 않고 key는 중복을 허용하지 않으며, value는 중복될 수 있음\n",
    "# 딕셔너리변수 = {key1:value1, key2:value2, ... }\n",
    "# key는 어떠한 자료형이든 가능\n",
    "\n",
    "eng_dictionary = {'apple':'사과','banana':'바나나','carrot':'당근'}\n",
    "eng_dictionary"
   ]
  },
  {
   "cell_type": "code",
   "execution_count": 37,
   "metadata": {},
   "outputs": [
    {
     "data": {
      "text/plain": [
       "'사과'"
      ]
     },
     "execution_count": 37,
     "metadata": {},
     "output_type": "execute_result"
    }
   ],
   "source": [
    "# 딕셔너리의 특정 요소에 접근할 때는 딕셔너리변수[키]로 값을 가져올 수 있음(접근 가능)\n",
    "eng_dictionary['apple']"
   ]
  },
  {
   "cell_type": "code",
   "execution_count": 38,
   "metadata": {},
   "outputs": [
    {
     "data": {
      "text/plain": [
       "3"
      ]
     },
     "execution_count": 38,
     "metadata": {},
     "output_type": "execute_result"
    }
   ],
   "source": [
    "# 딕셔너리 자료 쌍의 개수\n",
    "# len(딕셔너리 변수)를 사용하여 자료 쌍의 개수를 구할 수 있음\n",
    "len(eng_dictionary)"
   ]
  },
  {
   "cell_type": "code",
   "execution_count": null,
   "metadata": {},
   "outputs": [],
   "source": [
    "# 딕셔너리 자료 value 변경\n",
    "# 딕셔너리[키] = 변경할 값"
   ]
  },
  {
   "cell_type": "code",
   "execution_count": 39,
   "metadata": {},
   "outputs": [
    {
     "data": {
      "text/plain": [
       "{'apple': '사과', 'banana': '버네너', 'carrot': '당근'}"
      ]
     },
     "execution_count": 39,
     "metadata": {},
     "output_type": "execute_result"
    }
   ],
   "source": [
    "eng_dictionary['banana']='버네너'\n",
    "eng_dictionary"
   ]
  },
  {
   "cell_type": "code",
   "execution_count": 40,
   "metadata": {},
   "outputs": [
    {
     "data": {
      "text/plain": [
       "{'apple': '사과', 'banana': '버네너', 'carrot': '당근', 'delete': '삭제'}"
      ]
     },
     "execution_count": 40,
     "metadata": {},
     "output_type": "execute_result"
    }
   ],
   "source": [
    "# 딕셔너리 요소 추가\n",
    "# 딕셔너리[추가할 키] = 추가할 값\n",
    "eng_dictionary['delete'] = '삭제'\n",
    "eng_dictionary"
   ]
  },
  {
   "cell_type": "code",
   "execution_count": 41,
   "metadata": {},
   "outputs": [],
   "source": [
    "# 딕셔너리의 update메서드\n",
    "# 추가, 수정 작업을 딕셔너리로 지정하여 작업하는 것 "
   ]
  },
  {
   "cell_type": "code",
   "execution_count": 42,
   "metadata": {},
   "outputs": [
    {
     "data": {
      "text/plain": [
       "{'apple': '사과', 'banana': '버네너', 'carrot': '당근', 'delete': '삭제'}"
      ]
     },
     "execution_count": 42,
     "metadata": {},
     "output_type": "execute_result"
    }
   ],
   "source": [
    "eng_dictionary"
   ]
  },
  {
   "cell_type": "code",
   "execution_count": 43,
   "metadata": {},
   "outputs": [],
   "source": [
    "eng2_dictionary = {\n",
    "    'banana':'바나나',\n",
    "    'electricity':'전기'\n",
    "}"
   ]
  },
  {
   "cell_type": "code",
   "execution_count": 45,
   "metadata": {},
   "outputs": [
    {
     "data": {
      "text/plain": [
       "{'apple': '사과',\n",
       " 'banana': '바나나',\n",
       " 'carrot': '당근',\n",
       " 'delete': '삭제',\n",
       " 'electricity': '전기'}"
      ]
     },
     "execution_count": 45,
     "metadata": {},
     "output_type": "execute_result"
    }
   ],
   "source": [
    "eng_dictionary.update(eng2_dictionary)\n",
    "eng_dictionary"
   ]
  },
  {
   "cell_type": "code",
   "execution_count": 46,
   "metadata": {},
   "outputs": [
    {
     "data": {
      "text/plain": [
       "{'apple': '사과', 'banana': '바나나', 'carrot': '당근', 'delete': '삭제'}"
      ]
     },
     "execution_count": 46,
     "metadata": {},
     "output_type": "execute_result"
    }
   ],
   "source": [
    "# 딕셔너리 요소 삭제\n",
    "# del 명령어를 사용하여 제거\n",
    "# pop() 메서드를 사용하여 추출\n",
    "del eng_dictionary['electricity']\n",
    "eng_dictionary"
   ]
  },
  {
   "cell_type": "code",
   "execution_count": 47,
   "metadata": {},
   "outputs": [
    {
     "data": {
      "text/plain": [
       "'삭제'"
      ]
     },
     "execution_count": 47,
     "metadata": {},
     "output_type": "execute_result"
    }
   ],
   "source": [
    "eng_dictionary.pop('delete')"
   ]
  },
  {
   "cell_type": "code",
   "execution_count": 48,
   "metadata": {},
   "outputs": [
    {
     "data": {
      "text/plain": [
       "{'apple': '사과', 'banana': '바나나', 'carrot': '당근'}"
      ]
     },
     "execution_count": 48,
     "metadata": {},
     "output_type": "execute_result"
    }
   ],
   "source": [
    "eng_dictionary"
   ]
  },
  {
   "cell_type": "code",
   "execution_count": 52,
   "metadata": {},
   "outputs": [],
   "source": [
    "# 반복가능 객체에 요소 존재여부 확인\n",
    "# in 연산자를 통해서 특정 요소가 해당 객체에 존재하는지 여부 확인 가능\n"
   ]
  },
  {
   "cell_type": "code",
   "execution_count": 51,
   "metadata": {},
   "outputs": [
    {
     "data": {
      "text/plain": [
       "[1, 2, 3]"
      ]
     },
     "execution_count": 51,
     "metadata": {},
     "output_type": "execute_result"
    }
   ],
   "source": [
    "numbers"
   ]
  },
  {
   "cell_type": "code",
   "execution_count": 53,
   "metadata": {},
   "outputs": [
    {
     "data": {
      "text/plain": [
       "{'apple': '사과', 'banana': '바나나', 'carrot': '당근'}"
      ]
     },
     "execution_count": 53,
     "metadata": {},
     "output_type": "execute_result"
    }
   ],
   "source": [
    "eng_dictionary"
   ]
  },
  {
   "cell_type": "code",
   "execution_count": 54,
   "metadata": {},
   "outputs": [
    {
     "data": {
      "text/plain": [
       "False"
      ]
     },
     "execution_count": 54,
     "metadata": {},
     "output_type": "execute_result"
    }
   ],
   "source": [
    "5 in numbers"
   ]
  },
  {
   "cell_type": "code",
   "execution_count": 55,
   "metadata": {},
   "outputs": [
    {
     "data": {
      "text/plain": [
       "False"
      ]
     },
     "execution_count": 55,
     "metadata": {},
     "output_type": "execute_result"
    }
   ],
   "source": [
    "'carrots' in eng_dictionary"
   ]
  },
  {
   "cell_type": "code",
   "execution_count": 56,
   "metadata": {},
   "outputs": [],
   "source": [
    "# 딕셔너리를 반복문에서 사용\n",
    "# 키만 사용: for key in 딕셔너리.keys():\n",
    "# 값만 사용: for value in 딕셔너리.values():\n",
    "# 키와 값을 모두 사용 : for key,value in 딕셔너리.items():\n",
    "\n",
    "# keys() : 딕셔너리의 key 값들을 튜플로 반환\n",
    "# values() : 딕셔너리의 value 값들을 튜플로 반환\n",
    "# items() : 딕셔너리의 key, value 쌍들을 튜플로 반환"
   ]
  },
  {
   "cell_type": "code",
   "execution_count": 57,
   "metadata": {},
   "outputs": [
    {
     "name": "stdout",
     "output_type": "stream",
     "text": [
      "apple\n",
      "banana\n",
      "carrot\n"
     ]
    }
   ],
   "source": [
    "for key in eng_dictionary.keys():\n",
    "    print(key)"
   ]
  },
  {
   "cell_type": "code",
   "execution_count": null,
   "metadata": {},
   "outputs": [],
   "source": []
  },
  {
   "cell_type": "code",
   "execution_count": 58,
   "metadata": {},
   "outputs": [
    {
     "name": "stdout",
     "output_type": "stream",
     "text": [
      "사과\n",
      "바나나\n",
      "당근\n"
     ]
    }
   ],
   "source": [
    "for value in eng_dictionary.values():\n",
    "    print(value)"
   ]
  },
  {
   "cell_type": "code",
   "execution_count": 59,
   "metadata": {},
   "outputs": [
    {
     "name": "stdout",
     "output_type": "stream",
     "text": [
      "key:apple, value:사과\n",
      "key:banana, value:바나나\n",
      "key:carrot, value:당근\n"
     ]
    }
   ],
   "source": [
    "for key,value in eng_dictionary.items():\n",
    "    print(f'key:{key}, value:{value}')"
   ]
  },
  {
   "cell_type": "code",
   "execution_count": 61,
   "metadata": {},
   "outputs": [],
   "source": [
    "data = {\n",
    "    \"철수\":98,\n",
    "    \"영희\":80,\n",
    "    \"순이\":100,\n",
    "    \"돌이\":70,\n",
    "}"
   ]
  },
  {
   "cell_type": "code",
   "execution_count": null,
   "metadata": {},
   "outputs": [
    {
     "name": "stdout",
     "output_type": "stream",
     "text": [
      "철수\t\t98\n",
      "영희\t\t80\n",
      "순이\t\t100\n",
      "돌이\t\t70\n",
      "========================\n",
      "평균\t\t87.0\n"
     ]
    }
   ],
   "source": [
    "sum=0\n",
    "for key,value in data.items():\n",
    "    print(f'{key}\\t\\t{value}')\n",
    "    sum=sum+value\n",
    "print(\"========================\")  \n",
    "print(f'평균\\t\\t{sum/len(data)}')"
   ]
  },
  {
   "cell_type": "code",
   "execution_count": null,
   "metadata": {},
   "outputs": [],
   "source": [
    "##2차복습완료 "
   ]
  }
 ],
 "metadata": {
  "kernelspec": {
   "display_name": "Python 3",
   "language": "python",
   "name": "python3"
  },
  "language_info": {
   "codemirror_mode": {
    "name": "ipython",
    "version": 3
   },
   "file_extension": ".py",
   "mimetype": "text/x-python",
   "name": "python",
   "nbconvert_exporter": "python",
   "pygments_lexer": "ipython3",
   "version": "3.12.3"
  }
 },
 "nbformat": 4,
 "nbformat_minor": 2
}
