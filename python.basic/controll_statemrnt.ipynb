{
 "cells": [
  {
   "cell_type": "code",
   "execution_count": 5,
   "metadata": {},
   "outputs": [
    {
     "name": "stdout",
     "output_type": "stream",
     "text": [
      "짝수\n",
      "짝수\n"
     ]
    }
   ],
   "source": [
    "# 조건문\n",
    "# if 조건문\n",
    "# if 조건 :\n",
    "# 실행문\n",
    "# : 이후에 새로운 코드 블럭이 생기면\n",
    "# 라인 첫 공백을 모두 같게 해야함\n",
    "number = 12344\n",
    "if number % 2 == 0:\n",
    "    print('짝수')\n",
    "    print('짝수')"
   ]
  },
  {
   "cell_type": "code",
   "execution_count": 6,
   "metadata": {},
   "outputs": [],
   "source": [
    "# else\n",
    "# else: \n",
    "# 실행문"
   ]
  },
  {
   "cell_type": "code",
   "execution_count": 7,
   "metadata": {},
   "outputs": [
    {
     "name": "stdout",
     "output_type": "stream",
     "text": [
      "짝수\n"
     ]
    }
   ],
   "source": [
    "if number % 2 == 0:\n",
    "    print('짝수')\n",
    "else:\n",
    "    print('홀수')"
   ]
  },
  {
   "cell_type": "code",
   "execution_count": 10,
   "metadata": {},
   "outputs": [
    {
     "name": "stdout",
     "output_type": "stream",
     "text": [
      "윤년이 아닙니다.\n"
     ]
    }
   ],
   "source": [
    "# 윤년\n",
    "# 4202년이 윤년인지 아닌지 판별하는 조건문을 작성하시오.\n",
    "year=4202\n",
    "if (year % 4 == 0 and year % 100 != 0) or (year % 400 == 0):\n",
    "    print('윤년입니다.')\n",
    "else :\n",
    "    print('윤년이 아닙니다.')"
   ]
  },
  {
   "cell_type": "code",
   "execution_count": 12,
   "metadata": {},
   "outputs": [
    {
     "data": {
      "text/plain": [
       "False"
      ]
     },
     "execution_count": 12,
     "metadata": {},
     "output_type": "execute_result"
    }
   ],
   "source": [
    "True & False"
   ]
  },
  {
   "cell_type": "code",
   "execution_count": 13,
   "metadata": {},
   "outputs": [
    {
     "name": "stdout",
     "output_type": "stream",
     "text": [
      "C\n"
     ]
    }
   ],
   "source": [
    "# elif (else if): 상위의 조건이 false이면서 elif의 조건이 true이면 실행\n",
    "# elif 조건:\n",
    "# 실행문\n",
    "score = 80\n",
    "if score > 90: \n",
    "    print('A')\n",
    "elif score > 80:\n",
    "    print('B')\n",
    "elif score > 70:\n",
    "    print('C')\n",
    "elif score > 60:\n",
    "    print('D')\n",
    "else:\n",
    "    print('F')"
   ]
  },
  {
   "cell_type": "code",
   "execution_count": 14,
   "metadata": {},
   "outputs": [
    {
     "name": "stdout",
     "output_type": "stream",
     "text": [
      "3등급\n"
     ]
    }
   ],
   "source": [
    "# 수박등급 구하기\n",
    "water_melon=6\n",
    "if water_melon>10:\n",
    "    print('1등급')\n",
    "elif water_melon>7:\n",
    "    print('2등급')\n",
    "elif water_melon>4:\n",
    "    print('3등급')\n",
    "else:\n",
    "    print('4등급')\n"
   ]
  },
  {
   "cell_type": "code",
   "execution_count": 85,
   "metadata": {},
   "outputs": [],
   "source": [
    "# 중첩 if문\n",
    "# if문안에 if문 (들여쓰기 조심)"
   ]
  },
  {
   "cell_type": "code",
   "execution_count": 15,
   "metadata": {},
   "outputs": [
    {
     "name": "stdout",
     "output_type": "stream",
     "text": [
      "합격\n"
     ]
    }
   ],
   "source": [
    "gender = '남자'\n",
    "count = 10\n",
    " \n",
    "if (gender == '남자' and count >= 10) or (gender == '여자' and count >= 5):\n",
    "    print('합격')\n",
    "else:\n",
    "    print('불합격')\n",
    " "
   ]
  },
  {
   "cell_type": "code",
   "execution_count": 16,
   "metadata": {},
   "outputs": [
    {
     "name": "stdout",
     "output_type": "stream",
     "text": [
      "죄수 A 석방, 죄수 B 10년 복역\n"
     ]
    }
   ],
   "source": [
    "prisonerAconfession=True\n",
    "prisonerBconfession=False\n",
    "\n",
    "if not prisonerAconfession and not prisonerBconfession:\n",
    "    print('죄수 A, B 각자 6개월씩 복역')\n",
    "elif not prisonerAconfession and prisonerBconfession:\n",
    "    print('죄수 A 10년 복역, 죄수 B 석방')\n",
    "elif prisonerAconfession and not prisonerBconfession:\n",
    "    print('죄수 A 석방, 죄수 B 10년 복역')\n",
    "else :\n",
    "    print('죄수 A, B 각자 5년씩 복역')"
   ]
  },
  {
   "cell_type": "code",
   "execution_count": 17,
   "metadata": {},
   "outputs": [
    {
     "name": "stdout",
     "output_type": "stream",
     "text": [
      "윤년이 아닙니다.\n"
     ]
    }
   ],
   "source": [
    "year=4202\n",
    "\n",
    "\n",
    "if (year % 4 == 0):\n",
    "    if (year % 100 != 0):\n",
    "        print('윤년입니다.')\n",
    "elif (year % 400 == 0):\n",
    "    print('윤년입니다.')\n",
    "else :\n",
    "    print('윤년이 아닙니다.')"
   ]
  },
  {
   "cell_type": "code",
   "execution_count": 19,
   "metadata": {},
   "outputs": [],
   "source": [
    "###2차복습완료 "
   ]
  }
 ],
 "metadata": {
  "kernelspec": {
   "display_name": "Python 3",
   "language": "python",
   "name": "python3"
  },
  "language_info": {
   "codemirror_mode": {
    "name": "ipython",
    "version": 3
   },
   "file_extension": ".py",
   "mimetype": "text/x-python",
   "name": "python",
   "nbconvert_exporter": "python",
   "pygments_lexer": "ipython3",
   "version": "3.12.3"
  }
 },
 "nbformat": 4,
 "nbformat_minor": 2
}
