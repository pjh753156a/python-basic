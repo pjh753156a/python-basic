{
 "cells": [
  {
   "cell_type": "code",
   "execution_count": 25,
   "metadata": {},
   "outputs": [],
   "source": [
    "#객체\n",
    "#데이터와 데이터를 조작하는 행위의 집합"
   ]
  },
  {
   "cell_type": "code",
   "execution_count": 26,
   "metadata": {},
   "outputs": [],
   "source": [
    "class Ractangle():\n",
    "    def __init__(self, width,height):\n",
    "        self.width=width\n",
    "        self.height=height\n",
    "\n",
    "    def getArea(self):\n",
    "        return self.height*self.width\n"
   ]
  },
  {
   "cell_type": "code",
   "execution_count": 27,
   "metadata": {},
   "outputs": [
    {
     "data": {
      "text/plain": [
       "200"
      ]
     },
     "execution_count": 27,
     "metadata": {},
     "output_type": "execute_result"
    }
   ],
   "source": [
    "ractangle = Ractangle(10,20)\n",
    "ractangle\n",
    "ractangle.width\n",
    "ractangle.getArea()"
   ]
  },
  {
   "cell_type": "code",
   "execution_count": 28,
   "metadata": {},
   "outputs": [
    {
     "name": "stdout",
     "output_type": "stream",
     "text": [
      "208\n",
      "192\n"
     ]
    }
   ],
   "source": [
    "class Hexahedron():\n",
    "    def __init__(self, a,b,h):\n",
    "        self.a=a\n",
    "        self.b=b\n",
    "        self.h=h\n",
    "\n",
    "    def surface_area(self):\n",
    "        return 2*(self.a*self.b+self.a*self.h+self.b*self.h)\n",
    "    def volume(self):\n",
    "        return self.a* self.b* self.h\n",
    "\n",
    "hexahedron=Hexahedron(4,6,8)\n",
    "print(hexahedron.surface_area())\n",
    "print(hexahedron.volume()) \n"
   ]
  },
  {
   "cell_type": "code",
   "execution_count": null,
   "metadata": {},
   "outputs": [],
   "source": [
    "# 클래스 상속\n",
    "# 이미 만들어져 있는 클래스를 재사용하기 위한 방법론으로 코드 재사용으로 코드의 중복을 제거할수 있고\n",
    "# 유지보수를 향상시킬 수 있음\n",
    "# class 클래스명(상속할 클래스명):\n",
    "# def __init__(self,arg1,...):\n",
    "# super(자식클래스명,self).__init__()\n",
    "# 인스턴스 생성시 실행할 코드......"
   ]
  },
  {
   "cell_type": "code",
   "execution_count": 35,
   "metadata": {},
   "outputs": [],
   "source": [
    "class Character(object):\n",
    "\n",
    "    def __init__(self):\n",
    "        self.life = 1000\n",
    "\n",
    "    def attacked(self):\n",
    "        self.life -= 10\n",
    "        print(\"공격받음! 생명력 =\", self.life)"
   ]
  },
  {
   "cell_type": "code",
   "execution_count": 39,
   "metadata": {},
   "outputs": [
    {
     "name": "stdout",
     "output_type": "stream",
     "text": [
      "공격받음! 생명력 = 990\n"
     ]
    }
   ],
   "source": [
    "a = Character()\n",
    "a.life\n",
    "a.attacked()"
   ]
  },
  {
   "cell_type": "code",
   "execution_count": 40,
   "metadata": {},
   "outputs": [],
   "source": [
    "class Warrior(Character):\n",
    "\n",
    "    def __init__(self):\n",
    "        super(Warrior, self).__init__()\n",
    "        self.strength = 15\n",
    "        self.intelligence = 5"
   ]
  },
  {
   "cell_type": "code",
   "execution_count": 41,
   "metadata": {},
   "outputs": [],
   "source": [
    "class Wizard(Character):\n",
    "\n",
    "    def __init__(self):\n",
    "        super(Wizard, self).__init__()\n",
    "        self.strength = 5\n",
    "        self.intelligence = 15"
   ]
  },
  {
   "cell_type": "code",
   "execution_count": null,
   "metadata": {},
   "outputs": [],
   "source": [
    "# 오버라이딩\n",
    "# 클래스 상속 관계에 있는 조상클래스에서 있는 메서드 자손클래스에서 메서드를 \n",
    "# 다시 정의 하는것"
   ]
  },
  {
   "cell_type": "code",
   "execution_count": 71,
   "metadata": {},
   "outputs": [],
   "source": [
    "class Warrior(Character):\n",
    "\n",
    "    def __init__(self):\n",
    "        super(Warrior, self).__init__()\n",
    "        self.strength = 15\n",
    "        self.intelligence = 5\n",
    "    \n",
    "    def attacked(self):\n",
    "        self.life-=5\n",
    "        print(f'전사가 공격당함!! life={self.life}')"
   ]
  },
  {
   "cell_type": "code",
   "execution_count": 75,
   "metadata": {},
   "outputs": [],
   "source": [
    "class Wizard(Character):\n",
    "\n",
    "    def __init__(self):\n",
    "        super(Wizard, self).__init__()\n",
    "        self.strength = 5\n",
    "        self.intelligence = 15\n",
    "\n",
    "    def attacked(self):\n",
    "        self.life-=15\n",
    "        print(f'마법사가 공격당함!! life={self.life}')\n"
   ]
  },
  {
   "cell_type": "code",
   "execution_count": 72,
   "metadata": {},
   "outputs": [],
   "source": [
    "character = Character()\n",
    "warrior=Warrior()\n",
    "wizard=Wizard()"
   ]
  },
  {
   "cell_type": "code",
   "execution_count": 73,
   "metadata": {},
   "outputs": [
    {
     "name": "stdout",
     "output_type": "stream",
     "text": [
      "공격받음! 생명력 = 990\n",
      "전사가 공격당함!! life=995\n",
      "마법사가 공격당함!! life=985\n"
     ]
    }
   ],
   "source": [
    "character.attacked()\n",
    "warrior.attacked()\n",
    "wizard.attacked()"
   ]
  },
  {
   "cell_type": "code",
   "execution_count": 87,
   "metadata": {},
   "outputs": [],
   "source": [
    "class Complex():\n",
    "    def __init__(self,r,i):\n",
    "        self.r = r\n",
    "        self.i = i\n",
    "\n",
    "    def __repr__(self):\n",
    "        return f'Complex-[r:{self.r},i:{self.i}]'\n",
    "    \n",
    "    def __str__(self):\n",
    "        return f'r:{self.r},i:{self.i}'\n",
    "    \n",
    "    def __getitem__(self,key):\n",
    "        if key == 'i':\n",
    "            return self.i\n",
    "        if key == 'r':\n",
    "             return self.r"
   ]
  },
  {
   "cell_type": "code",
   "execution_count": 88,
   "metadata": {},
   "outputs": [
    {
     "data": {
      "text/plain": [
       "Complex-[r:1,i:2]"
      ]
     },
     "execution_count": 88,
     "metadata": {},
     "output_type": "execute_result"
    }
   ],
   "source": [
    "complex=Complex(1,2)\n",
    "complex"
   ]
  },
  {
   "cell_type": "code",
   "execution_count": 89,
   "metadata": {},
   "outputs": [
    {
     "data": {
      "text/plain": [
       "'r:1,i:2'"
      ]
     },
     "execution_count": 89,
     "metadata": {},
     "output_type": "execute_result"
    }
   ],
   "source": [
    "str(complex)"
   ]
  },
  {
   "cell_type": "code",
   "execution_count": 90,
   "metadata": {},
   "outputs": [
    {
     "name": "stdout",
     "output_type": "stream",
     "text": [
      "2\n",
      "1\n"
     ]
    }
   ],
   "source": [
    "print(complex['i'])\n",
    "print(complex['r'])"
   ]
  },
  {
   "cell_type": "code",
   "execution_count": null,
   "metadata": {},
   "outputs": [],
   "source": [
    "# 특수 메서드\n",
    "# 파이썬 클래스에서 제공하는 __메서드명__ 형태의 메서드\n",
    "# __repr__(self): 인스턴스 자체 출력시 표현할 방법을 작성\n",
    "# __str__(self): 인스턴스를 문자열로 형변환할 때 표현할 방법을 작성\n",
    "# __getitem__(self,key): 인스턴스를 딕셔너리와 같이 'key'로 속성 값을\n",
    "# 가져올 수 있도록 하는 방법을 작성 "
   ]
  },
  {
   "cell_type": "code",
   "execution_count": 246,
   "metadata": {},
   "outputs": [],
   "source": [
    "class Car():\n",
    "    def __init__(self,max_speed,speed):\n",
    "        self.max_speed = max_speed\n",
    "        self.speed = speed\n",
    "        self.gap_speed = 45;\n",
    "\n",
    "    def speed_up(self):\n",
    "        if self.speed <=self.max_speed-self.gap_speed:\n",
    "            self.speed += self.gap_speed\n",
    "        print(f'속도는 {self.speed}')\n",
    "\n",
    "    def speed_down(self):\n",
    "        if self.speed >self.gap_speed:\n",
    "            self.speed -= self.gap_speed\n",
    "        print(f'속도는 {self.speed}')"
   ]
  },
  {
   "cell_type": "code",
   "execution_count": 167,
   "metadata": {},
   "outputs": [
    {
     "name": "stdout",
     "output_type": "stream",
     "text": [
      "속도는 0\n"
     ]
    }
   ],
   "source": [
    "\n",
    "car.speed_down()\n"
   ]
  },
  {
   "cell_type": "code",
   "execution_count": 247,
   "metadata": {},
   "outputs": [],
   "source": [
    "class SportCar(Car):\n",
    "    def __init__(self,max_speed,speed):\n",
    "        super.__init__()\n",
    "        self.max_speed = max_speed\n",
    "        self.speed = speed\n",
    "        self.gap_speed = 45;\n",
    "    \n"
   ]
  },
  {
   "cell_type": "code",
   "execution_count": 248,
   "metadata": {},
   "outputs": [
    {
     "ename": "TypeError",
     "evalue": "descriptor '__init__' of 'super' object needs an argument",
     "output_type": "error",
     "traceback": [
      "\u001b[1;31m---------------------------------------------------------------------------\u001b[0m",
      "\u001b[1;31mTypeError\u001b[0m                                 Traceback (most recent call last)",
      "Cell \u001b[1;32mIn[248], line 1\u001b[0m\n\u001b[1;32m----> 1\u001b[0m sportCar\u001b[38;5;241m=\u001b[39m\u001b[43mSportCar\u001b[49m\u001b[43m(\u001b[49m\u001b[38;5;241;43m200\u001b[39;49m\u001b[43m,\u001b[49m\u001b[38;5;241;43m45\u001b[39;49m\u001b[43m)\u001b[49m\n",
      "Cell \u001b[1;32mIn[247], line 3\u001b[0m, in \u001b[0;36mSportCar.__init__\u001b[1;34m(self, max_speed, speed)\u001b[0m\n\u001b[0;32m      2\u001b[0m \u001b[38;5;28;01mdef\u001b[39;00m \u001b[38;5;21m__init__\u001b[39m(\u001b[38;5;28mself\u001b[39m,max_speed,speed):\n\u001b[1;32m----> 3\u001b[0m     \u001b[38;5;28;43msuper\u001b[39;49m\u001b[38;5;241;43m.\u001b[39;49m\u001b[38;5;21;43m__init__\u001b[39;49m\u001b[43m(\u001b[49m\u001b[43m)\u001b[49m\n\u001b[0;32m      4\u001b[0m     \u001b[38;5;28mself\u001b[39m\u001b[38;5;241m.\u001b[39mmax_speed \u001b[38;5;241m=\u001b[39m max_speed\n\u001b[0;32m      5\u001b[0m     \u001b[38;5;28mself\u001b[39m\u001b[38;5;241m.\u001b[39mspeed \u001b[38;5;241m=\u001b[39m speed\n",
      "\u001b[1;31mTypeError\u001b[0m: descriptor '__init__' of 'super' object needs an argument"
     ]
    }
   ],
   "source": [
    "sportCar=SportCar(200,45)"
   ]
  },
  {
   "cell_type": "code",
   "execution_count": 269,
   "metadata": {},
   "outputs": [
    {
     "name": "stdout",
     "output_type": "stream",
     "text": [
      "속도는 180\n"
     ]
    }
   ],
   "source": [
    "sportCar.speed_up()"
   ]
  },
  {
   "cell_type": "code",
   "execution_count": 274,
   "metadata": {},
   "outputs": [
    {
     "name": "stdout",
     "output_type": "stream",
     "text": [
      "속도는 45\n"
     ]
    }
   ],
   "source": [
    "sportCar.speed_down()"
   ]
  }
 ],
 "metadata": {
  "kernelspec": {
   "display_name": "Python 3",
   "language": "python",
   "name": "python3"
  },
  "language_info": {
   "codemirror_mode": {
    "name": "ipython",
    "version": 3
   },
   "file_extension": ".py",
   "mimetype": "text/x-python",
   "name": "python",
   "nbconvert_exporter": "python",
   "pygments_lexer": "ipython3",
   "version": "3.12.2"
  }
 },
 "nbformat": 4,
 "nbformat_minor": 2
}
