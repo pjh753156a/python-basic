{
 "cells": [
  {
   "cell_type": "markdown",
   "metadata": {},
   "source": [
    "### 넘파이 배열 \n",
    "파이썬 리스트의 단점인 원소의 자료형 지정 불가, 많은 메모리 차지의 문제를 \n",
    "해결하고자 수치 해석 프로그램에서는 numby라고하는 배열 패키지를 사용\n",
    "numpy배열의 경우 자체적 C언어로 구현되어 있어 자료형 지정과 메모리 절약\n",
    "효과를 볼 수 있음"
   ]
  },
  {
   "cell_type": "markdown",
   "metadata": {},
   "source": [
    "### NumPy import\n",
    "numpy 패키지를 사용하려면 먼저 패키지를 설치해야 함\n",
    "``` bash\n",
    "pip install numpy\n",
    "```\n",
    "\n",
    "numpy 패키지를 프로그램에서 사용하려면 import해야 함\n",
    "``` python\n",
    "import numpy\n",
    "import numpy as np\n",
    "```"
   ]
  },
  {
   "cell_type": "code",
   "execution_count": 1,
   "metadata": {},
   "outputs": [],
   "source": [
    "import numpy as np"
   ]
  },
  {
   "cell_type": "markdown",
   "metadata": {},
   "source": [
    "### 1차원 배열 만들기\n",
    "넘파이의 'array'함수를 사용하여 리스트를 'ndarray'타입으로 변경 가능"
   ]
  },
  {
   "cell_type": "code",
   "execution_count": 2,
   "metadata": {},
   "outputs": [
    {
     "data": {
      "text/plain": [
       "array([0, 1, 2, 3, 4])"
      ]
     },
     "execution_count": 2,
     "metadata": {},
     "output_type": "execute_result"
    }
   ],
   "source": [
    "ndarray_ = np.array([0,1,2,3,4])\n",
    "ndarray_"
   ]
  },
  {
   "cell_type": "code",
   "execution_count": 3,
   "metadata": {},
   "outputs": [
    {
     "data": {
      "text/plain": [
       "numpy.ndarray"
      ]
     },
     "execution_count": 3,
     "metadata": {},
     "output_type": "execute_result"
    }
   ],
   "source": [
    "type(ndarray_)"
   ]
  },
  {
   "cell_type": "code",
   "execution_count": 4,
   "metadata": {},
   "outputs": [
    {
     "data": {
      "text/plain": [
       "array([1., 2., 3., 4.])"
      ]
     },
     "execution_count": 4,
     "metadata": {},
     "output_type": "execute_result"
    }
   ],
   "source": [
    "floats = np.array([1.0,2.0,3.0,4.0])\n",
    "floats"
   ]
  },
  {
   "cell_type": "code",
   "execution_count": 5,
   "metadata": {},
   "outputs": [
    {
     "data": {
      "text/plain": [
       "array([0.1, 0.2, 0.3, 0.4])"
      ]
     },
     "execution_count": 5,
     "metadata": {},
     "output_type": "execute_result"
    }
   ],
   "source": [
    "floats = np.array([0.1,0.2,0.3,0.4])\n",
    "floats"
   ]
  },
  {
   "cell_type": "markdown",
   "metadata": {},
   "source": [
    "파이썬 리스트와는 다르게 numpy의 배열의 요소는 모두 같은 타입이어야 함\n",
    "이러한 numpy 배열의 특성 때문에 요소에 대한 접근 속도가 빠름"
   ]
  },
  {
   "cell_type": "code",
   "execution_count": 6,
   "metadata": {},
   "outputs": [
    {
     "data": {
      "text/plain": [
       "array([1. , 1.5, 2. ])"
      ]
     },
     "execution_count": 6,
     "metadata": {},
     "output_type": "execute_result"
    }
   ],
   "source": [
    "ndarray_ = np.array([1,1.5,2])\n",
    "ndarray_"
   ]
  },
  {
   "cell_type": "code",
   "execution_count": 7,
   "metadata": {},
   "outputs": [
    {
     "data": {
      "text/plain": [
       "array(['문자열', '1', '1.5'], dtype='<U32')"
      ]
     },
     "execution_count": 7,
     "metadata": {},
     "output_type": "execute_result"
    }
   ],
   "source": [
    "ndarray_ = np.array(['문자열',1,1.5])\n",
    "ndarray_"
   ]
  },
  {
   "cell_type": "markdown",
   "metadata": {},
   "source": [
    "### 벡터화 연산\n",
    "numpy 배열은 각 원소에 대한 반복 연산을 간단한 명령으로 처리할 수 있는 벡터화\n",
    "연산을 지원"
   ]
  },
  {
   "cell_type": "code",
   "execution_count": 9,
   "metadata": {},
   "outputs": [
    {
     "data": {
      "text/plain": [
       "[0, 2, 4, 6, 8, 10, 12, 14, 16, 18]"
      ]
     },
     "execution_count": 9,
     "metadata": {},
     "output_type": "execute_result"
    }
   ],
   "source": [
    "# 각 요소를 2씩 곱하는 연산\n",
    "# 리스트를 사용했을 때\n",
    "numbers = list(range(10))\n",
    "\n",
    "result = []\n",
    "for number in numbers:\n",
    "    result.append(number*2)\n",
    "\n",
    "result"
   ]
  },
  {
   "cell_type": "code",
   "execution_count": 10,
   "metadata": {},
   "outputs": [
    {
     "data": {
      "text/plain": [
       "array([ 0,  2,  4,  6,  8, 10, 12, 14, 16, 18])"
      ]
     },
     "execution_count": 10,
     "metadata": {},
     "output_type": "execute_result"
    }
   ],
   "source": [
    "# numpy array를 사용했을 때\n",
    "numpy_numbers = np.array(numbers)\n",
    "result = 2*numpy_numbers\n",
    "result"
   ]
  },
  {
   "cell_type": "code",
   "execution_count": 11,
   "metadata": {},
   "outputs": [
    {
     "data": {
      "text/plain": [
       "[0, 1, 2, 3, 4, 5, 6, 7, 8, 9, 0, 1, 2, 3, 4, 5, 6, 7, 8, 9]"
      ]
     },
     "execution_count": 11,
     "metadata": {},
     "output_type": "execute_result"
    }
   ],
   "source": [
    "result = 2*numbers\n",
    "result"
   ]
  },
  {
   "cell_type": "markdown",
   "metadata": {},
   "source": [
    "넘파이 배열의 벡터화 연산은 모든 종류의 연산에 적용이 가능"
   ]
  },
  {
   "cell_type": "code",
   "execution_count": 13,
   "metadata": {},
   "outputs": [
    {
     "data": {
      "text/plain": [
       "(array([0, 1, 2, 3, 4]), array([5, 6, 7, 8, 9]))"
      ]
     },
     "execution_count": 13,
     "metadata": {},
     "output_type": "execute_result"
    }
   ],
   "source": [
    "numbers1 = np.array(list(range(5)))\n",
    "numbers2 = np.array(list(range(5,10)))\n",
    "numbers1,numbers2"
   ]
  },
  {
   "cell_type": "code",
   "execution_count": 14,
   "metadata": {},
   "outputs": [
    {
     "data": {
      "text/plain": [
       "array([ 5, 11, 17, 23, 29])"
      ]
     },
     "execution_count": 14,
     "metadata": {},
     "output_type": "execute_result"
    }
   ],
   "source": [
    "result=(numbers1*5)+numbers2\n",
    "result"
   ]
  },
  {
   "cell_type": "code",
   "execution_count": 15,
   "metadata": {},
   "outputs": [
    {
     "data": {
      "text/plain": [
       "array([False, False, False,  True, False])"
      ]
     },
     "execution_count": 15,
     "metadata": {},
     "output_type": "execute_result"
    }
   ],
   "source": [
    "result=numbers1==3\n",
    "result"
   ]
  },
  {
   "cell_type": "code",
   "execution_count": 16,
   "metadata": {},
   "outputs": [
    {
     "name": "stdout",
     "output_type": "stream",
     "text": [
      "[False False False  True  True]\n",
      "[False False False  True  True]\n",
      "[ True  True  True  True  True]\n",
      "[False False False  True  True]\n"
     ]
    }
   ],
   "source": [
    "result = (numbers1 > 2) & (numbers2 <10)\n",
    "print(result)\n",
    "print(numbers1 > 2)\n",
    "print(numbers2 <10)\n",
    "print(result)\n"
   ]
  },
  {
   "cell_type": "markdown",
   "metadata": {},
   "source": [
    "### 2차원 배열\n",
    "2차원 배열을 생성할 때는 요소를 리스트로 가지는 리스트를 'array()'의 매개변수로\n",
    "전달하면 2차원 배열을 생성할 수 있음"
   ]
  },
  {
   "cell_type": "code",
   "execution_count": 17,
   "metadata": {},
   "outputs": [
    {
     "name": "stdout",
     "output_type": "stream",
     "text": [
      "[[1 2 3]\n",
      " [4 5 6]\n",
      " [7 8 9]]\n"
     ]
    },
    {
     "data": {
      "text/plain": [
       "array([[1, 2, 3],\n",
       "       [4, 5, 6],\n",
       "       [7, 8, 9]])"
      ]
     },
     "execution_count": 17,
     "metadata": {},
     "output_type": "execute_result"
    }
   ],
   "source": [
    "matrix = [\n",
    "    [1,2,3],\n",
    "    [4,5,6],\n",
    "    [7,8,9]\n",
    "    ]\n",
    "numpy_matrix = np.array(matrix)\n",
    "print(numpy_matrix)\n",
    "numpy_matrix"
   ]
  },
  {
   "cell_type": "code",
   "execution_count": 18,
   "metadata": {},
   "outputs": [
    {
     "data": {
      "text/plain": [
       "3"
      ]
     },
     "execution_count": 18,
     "metadata": {},
     "output_type": "execute_result"
    }
   ],
   "source": [
    "len(numpy_matrix)"
   ]
  },
  {
   "cell_type": "code",
   "execution_count": 19,
   "metadata": {},
   "outputs": [
    {
     "data": {
      "text/plain": [
       "array([1, 2, 3])"
      ]
     },
     "execution_count": 19,
     "metadata": {},
     "output_type": "execute_result"
    }
   ],
   "source": [
    "numpy_matrix[0]"
   ]
  },
  {
   "cell_type": "code",
   "execution_count": 20,
   "metadata": {},
   "outputs": [
    {
     "data": {
      "text/plain": [
       "3"
      ]
     },
     "execution_count": 20,
     "metadata": {},
     "output_type": "execute_result"
    }
   ],
   "source": [
    "len(numpy_matrix[0])"
   ]
  },
  {
   "cell_type": "markdown",
   "metadata": {},
   "source": [
    "### 3차원 배열 만들기\n",
    "리스트의 요소로 2차원형태를 띄는 리스트를 지정하면 3차원 배열로 만들 수 있음"
   ]
  },
  {
   "cell_type": "code",
   "execution_count": 21,
   "metadata": {},
   "outputs": [
    {
     "data": {
      "text/plain": [
       "array([[[ 1,  2,  3,  4],\n",
       "        [ 5,  6,  7,  8],\n",
       "        [ 9, 10, 11, 12]],\n",
       "\n",
       "       [[13, 14, 15, 16],\n",
       "        [17, 18, 19, 20],\n",
       "        [21, 22, 23, 24]]])"
      ]
     },
     "execution_count": 21,
     "metadata": {},
     "output_type": "execute_result"
    }
   ],
   "source": [
    "three_d = [\n",
    "    [\n",
    "        [1,2,3,4],\n",
    "        [5,6,7,8],\n",
    "        [9,10,11,12]\n",
    "    ],\n",
    "    [\n",
    "        [13,14,15,16],\n",
    "        [17,18,19,20],\n",
    "        [21,22,23,24]\n",
    "    ]\n",
    "]\n",
    "numpy_three_d = np.array(three_d)\n",
    "numpy_three_d"
   ]
  },
  {
   "cell_type": "markdown",
   "metadata": {},
   "source": [
    "### 배열의 차원과 크기 구하기\n",
    "`ndim()`:배열의 차원을 정수로 반환\n",
    "`shape`:배열의 각 차원의 크기를 정수의 튜플로 반환\n"
   ]
  },
  {
   "cell_type": "markdown",
   "metadata": {},
   "source": [
    "1"
   ]
  },
  {
   "cell_type": "code",
   "execution_count": 22,
   "metadata": {},
   "outputs": [
    {
     "data": {
      "text/plain": [
       "(2, (3, 3))"
      ]
     },
     "execution_count": 22,
     "metadata": {},
     "output_type": "execute_result"
    }
   ],
   "source": [
    "numpy_matrix.ndim,numpy_matrix.shape"
   ]
  },
  {
   "cell_type": "code",
   "execution_count": 23,
   "metadata": {},
   "outputs": [
    {
     "data": {
      "text/plain": [
       "(3, (2, 3, 4))"
      ]
     },
     "execution_count": 23,
     "metadata": {},
     "output_type": "execute_result"
    }
   ],
   "source": [
    "numpy_three_d.ndim, numpy_three_d.shape"
   ]
  },
  {
   "cell_type": "markdown",
   "metadata": {},
   "source": [
    "### numpy 배열의 인덱싱\n",
    "일반적으로 `배열변수[인덱스]`의 형태로 사용함\n",
    "다차원 형태일 경우는 일반 리스트와 다르게 `배열변수[인덱스,인덱스,...]`의 형태로 사용함\n",
    "일반 2차원 리스트: `리스트[인덱스][인덱스]`\n",
    "numpy 2차원 배열: `배열[인덱스,인덱스]`"
   ]
  },
  {
   "cell_type": "code",
   "execution_count": 24,
   "metadata": {},
   "outputs": [
    {
     "data": {
      "text/plain": [
       "[[[1, 2, 3, 4], [5, 6, 7, 8], [9, 10, 11, 12]],\n",
       " [[13, 14, 15, 16], [17, 18, 19, 20], [21, 22, 23, 24]]]"
      ]
     },
     "execution_count": 24,
     "metadata": {},
     "output_type": "execute_result"
    }
   ],
   "source": [
    "# 일반 3차원 리스트\n",
    "three_d\n"
   ]
  },
  {
   "cell_type": "code",
   "execution_count": 25,
   "metadata": {},
   "outputs": [
    {
     "data": {
      "text/plain": [
       "16"
      ]
     },
     "execution_count": 25,
     "metadata": {},
     "output_type": "execute_result"
    }
   ],
   "source": [
    "three_d[1][0][3]"
   ]
  },
  {
   "cell_type": "code",
   "execution_count": 27,
   "metadata": {},
   "outputs": [
    {
     "data": {
      "text/plain": [
       "array([[[ 1,  2,  3,  4],\n",
       "        [ 5,  6,  7,  8],\n",
       "        [ 9, 10, 11, 12]],\n",
       "\n",
       "       [[13, 14, 15, 16],\n",
       "        [17, 18, 19, 20],\n",
       "        [21, 22, 23, 24]]])"
      ]
     },
     "execution_count": 27,
     "metadata": {},
     "output_type": "execute_result"
    }
   ],
   "source": [
    "# numpy 3차원 배열\n",
    "numpy_three_d"
   ]
  },
  {
   "cell_type": "code",
   "execution_count": 28,
   "metadata": {},
   "outputs": [
    {
     "data": {
      "text/plain": [
       "16"
      ]
     },
     "execution_count": 28,
     "metadata": {},
     "output_type": "execute_result"
    }
   ],
   "source": [
    "numpy_three_d[1,0,3]"
   ]
  },
  {
   "cell_type": "markdown",
   "metadata": {},
   "source": [
    "### numpy 배열 슬라이싱\n",
    "일반 리스트에서 사용하는 배열 슬라이싱 방법, `리스트[시작인덱스:종료인덱스]`와 동일함\n",
    "단, 다차원 배열일 경우 인덱스를 여러개 지정할 때 `,`를 써야하는 것에 주의\n"
   ]
  },
  {
   "cell_type": "code",
   "execution_count": 29,
   "metadata": {},
   "outputs": [
    {
     "data": {
      "text/plain": [
       "array([[1, 2, 3],\n",
       "       [4, 5, 6],\n",
       "       [7, 8, 9]])"
      ]
     },
     "execution_count": 29,
     "metadata": {},
     "output_type": "execute_result"
    }
   ],
   "source": [
    "numpy_matrix"
   ]
  },
  {
   "cell_type": "code",
   "execution_count": 30,
   "metadata": {},
   "outputs": [
    {
     "data": {
      "text/plain": [
       "array([[1, 2, 3],\n",
       "       [4, 5, 6],\n",
       "       [7, 8, 9]])"
      ]
     },
     "execution_count": 30,
     "metadata": {},
     "output_type": "execute_result"
    }
   ],
   "source": [
    "numpy_matrix[:]"
   ]
  },
  {
   "cell_type": "code",
   "execution_count": 31,
   "metadata": {},
   "outputs": [
    {
     "data": {
      "text/plain": [
       "array([[1, 2, 3],\n",
       "       [4, 5, 6]])"
      ]
     },
     "execution_count": 31,
     "metadata": {},
     "output_type": "execute_result"
    }
   ],
   "source": [
    "numpy_matrix[:2]"
   ]
  },
  {
   "cell_type": "code",
   "execution_count": 32,
   "metadata": {},
   "outputs": [
    {
     "data": {
      "text/plain": [
       "array([1, 2])"
      ]
     },
     "execution_count": 32,
     "metadata": {},
     "output_type": "execute_result"
    }
   ],
   "source": [
    "numpy_matrix[0,:2]"
   ]
  },
  {
   "cell_type": "markdown",
   "metadata": {},
   "source": []
  },
  {
   "cell_type": "code",
   "execution_count": 33,
   "metadata": {},
   "outputs": [
    {
     "data": {
      "text/plain": [
       "array([1, 4])"
      ]
     },
     "execution_count": 33,
     "metadata": {},
     "output_type": "execute_result"
    }
   ],
   "source": [
    "numpy_matrix[:2,0]"
   ]
  },
  {
   "cell_type": "markdown",
   "metadata": {},
   "source": []
  },
  {
   "cell_type": "code",
   "execution_count": 34,
   "metadata": {},
   "outputs": [
    {
     "data": {
      "text/plain": [
       "array([[5, 6],\n",
       "       [8, 9]])"
      ]
     },
     "execution_count": 34,
     "metadata": {},
     "output_type": "execute_result"
    }
   ],
   "source": [
    "numpy_matrix[1:,1:]"
   ]
  },
  {
   "cell_type": "code",
   "execution_count": 35,
   "metadata": {},
   "outputs": [
    {
     "data": {
      "text/plain": [
       "array([[[1, 2],\n",
       "        [5, 6]]])"
      ]
     },
     "execution_count": 35,
     "metadata": {},
     "output_type": "execute_result"
    }
   ],
   "source": [
    "numpy_three_d[:1,:2,:2]"
   ]
  },
  {
   "cell_type": "markdown",
   "metadata": {},
   "source": [
    "#### 파이썬으로 다음 연산을 수행한다.\n",
    "다음 행렬과 같은 행렬이 있다.\n",
    "```python\n",
    "m = np.array([[0,1,2,3,4],\n",
    "            [5,6,7,8,9],\n",
    "            [10,11,12,13,14]])\n",
    "```\n",
    "### 이행령에서 값7을 인덱싱 한다.\n",
    "### 이행령에서 값14을 인덱싱 한다.\n",
    "### 이행령에서 배열[6,7]을 슬라이싱 한다.\n",
    "### 이행령에서 배열[7,12]을 슬라이싱 한다.\n",
    "### 이행령에서 배열[[3,4],[8,9]]을 슬라이싱 한다."
   ]
  },
  {
   "cell_type": "code",
   "execution_count": 37,
   "metadata": {},
   "outputs": [],
   "source": [
    "m = np.array([[0,1,2,3,4],\n",
    "            [5,6,7,8,9],\n",
    "            [10,11,12,13,14]])"
   ]
  },
  {
   "cell_type": "code",
   "execution_count": 38,
   "metadata": {},
   "outputs": [
    {
     "name": "stdout",
     "output_type": "stream",
     "text": [
      "7\n",
      "14\n",
      "[6 7]\n",
      "[ 7 12]\n",
      "[[3 4]\n",
      " [8 9]]\n"
     ]
    }
   ],
   "source": [
    "print(m[1,2])\n",
    "print(m[2,4])\n",
    "print(m[1,1:3])\n",
    "print(m[1:,2])\n",
    "print(m[:2,3:])"
   ]
  },
  {
   "cell_type": "markdown",
   "metadata": {},
   "source": [
    "### 배열 인덱싱\n",
    "** 팬시 인덱싱(fancy indexing) ** 이라고 부르는 배열 인덱싱 기법이 존재함\n",
    "이 배열 인덱싱은 인덱스로 정수형태나 슬라이스 형태로 인덱스를 전달하는 게 아니라\n",
    "인덱스로 또 다른 넘파이 배열을 전달하여 그에 부합하는 새로운 배열을 반환"
   ]
  },
  {
   "cell_type": "markdown",
   "metadata": {},
   "source": [
    "#### 불리언 배열 인덱싱 \n",
    "`true`,`False` 두 형태로만 이루어진 배열을 인덱스로 전달하여 `True`가 위치한 값만 반환하여\n",
    "새로운 배열을 만드는 인덱싱 기법\n",
    "불리언 배열 인덱싱 기법은 기존 배열과 인덱스로 전달하는 배열의 크기가 같아야 함"
   ]
  },
  {
   "cell_type": "code",
   "execution_count": 39,
   "metadata": {},
   "outputs": [
    {
     "data": {
      "text/plain": [
       "array([1, 2, 6, 7, 8])"
      ]
     },
     "execution_count": 39,
     "metadata": {},
     "output_type": "execute_result"
    }
   ],
   "source": [
    "numpy_array=np.array([1,2,3,4,5,6,7,8])\n",
    "index_array=np.array([True,True,False,False,False,True,True,True])\n",
    "numpy_array[index_array]"
   ]
  },
  {
   "cell_type": "markdown",
   "metadata": {},
   "source": [
    "조건 연산을 통해서도 불리언 인덱싱 처리를 할 수 있음"
   ]
  },
  {
   "cell_type": "code",
   "execution_count": 40,
   "metadata": {},
   "outputs": [
    {
     "data": {
      "text/plain": [
       "array([1, 0, 1, 0, 1, 0, 1, 0], dtype=int32)"
      ]
     },
     "execution_count": 40,
     "metadata": {},
     "output_type": "execute_result"
    }
   ],
   "source": [
    "numpy_array % 2"
   ]
  },
  {
   "cell_type": "code",
   "execution_count": 41,
   "metadata": {},
   "outputs": [
    {
     "data": {
      "text/plain": [
       "array([False,  True, False,  True, False,  True, False,  True])"
      ]
     },
     "execution_count": 41,
     "metadata": {},
     "output_type": "execute_result"
    }
   ],
   "source": [
    "numpy_array % 2 == 0"
   ]
  },
  {
   "cell_type": "code",
   "execution_count": 42,
   "metadata": {},
   "outputs": [
    {
     "data": {
      "text/plain": [
       "array([2, 4, 6, 8])"
      ]
     },
     "execution_count": 42,
     "metadata": {},
     "output_type": "execute_result"
    }
   ],
   "source": [
    "numpy_array[numpy_array % 2 == 0]"
   ]
  },
  {
   "cell_type": "markdown",
   "metadata": {},
   "source": [
    "#### 정수 배열 인덱싱\n",
    "인덱스 배열의 원소의 값이 기존 넘파이 배열의 원소의 인덱스를 가리키는 정수로 구성된 배열을 인덱스로\n",
    "전달하여 해당하는 인덱스의 값들로 새로운 배열을 반환하는 기법"
   ]
  },
  {
   "cell_type": "code",
   "execution_count": 44,
   "metadata": {},
   "outputs": [
    {
     "data": {
      "text/plain": [
       "array([1, 2, 3, 4, 5, 6, 7, 8])"
      ]
     },
     "execution_count": 44,
     "metadata": {},
     "output_type": "execute_result"
    }
   ],
   "source": [
    "numpy_array\n"
   ]
  },
  {
   "cell_type": "code",
   "execution_count": 47,
   "metadata": {},
   "outputs": [
    {
     "data": {
      "text/plain": [
       "array([0, 2, 3, 6, 0, 2, 3, 6, 0, 2, 3, 6])"
      ]
     },
     "execution_count": 47,
     "metadata": {},
     "output_type": "execute_result"
    }
   ],
   "source": [
    "index_array=np.array([0,2,3,6,0,2,3,6,0,2,3,6])\n",
    "index_array"
   ]
  },
  {
   "cell_type": "code",
   "execution_count": 48,
   "metadata": {},
   "outputs": [
    {
     "data": {
      "text/plain": [
       "array([1, 3, 4, 7, 1, 3, 4, 7, 1, 3, 4, 7])"
      ]
     },
     "execution_count": 48,
     "metadata": {},
     "output_type": "execute_result"
    }
   ],
   "source": [
    "numpy_array[index_array]"
   ]
  },
  {
   "cell_type": "code",
   "execution_count": 49,
   "metadata": {},
   "outputs": [
    {
     "data": {
      "text/plain": [
       "array([ 0,  2, 20])"
      ]
     },
     "execution_count": 49,
     "metadata": {},
     "output_type": "execute_result"
    }
   ],
   "source": [
    "index_array=np.array([0,2,20])\n",
    "index_array"
   ]
  },
  {
   "cell_type": "code",
   "execution_count": 50,
   "metadata": {},
   "outputs": [
    {
     "ename": "IndexError",
     "evalue": "index 20 is out of bounds for axis 0 with size 8",
     "output_type": "error",
     "traceback": [
      "\u001b[1;31m---------------------------------------------------------------------------\u001b[0m",
      "\u001b[1;31mIndexError\u001b[0m                                Traceback (most recent call last)",
      "Cell \u001b[1;32mIn[50], line 1\u001b[0m\n\u001b[1;32m----> 1\u001b[0m \u001b[43mnumpy_array\u001b[49m\u001b[43m[\u001b[49m\u001b[43mindex_array\u001b[49m\u001b[43m]\u001b[49m\n",
      "\u001b[1;31mIndexError\u001b[0m: index 20 is out of bounds for axis 0 with size 8"
     ]
    }
   ],
   "source": [
    "numpy_array[index_array]"
   ]
  },
  {
   "cell_type": "markdown",
   "metadata": {},
   "source": [
    "인덱스 배열로 사용되는 정수 배열은 기존 배열의 길이보다 커도 사용 가능\n",
    "이때, 반환되는 배열의 길이는 인덱스 배열로 전달한 배열의 길이로 결정이 됨\n",
    "\n",
    "인덱스 배열로 사용되는 정수 배열의 요소는 기존 배열의 최대 인덱스 범위를 벗어나는 값이 존재할 경우\n",
    "예외가 발생함"
   ]
  },
  {
   "cell_type": "markdown",
   "metadata": {},
   "source": [
    "#### 다차원 배열에서 배열 인덱싱\n"
   ]
  },
  {
   "cell_type": "code",
   "execution_count": 52,
   "metadata": {},
   "outputs": [
    {
     "data": {
      "text/plain": [
       "array([[1, 3],\n",
       "       [4, 6]])"
      ]
     },
     "execution_count": 52,
     "metadata": {},
     "output_type": "execute_result"
    }
   ],
   "source": [
    "index_array = np.array([True,False,True])\n",
    "numpy_matrix[:2,index_array]"
   ]
  },
  {
   "cell_type": "code",
   "execution_count": null,
   "metadata": {},
   "outputs": [
    {
     "data": {
      "text/plain": [
       "array([[7, 8, 9],\n",
       "       [4, 5, 6],\n",
       "       [1, 2, 3]])"
      ]
     },
     "execution_count": 124,
     "metadata": {},
     "output_type": "execute_result"
    }
   ],
   "source": [
    "# 배열 인덱스 값으로 정수 리스트를 전달하면 배열의 순서가 변경됨\n",
    "numpy_matrix[[2,1,0],:]"
   ]
  },
  {
   "cell_type": "markdown",
   "metadata": {},
   "source": [
    "파이썬으로 다음 연산을 수행한다.\n",
    "다음과 같은 행렬과 같은 배열이 있다."
   ]
  },
  {
   "cell_type": "code",
   "execution_count": 54,
   "metadata": {},
   "outputs": [
    {
     "name": "stdout",
     "output_type": "stream",
     "text": [
      "[ 3  6  9 12 15 18]\n",
      "[ 1  5  9 13 17]\n",
      "[9]\n"
     ]
    }
   ],
   "source": [
    "x = np.array([1,2,3,4,5,6,7,8,9,10,\n",
    "11,12,13,14,15,16,17,18,19,20])\n",
    "\n",
    "# 1.이 배열에서 3의 배수를 찾아라\n",
    "print(x[x%3==0])\n",
    "# 2.이 배열에서 4로 나누면 1이 남는 수를 찾아라\n",
    "print(x[x%4==1])\n",
    "# 3. 이 배열에서 3으로 나누면 나누어지고 4로 나누면 1이 남는 수를 찾아라\n",
    "print(x[(x%4==1) & (x%3==0)])"
   ]
  },
  {
   "cell_type": "code",
   "execution_count": null,
   "metadata": {},
   "outputs": [],
   "source": [
    "### numpy 배열의 자료형\n",
    "# numpy 배열의 원소는 모두 같은 데이터 타입을 가지고 있음\n",
    "# numpy 배열의 데이터 타입을 확인하고자 한다면 `dtype`속성으로 확인가능"
   ]
  },
  {
   "cell_type": "markdown",
   "metadata": {},
   "source": []
  },
  {
   "cell_type": "code",
   "execution_count": 55,
   "metadata": {},
   "outputs": [
    {
     "data": {
      "text/plain": [
       "dtype('int32')"
      ]
     },
     "execution_count": 55,
     "metadata": {},
     "output_type": "execute_result"
    }
   ],
   "source": [
    "numpy_array = np.array([1,2,3])\n",
    "numpy_array.dtype"
   ]
  },
  {
   "cell_type": "code",
   "execution_count": 56,
   "metadata": {},
   "outputs": [
    {
     "data": {
      "text/plain": [
       "dtype('float64')"
      ]
     },
     "execution_count": 56,
     "metadata": {},
     "output_type": "execute_result"
    }
   ],
   "source": [
    "numpy_array = np.array([1.0,2.0,3.0])\n",
    "numpy_array.dtype"
   ]
  },
  {
   "cell_type": "code",
   "execution_count": 57,
   "metadata": {},
   "outputs": [
    {
     "data": {
      "text/plain": [
       "dtype('<U4')"
      ]
     },
     "execution_count": 57,
     "metadata": {},
     "output_type": "execute_result"
    }
   ],
   "source": [
    "numpy_array = np.array(['1.0','2.0','3.0,'])\n",
    "numpy_array.dtype"
   ]
  },
  {
   "cell_type": "markdown",
   "metadata": {},
   "source": [
    "`array()` 함수를 사용하여 배열을 생성할 때 명시적으로 데이터 타입을 지정하지 않으면\n",
    "자동으로 데이터 타입을 추론하여 지정하게됨\n",
    "만약, 명시적으로 데이터 타입을 지정하고자 한다면 `array()` 함수에 `dtype`매개변수로 데이터 타입을\n",
    "지정해주면 됨"
   ]
  },
  {
   "cell_type": "code",
   "execution_count": 58,
   "metadata": {},
   "outputs": [
    {
     "data": {
      "text/plain": [
       "dtype('float32')"
      ]
     },
     "execution_count": 58,
     "metadata": {},
     "output_type": "execute_result"
    }
   ],
   "source": [
    "numpy_array = np.array(['1.0','2.0','3.0'],dtype='f')\n",
    "numpy_array.dtype"
   ]
  },
  {
   "cell_type": "markdown",
   "metadata": {},
   "source": []
  },
  {
   "cell_type": "markdown",
   "metadata": {},
   "source": [
    "##### dtype의 접두사\n",
    "b:불리언, i:정수, f:실수 ,U:유니코드"
   ]
  },
  {
   "cell_type": "markdown",
   "metadata": {},
   "source": [
    "### numpy에서 Inf와 NaN\n",
    "numpy 배열 연산에서 1을 0으로 나누면 `inf`,-1을 0으로 나누면 `-inf`, 0을 0으로 나누면 `nan`\n",
    "이 반환됨"
   ]
  },
  {
   "cell_type": "markdown",
   "metadata": {},
   "source": [
    "### 배열 생성\n",
    "numpy 배열을 생성하는 방법\n",
    "- `zeros`,`ones`\n",
    "- `zeros_like`,`ones_like`\n",
    "- `empty`\n",
    "- `arange`\n",
    "- `linspace`,`logspace`"
   ]
  },
  {
   "cell_type": "markdown",
   "metadata": {},
   "source": [
    "#### zeros\n",
    "크기가 정해져 있고 원소를 0으로 초기화한 배열을 생성하는 함수"
   ]
  },
  {
   "cell_type": "code",
   "execution_count": 59,
   "metadata": {},
   "outputs": [
    {
     "data": {
      "text/plain": [
       "array([0., 0., 0., 0., 0.])"
      ]
     },
     "execution_count": 59,
     "metadata": {},
     "output_type": "execute_result"
    }
   ],
   "source": [
    "numpy_array=np.zeros(5)\n",
    "numpy_array"
   ]
  },
  {
   "cell_type": "code",
   "execution_count": 60,
   "metadata": {},
   "outputs": [
    {
     "data": {
      "text/plain": [
       "array([[0., 0., 0.],\n",
       "       [0., 0., 0.]])"
      ]
     },
     "execution_count": 60,
     "metadata": {},
     "output_type": "execute_result"
    }
   ],
   "source": [
    "#매개변수로 정수 튜플을 전달하여 다차원 배열 생성도 가능\n",
    "numpy_array=np.zeros((2,3))\n",
    "numpy_array"
   ]
  },
  {
   "cell_type": "code",
   "execution_count": 61,
   "metadata": {},
   "outputs": [
    {
     "data": {
      "text/plain": [
       "array([[0, 0, 0],\n",
       "       [0, 0, 0]], dtype=int32)"
      ]
     },
     "execution_count": 61,
     "metadata": {},
     "output_type": "execute_result"
    }
   ],
   "source": [
    "#dtype을 명시하여 데이터 타입을 지정할 수 있음\n",
    "dtype='i'\n",
    "numpy_array=np.zeros((2,3),dtype='i')\n",
    "numpy_array"
   ]
  },
  {
   "cell_type": "code",
   "execution_count": 62,
   "metadata": {},
   "outputs": [],
   "source": [
    "#만약 dtype으로 문자열 (U)로 지정하게 되면 문자열의 길이가 초과하면 초과된 부분이 손실됨"
   ]
  },
  {
   "cell_type": "code",
   "execution_count": 63,
   "metadata": {},
   "outputs": [],
   "source": [
    "# ones\n",
    "# 크기가 정해져 있고 원소를 1로 초기화한 배열을 생성하는 함수\n",
    "# 'zeros'함수와 사용법이 동일"
   ]
  },
  {
   "cell_type": "code",
   "execution_count": 64,
   "metadata": {},
   "outputs": [
    {
     "data": {
      "text/plain": [
       "array([[[1, 1],\n",
       "        [1, 1]],\n",
       "\n",
       "       [[1, 1],\n",
       "        [1, 1]],\n",
       "\n",
       "       [[1, 1],\n",
       "        [1, 1]]], dtype=int32)"
      ]
     },
     "execution_count": 64,
     "metadata": {},
     "output_type": "execute_result"
    }
   ],
   "source": [
    "ones_array=np.ones((3,2,2),dtype='i')\n",
    "ones_array"
   ]
  },
  {
   "cell_type": "markdown",
   "metadata": {},
   "source": [
    "#### zeros_like,ones_like\n",
    "크기를 직접 지정하지 않고 이미 존재하는 배열의 크기를 본따서 0또는 1로 채워진 배열을 생성하는 함수"
   ]
  },
  {
   "cell_type": "code",
   "execution_count": null,
   "metadata": {},
   "outputs": [
    {
     "data": {
      "text/plain": [
       "array([[[0., 0.],\n",
       "        [0., 0.]],\n",
       "\n",
       "       [[0., 0.],\n",
       "        [0., 0.]],\n",
       "\n",
       "       [[0., 0.],\n",
       "        [0., 0.]]], dtype=float32)"
      ]
     },
     "execution_count": 54,
     "metadata": {},
     "output_type": "execute_result"
    }
   ],
   "source": [
    "zeros_array = np.zeros_like(ones_array,dtype='f')\n",
    "zeros_array"
   ]
  },
  {
   "cell_type": "markdown",
   "metadata": {},
   "source": [
    "#### empty \n",
    "크기만 지정하고 원소의 값은 '쓰레기 데이터'로 채워진 배열을 생성\n",
    "`zeros`,`ones`함수를 사용하여 배열을 생성하는 것보다 배열 생성 속도가 빠름"
   ]
  },
  {
   "cell_type": "code",
   "execution_count": 65,
   "metadata": {},
   "outputs": [
    {
     "data": {
      "text/plain": [
       "array([[0.00000000e+000, 0.00000000e+000, 0.00000000e+000,\n",
       "        6.95324542e-310, 4.64421707e-322, 8.43783222e-312,\n",
       "        8.43783223e-312, 8.43791281e-312, 8.43783224e-312,\n",
       "        8.43783223e-312],\n",
       "       [8.43783222e-312, 8.43783224e-312, 8.43783224e-312,\n",
       "        8.43783224e-312, 8.43783224e-312, 8.43783224e-312,\n",
       "        8.43791287e-312, 8.43791285e-312, 8.43783223e-312,\n",
       "        8.43791280e-312],\n",
       "       [8.43791281e-312, 8.43791287e-312, 8.43783223e-312,\n",
       "        8.43791281e-312, 8.43783224e-312, 8.43783224e-312,\n",
       "        8.43783224e-312, 8.43783224e-312, 8.43791281e-312,\n",
       "        8.43791281e-312],\n",
       "       [8.43783224e-312, 8.43783224e-312, 8.43791281e-312,\n",
       "        8.43791284e-312, 8.43791280e-312, 8.43783224e-312,\n",
       "        8.43783224e-312, 8.43783224e-312, 8.43783224e-312,\n",
       "        8.43791286e-312],\n",
       "       [8.43791283e-312, 8.43791280e-312, 8.43783224e-312,\n",
       "        8.43783224e-312, 8.43783224e-312, 8.43783224e-312,\n",
       "        8.43791280e-312, 8.43783224e-312, 8.43791284e-312,\n",
       "        8.43783224e-312],\n",
       "       [8.43783224e-312, 8.43791282e-312, 8.43783224e-312,\n",
       "        8.43783224e-312, 8.43791286e-312, 8.43783224e-312,\n",
       "        8.43783224e-312, 8.43783224e-312, 8.43791281e-312,\n",
       "        8.43791285e-312],\n",
       "       [8.43783224e-312, 8.43791282e-312, 8.43791283e-312,\n",
       "        8.43783224e-312, 8.43783224e-312, 8.43783224e-312,\n",
       "        8.43783225e-312, 8.43783225e-312, 8.43783225e-312,\n",
       "        8.43783224e-312],\n",
       "       [8.43783224e-312, 8.43783225e-312, 8.43791286e-312,\n",
       "        8.43783224e-312, 8.43783223e-312, 8.43791280e-312,\n",
       "        8.43783225e-312, 8.43791287e-312, 8.43791285e-312,\n",
       "        8.43791286e-312],\n",
       "       [8.43791182e-312, 8.43783225e-312, 8.43783224e-312,\n",
       "        8.43783225e-312, 8.43783225e-312, 8.43783224e-312,\n",
       "        8.43791182e-312, 8.43791180e-312, 8.43783225e-312,\n",
       "        8.43791181e-312],\n",
       "       [8.43783224e-312, 8.43783225e-312, 8.43791181e-312,\n",
       "        8.43791287e-312, 8.43783224e-312, 8.43783221e-312,\n",
       "        8.43791295e-312, 8.43791295e-312, 8.43783225e-312,\n",
       "        1.11253693e-308]])"
      ]
     },
     "execution_count": 65,
     "metadata": {},
     "output_type": "execute_result"
    }
   ],
   "source": [
    "empty_array = np.empty((10,10))\n",
    "empty_array"
   ]
  },
  {
   "cell_type": "markdown",
   "metadata": {},
   "source": [
    "#### arange\n",
    "파이썬의 내장함수 `range()`함수와 동일한 기능을 하는 numpy배열 생성함수"
   ]
  },
  {
   "cell_type": "code",
   "execution_count": 66,
   "metadata": {},
   "outputs": [
    {
     "data": {
      "text/plain": [
       "array([10, 11, 12, 13, 14, 15, 16, 17, 18, 19, 20, 21, 22, 23, 24, 25, 26,\n",
       "       27, 28, 29, 30, 31, 32, 33, 34, 35, 36, 37, 38, 39, 40, 41, 42, 43,\n",
       "       44, 45, 46, 47, 48, 49])"
      ]
     },
     "execution_count": 66,
     "metadata": {},
     "output_type": "execute_result"
    }
   ],
   "source": [
    "arange_array = np.arange(10,50)\n",
    "arange_array"
   ]
  },
  {
   "cell_type": "code",
   "execution_count": 67,
   "metadata": {},
   "outputs": [
    {
     "data": {
      "text/plain": [
       "array([50, 49, 48, 47, 46, 45, 44, 43, 42, 41, 40, 39, 38, 37, 36, 35, 34,\n",
       "       33, 32, 31, 30, 29, 28, 27, 26, 25, 24, 23, 22, 21, 20, 19, 18, 17,\n",
       "       16, 15, 14, 13, 12, 11])"
      ]
     },
     "execution_count": 67,
     "metadata": {},
     "output_type": "execute_result"
    }
   ],
   "source": [
    "arange_array = np.arange(50,10,-1)\n",
    "arange_array"
   ]
  },
  {
   "cell_type": "markdown",
   "metadata": {},
   "source": [
    "### 전치 연산\n",
    "배열의 행과 열의 위치를 전치시키는 방법 배열의 `T`속성으로 반환 받을 수 있음"
   ]
  },
  {
   "cell_type": "code",
   "execution_count": 68,
   "metadata": {},
   "outputs": [
    {
     "data": {
      "text/plain": [
       "array([[1, 2, 3],\n",
       "       [4, 5, 6],\n",
       "       [7, 8, 9]])"
      ]
     },
     "execution_count": 68,
     "metadata": {},
     "output_type": "execute_result"
    }
   ],
   "source": [
    "numpy_matrix"
   ]
  },
  {
   "cell_type": "code",
   "execution_count": 69,
   "metadata": {},
   "outputs": [
    {
     "data": {
      "text/plain": [
       "array([[1, 4, 7],\n",
       "       [2, 5, 8],\n",
       "       [3, 6, 9]])"
      ]
     },
     "execution_count": 69,
     "metadata": {},
     "output_type": "execute_result"
    }
   ],
   "source": [
    "numpy_matrix.T"
   ]
  },
  {
   "cell_type": "code",
   "execution_count": 70,
   "metadata": {},
   "outputs": [
    {
     "data": {
      "text/plain": [
       "array([[[ 1,  2,  3,  4],\n",
       "        [ 5,  6,  7,  8],\n",
       "        [ 9, 10, 11, 12]],\n",
       "\n",
       "       [[13, 14, 15, 16],\n",
       "        [17, 18, 19, 20],\n",
       "        [21, 22, 23, 24]]])"
      ]
     },
     "execution_count": 70,
     "metadata": {},
     "output_type": "execute_result"
    }
   ],
   "source": [
    "numpy_three_d"
   ]
  },
  {
   "cell_type": "code",
   "execution_count": 71,
   "metadata": {},
   "outputs": [
    {
     "data": {
      "text/plain": [
       "array([[[ 1, 13],\n",
       "        [ 5, 17],\n",
       "        [ 9, 21]],\n",
       "\n",
       "       [[ 2, 14],\n",
       "        [ 6, 18],\n",
       "        [10, 22]],\n",
       "\n",
       "       [[ 3, 15],\n",
       "        [ 7, 19],\n",
       "        [11, 23]],\n",
       "\n",
       "       [[ 4, 16],\n",
       "        [ 8, 20],\n",
       "        [12, 24]]])"
      ]
     },
     "execution_count": 71,
     "metadata": {},
     "output_type": "execute_result"
    }
   ],
   "source": [
    "numpy_three_d.T"
   ]
  },
  {
   "cell_type": "markdown",
   "metadata": {},
   "source": [
    "### 배열의 크기 변경\n",
    "numpy 배열에서 원소의 개수를 유지한 상태로 배열의 형태로 변경하려 한다면 `reshape`메서드를\n",
    "사용하여 변경할 수 있음 "
   ]
  },
  {
   "cell_type": "code",
   "execution_count": 72,
   "metadata": {},
   "outputs": [
    {
     "data": {
      "text/plain": [
       "array([0., 0., 0., 0., 0., 0., 0., 0., 0., 0., 0., 0.])"
      ]
     },
     "execution_count": 72,
     "metadata": {},
     "output_type": "execute_result"
    }
   ],
   "source": [
    "numpy_array=np.zeros(12)\n",
    "numpy_array"
   ]
  },
  {
   "cell_type": "code",
   "execution_count": 73,
   "metadata": {},
   "outputs": [
    {
     "data": {
      "text/plain": [
       "array([[0., 0., 0.],\n",
       "       [0., 0., 0.],\n",
       "       [0., 0., 0.],\n",
       "       [0., 0., 0.]])"
      ]
     },
     "execution_count": 73,
     "metadata": {},
     "output_type": "execute_result"
    }
   ],
   "source": [
    "reshape_array = numpy_array.reshape(4,3)\n",
    "reshape_array"
   ]
  },
  {
   "cell_type": "code",
   "execution_count": 74,
   "metadata": {},
   "outputs": [
    {
     "data": {
      "text/plain": [
       "array([[0., 0., 0., 0., 0., 0.],\n",
       "       [0., 0., 0., 0., 0., 0.]])"
      ]
     },
     "execution_count": 74,
     "metadata": {},
     "output_type": "execute_result"
    }
   ],
   "source": [
    "reshape_array = numpy_array.reshape(2,6)\n",
    "reshape_array"
   ]
  },
  {
   "cell_type": "markdown",
   "metadata": {},
   "source": [
    "numpy 배열의 원소는 개수가 정해져 있기 때문에 `reshape`메서드에 하나의 인자로 -1을 넣게 되면\n",
    "다른 인자들을 통해서 추론하여 지정한다. "
   ]
  },
  {
   "cell_type": "code",
   "execution_count": 75,
   "metadata": {},
   "outputs": [
    {
     "data": {
      "text/plain": [
       "array([0., 0., 0., 0., 0., 0., 0., 0., 0., 0., 0., 0.])"
      ]
     },
     "execution_count": 75,
     "metadata": {},
     "output_type": "execute_result"
    }
   ],
   "source": [
    "numpy_array"
   ]
  },
  {
   "cell_type": "code",
   "execution_count": 79,
   "metadata": {},
   "outputs": [
    {
     "data": {
      "text/plain": [
       "array([[[0., 0., 0., 0.]],\n",
       "\n",
       "       [[0., 0., 0., 0.]],\n",
       "\n",
       "       [[0., 0., 0., 0.]]])"
      ]
     },
     "execution_count": 79,
     "metadata": {},
     "output_type": "execute_result"
    }
   ],
   "source": [
    "reshape_array=numpy_array.reshape(3,1,-1)\n",
    "reshape_array"
   ]
  },
  {
   "cell_type": "markdown",
   "metadata": {},
   "source": [
    "만약 `reshape`메서드의 인자들의 곱의 결과가 기존 배열의 원소의 총 합과 다르면 에러가 발생\n",
    "-1로 지정한 인자가 있을 때 해당 인자의 곱으로 총합을 계산할 수 없는 경우면 에러 발생"
   ]
  },
  {
   "cell_type": "markdown",
   "metadata": {},
   "source": [
    "다차원 배열을 무조건 1차원 배열로 변경하려 한다면 'flatten'이나 `ravel`메서드를 사용함"
   ]
  },
  {
   "cell_type": "code",
   "execution_count": 80,
   "metadata": {},
   "outputs": [
    {
     "data": {
      "text/plain": [
       "array([[0., 0., 0., 0.],\n",
       "       [0., 0., 0., 0.],\n",
       "       [0., 0., 0., 0.]])"
      ]
     },
     "execution_count": 80,
     "metadata": {},
     "output_type": "execute_result"
    }
   ],
   "source": [
    "numpy_matrix=np.empty((3,4))\n",
    "numpy_matrix"
   ]
  },
  {
   "cell_type": "code",
   "execution_count": 81,
   "metadata": {},
   "outputs": [
    {
     "data": {
      "text/plain": [
       "array([0., 0., 0., 0., 0., 0., 0., 0., 0., 0., 0., 0.])"
      ]
     },
     "execution_count": 81,
     "metadata": {},
     "output_type": "execute_result"
    }
   ],
   "source": [
    "numpy_array = numpy_matrix.flatten()\n",
    "numpy_array"
   ]
  },
  {
   "cell_type": "code",
   "execution_count": 82,
   "metadata": {},
   "outputs": [
    {
     "data": {
      "text/plain": [
       "array([0., 0., 0., 0., 0., 0., 0., 0., 0., 0., 0., 0.])"
      ]
     },
     "execution_count": 82,
     "metadata": {},
     "output_type": "execute_result"
    }
   ],
   "source": [
    "numpy_array=numpy_matrix.ravel()\n",
    "numpy_array"
   ]
  },
  {
   "cell_type": "markdown",
   "metadata": {},
   "source": [
    "배열 사용에서 주의할 점은 *길이가 5인 1차원 배열*과  *5X1인 2차원 배열*, *1x5인 2차원 배열*\n",
    "은 서로 각각 다른 배열(요소의 개수와 내용, 순서가 모두 같더라도 형태가 다르면 다른 배열)"
   ]
  },
  {
   "cell_type": "markdown",
   "metadata": {},
   "source": [
    "차원을 한 차원 증가시키고자 한다면 `numpy.newaxis`속성으로 차원을 증가 시킬 수 있음"
   ]
  },
  {
   "cell_type": "code",
   "execution_count": 83,
   "metadata": {},
   "outputs": [
    {
     "data": {
      "text/plain": [
       "array([0., 0., 0., 0., 0., 0., 0., 0., 0., 0., 0., 0.])"
      ]
     },
     "execution_count": 83,
     "metadata": {},
     "output_type": "execute_result"
    }
   ],
   "source": [
    "numpy_array"
   ]
  },
  {
   "cell_type": "code",
   "execution_count": 85,
   "metadata": {},
   "outputs": [
    {
     "data": {
      "text/plain": [
       "array([[0., 0., 0., 0., 0., 0., 0., 0., 0., 0., 0., 0.]])"
      ]
     },
     "execution_count": 85,
     "metadata": {},
     "output_type": "execute_result"
    }
   ],
   "source": [
    "newaxis_array=numpy_array[np.newaxis,:]\n",
    "newaxis_array"
   ]
  },
  {
   "cell_type": "markdown",
   "metadata": {},
   "source": [
    "### 배열 연결하기 \n",
    "행의 수나 열의 수가 같은 두 개 이상의 배열을 연결하는 방법\n",
    "- `hstack` : 행의 수가 같은 두 개 이상의 배열을 연결\n",
    "- `vstack` : 열의 수가 같은 두 개 이상의 배열을 연결"
   ]
  },
  {
   "cell_type": "code",
   "execution_count": 86,
   "metadata": {},
   "outputs": [
    {
     "data": {
      "text/plain": [
       "array([[0., 0., 0., 0.],\n",
       "       [0., 0., 0., 0.],\n",
       "       [0., 0., 0., 0.]])"
      ]
     },
     "execution_count": 86,
     "metadata": {},
     "output_type": "execute_result"
    }
   ],
   "source": [
    "zeros_array = np.zeros((3,4))\n",
    "zeros_array"
   ]
  },
  {
   "cell_type": "code",
   "execution_count": 87,
   "metadata": {},
   "outputs": [
    {
     "data": {
      "text/plain": [
       "array([[1., 1.],\n",
       "       [1., 1.],\n",
       "       [1., 1.]])"
      ]
     },
     "execution_count": 87,
     "metadata": {},
     "output_type": "execute_result"
    }
   ],
   "source": [
    "ones_array = np.ones((3,2))\n",
    "ones_array"
   ]
  },
  {
   "cell_type": "code",
   "execution_count": 88,
   "metadata": {},
   "outputs": [
    {
     "data": {
      "text/plain": [
       "array([[0., 0., 0., 0., 1., 1.],\n",
       "       [0., 0., 0., 0., 1., 1.],\n",
       "       [0., 0., 0., 0., 1., 1.]])"
      ]
     },
     "execution_count": 88,
     "metadata": {},
     "output_type": "execute_result"
    }
   ],
   "source": [
    "hstack_array = np.hstack([zeros_array,ones_array])\n",
    "hstack_array"
   ]
  },
  {
   "cell_type": "code",
   "execution_count": 89,
   "metadata": {},
   "outputs": [
    {
     "data": {
      "text/plain": [
       "array([[0., 0., 0., 0.],\n",
       "       [0., 0., 0., 0.],\n",
       "       [0., 0., 0., 0.]])"
      ]
     },
     "execution_count": 89,
     "metadata": {},
     "output_type": "execute_result"
    }
   ],
   "source": [
    "zeros_array = np.zeros((3,4))\n",
    "zeros_array"
   ]
  },
  {
   "cell_type": "code",
   "execution_count": 90,
   "metadata": {},
   "outputs": [
    {
     "data": {
      "text/plain": [
       "array([[1., 1., 1., 1.],\n",
       "       [1., 1., 1., 1.]])"
      ]
     },
     "execution_count": 90,
     "metadata": {},
     "output_type": "execute_result"
    }
   ],
   "source": [
    "ones_array = np.ones((2,4))\n",
    "ones_array"
   ]
  },
  {
   "cell_type": "code",
   "execution_count": 91,
   "metadata": {},
   "outputs": [
    {
     "data": {
      "text/plain": [
       "array([[0., 0., 0., 0.],\n",
       "       [0., 0., 0., 0.],\n",
       "       [0., 0., 0., 0.],\n",
       "       [1., 1., 1., 1.],\n",
       "       [1., 1., 1., 1.]])"
      ]
     },
     "execution_count": 91,
     "metadata": {},
     "output_type": "execute_result"
    }
   ],
   "source": [
    "vstack_array = np.vstack([zeros_array,ones_array])\n",
    "vstack_array"
   ]
  },
  {
   "cell_type": "markdown",
   "metadata": {},
   "source": [
    "- `dstack` : 행과 열의 수가 같은 두 개 이상의 배열을 연결"
   ]
  },
  {
   "cell_type": "code",
   "execution_count": 92,
   "metadata": {},
   "outputs": [
    {
     "data": {
      "text/plain": [
       "array([[0., 0., 0.],\n",
       "       [0., 0., 0.],\n",
       "       [0., 0., 0.]])"
      ]
     },
     "execution_count": 92,
     "metadata": {},
     "output_type": "execute_result"
    }
   ],
   "source": [
    "zeros_array = np.zeros((3,3))\n",
    "zeros_array"
   ]
  },
  {
   "cell_type": "code",
   "execution_count": 93,
   "metadata": {},
   "outputs": [
    {
     "data": {
      "text/plain": [
       "array([[1., 1., 1.],\n",
       "       [1., 1., 1.],\n",
       "       [1., 1., 1.]])"
      ]
     },
     "execution_count": 93,
     "metadata": {},
     "output_type": "execute_result"
    }
   ],
   "source": [
    "ones_array = np.ones((3,3))\n",
    "ones_array"
   ]
  },
  {
   "cell_type": "code",
   "execution_count": 94,
   "metadata": {},
   "outputs": [
    {
     "data": {
      "text/plain": [
       "array([[[0., 1.],\n",
       "        [0., 1.],\n",
       "        [0., 1.]],\n",
       "\n",
       "       [[0., 1.],\n",
       "        [0., 1.],\n",
       "        [0., 1.]],\n",
       "\n",
       "       [[0., 1.],\n",
       "        [0., 1.],\n",
       "        [0., 1.]]])"
      ]
     },
     "execution_count": 94,
     "metadata": {},
     "output_type": "execute_result"
    }
   ],
   "source": [
    "dstack_Array = np.dstack([zeros_array,ones_array])\n",
    "dstack_Array"
   ]
  },
  {
   "cell_type": "markdown",
   "metadata": {},
   "source": [
    "- `stack` : dstack 확장 기능으로 행과 열의 수가 같은 두 개 이상의 배열을 연결.\n",
    "단 연결 축을 개발자가 직접 지정"
   ]
  },
  {
   "cell_type": "code",
   "execution_count": 95,
   "metadata": {},
   "outputs": [
    {
     "data": {
      "text/plain": [
       "array([[0., 0., 0.],\n",
       "       [0., 0., 0.],\n",
       "       [0., 0., 0.]])"
      ]
     },
     "execution_count": 95,
     "metadata": {},
     "output_type": "execute_result"
    }
   ],
   "source": [
    "zeros_array"
   ]
  },
  {
   "cell_type": "code",
   "execution_count": 96,
   "metadata": {},
   "outputs": [
    {
     "data": {
      "text/plain": [
       "array([[1., 1., 1.],\n",
       "       [1., 1., 1.],\n",
       "       [1., 1., 1.]])"
      ]
     },
     "execution_count": 96,
     "metadata": {},
     "output_type": "execute_result"
    }
   ],
   "source": [
    "ones_array"
   ]
  },
  {
   "cell_type": "code",
   "execution_count": 97,
   "metadata": {},
   "outputs": [
    {
     "data": {
      "text/plain": [
       "array([[[0., 0., 0.],\n",
       "        [0., 0., 0.],\n",
       "        [0., 0., 0.]],\n",
       "\n",
       "       [[1., 1., 1.],\n",
       "        [1., 1., 1.],\n",
       "        [1., 1., 1.]]])"
      ]
     },
     "execution_count": 97,
     "metadata": {},
     "output_type": "execute_result"
    }
   ],
   "source": [
    "stack_array = np.stack([zeros_array,ones_array])\n",
    "stack_array"
   ]
  },
  {
   "cell_type": "code",
   "execution_count": 98,
   "metadata": {},
   "outputs": [
    {
     "data": {
      "text/plain": [
       "array([[[0., 0., 0.],\n",
       "        [1., 1., 1.]],\n",
       "\n",
       "       [[0., 0., 0.],\n",
       "        [1., 1., 1.]],\n",
       "\n",
       "       [[0., 0., 0.],\n",
       "        [1., 1., 1.]]])"
      ]
     },
     "execution_count": 98,
     "metadata": {},
     "output_type": "execute_result"
    }
   ],
   "source": [
    "stack_array = np.stack([zeros_array,ones_array],axis=1)\n",
    "stack_array"
   ]
  },
  {
   "cell_type": "markdown",
   "metadata": {},
   "source": [
    "-`r_`:배열의 요소를 연결 메서드 인자를 `[]`에 전달함\n",
    "-`c_`:행끼리 연결,최소 2차원의 배열로 연결\n",
    "-`title`:하나의 배열을 여러번 반복하여 연결"
   ]
  },
  {
   "cell_type": "code",
   "execution_count": 39,
   "metadata": {},
   "outputs": [
    {
     "data": {
      "text/plain": [
       "array([[0., 0., 0.],\n",
       "       [0., 0., 0.],\n",
       "       [0., 0., 0.],\n",
       "       [1., 1., 1.],\n",
       "       [1., 1., 1.],\n",
       "       [1., 1., 1.]])"
      ]
     },
     "execution_count": 39,
     "metadata": {},
     "output_type": "execute_result"
    }
   ],
   "source": [
    "r_array = np.r_[zeros_array,ones_array]\n",
    "r_array"
   ]
  },
  {
   "cell_type": "code",
   "execution_count": 99,
   "metadata": {},
   "outputs": [
    {
     "data": {
      "text/plain": [
       "array([[0., 0., 0., 1., 1., 1.],\n",
       "       [0., 0., 0., 1., 1., 1.],\n",
       "       [0., 0., 0., 1., 1., 1.]])"
      ]
     },
     "execution_count": 99,
     "metadata": {},
     "output_type": "execute_result"
    }
   ],
   "source": [
    "c_array = np.c_[zeros_array,ones_array]\n",
    "c_array"
   ]
  },
  {
   "cell_type": "code",
   "execution_count": 102,
   "metadata": {},
   "outputs": [
    {
     "data": {
      "text/plain": [
       "array([[0., 0., 0., 0., 0., 0., 0., 0., 0.],\n",
       "       [0., 0., 0., 0., 0., 0., 0., 0., 0.],\n",
       "       [0., 0., 0., 0., 0., 0., 0., 0., 0.]])"
      ]
     },
     "execution_count": 102,
     "metadata": {},
     "output_type": "execute_result"
    }
   ],
   "source": [
    "tile_array=np.tile(zeros_array,3)\n",
    "tile_array"
   ]
  },
  {
   "cell_type": "code",
   "execution_count": 103,
   "metadata": {},
   "outputs": [
    {
     "data": {
      "text/plain": [
       "array([[0., 0., 0., 0., 0., 0.],\n",
       "       [0., 0., 0., 0., 0., 0.],\n",
       "       [0., 0., 0., 0., 0., 0.],\n",
       "       [0., 0., 0., 0., 0., 0.],\n",
       "       [0., 0., 0., 0., 0., 0.],\n",
       "       [0., 0., 0., 0., 0., 0.],\n",
       "       [0., 0., 0., 0., 0., 0.],\n",
       "       [0., 0., 0., 0., 0., 0.],\n",
       "       [0., 0., 0., 0., 0., 0.]])"
      ]
     },
     "execution_count": 103,
     "metadata": {},
     "output_type": "execute_result"
    }
   ],
   "source": [
    "tile_array=np.tile(zeros_array,(3,2))\n",
    "tile_array"
   ]
  },
  {
   "cell_type": "markdown",
   "metadata": {},
   "source": [
    "#### 파이썬으로 다음 연산을 수행하라\n",
    "지금까지 공부한 명령어를 사용하여 다음과 같은 배열을 만들어라\n",
    "array([[   0.,    0.,    0.,    1.,    1.],\n",
    "       [   0.,    0.,    0.,    1.,    1.],\n",
    "       [   0.,    0.,    0.,    1.,    1.],\n",
    "       [  10.,   20.,   30.,   40.,   50.],\n",
    "       [  60.,   70.,   80.,   90.,  100.],\n",
    "       [ 110.,  120.,  130.,  140.,  150.],\n",
    "       [   0.,    0.,    0.,    1.,    1.],\n",
    "       [   0.,    0.,    0.,    1.,    1.],\n",
    "       [   0.,    0.,    0.,    1.,    1.],\n",
    "       [  10.,   20.,   30.,   40.,   50.],\n",
    "       [  60.,   70.,   80.,   90.,  100.],\n",
    "       [ 110.,  120.,  130.,  140.,  150.]])"
   ]
  },
  {
   "cell_type": "code",
   "execution_count": 105,
   "metadata": {},
   "outputs": [
    {
     "name": "stdout",
     "output_type": "stream",
     "text": [
      "[[  0.   0.   0.   1.   1.]\n",
      " [  0.   0.   0.   1.   1.]\n",
      " [  0.   0.   0.   1.   1.]\n",
      " [ 10.  20.  30.  40.  50.]\n",
      " [ 60.  70.  80.  90. 100.]\n",
      " [110. 120. 130. 140. 150.]]\n",
      "\n",
      "\n",
      "[[  0.   0.   0.   1.   1.]\n",
      " [  0.   0.   0.   1.   1.]\n",
      " [  0.   0.   0.   1.   1.]\n",
      " [ 10.  20.  30.  40.  50.]\n",
      " [ 60.  70.  80.  90. 100.]\n",
      " [110. 120. 130. 140. 150.]\n",
      " [  0.   0.   0.   1.   1.]\n",
      " [  0.   0.   0.   1.   1.]\n",
      " [  0.   0.   0.   1.   1.]\n",
      " [ 10.  20.  30.  40.  50.]\n",
      " [ 60.  70.  80.  90. 100.]\n",
      " [110. 120. 130. 140. 150.]]\n"
     ]
    }
   ],
   "source": [
    "zerosarray=np.zeros((3,3))\n",
    "#print(zerosarray)\n",
    "onesarray=np.ones((3,2))\n",
    "#print(onesarray)\n",
    "carray = np.c_[zerosarray,onesarray]\n",
    "#print(carray)\n",
    "arangearray = np.arange(10,151,10)\n",
    "#print(arangearray)\n",
    "reshapearray=arangearray.reshape(3,5)\n",
    "#print(reshapearray)\n",
    "\n",
    "#print()\n",
    "#print()\n",
    "\n",
    "\n",
    "#print(carray)\n",
    "#print(reshapearray)\n",
    "#print()\n",
    "#print()\n",
    "\n",
    "rarray = np.r_[carray,reshapearray]\n",
    "print(rarray)\n",
    "\n",
    "print()\n",
    "print()\n",
    "\n",
    "tilearray=np.tile(rarray,(2,1))\n",
    "print(tilearray)"
   ]
  },
  {
   "cell_type": "markdown",
   "metadata": {},
   "source": [
    "### 2차원 그리드 포인트 생성\n",
    "좌표값의 쌍(그리드 포인트)을 생성하는 메서드 `meshgrid` 함수로 x축과 y축의 점들로 사각형의\n",
    "영역을 나타내는 조합을 생성 "
   ]
  },
  {
   "cell_type": "code",
   "execution_count": 106,
   "metadata": {},
   "outputs": [
    {
     "data": {
      "text/plain": [
       "array([0, 1, 2])"
      ]
     },
     "execution_count": 106,
     "metadata": {},
     "output_type": "execute_result"
    }
   ],
   "source": [
    "x = np.arange(3)\n",
    "x"
   ]
  },
  {
   "cell_type": "code",
   "execution_count": 107,
   "metadata": {},
   "outputs": [
    {
     "data": {
      "text/plain": [
       "array([0, 1, 2, 3, 4])"
      ]
     },
     "execution_count": 107,
     "metadata": {},
     "output_type": "execute_result"
    }
   ],
   "source": [
    "y = np.arange(5)\n",
    "y"
   ]
  },
  {
   "cell_type": "code",
   "execution_count": 108,
   "metadata": {},
   "outputs": [
    {
     "data": {
      "text/plain": [
       "(array([[0, 1, 2],\n",
       "        [0, 1, 2],\n",
       "        [0, 1, 2],\n",
       "        [0, 1, 2],\n",
       "        [0, 1, 2]]),\n",
       " array([[0, 0, 0],\n",
       "        [1, 1, 1],\n",
       "        [2, 2, 2],\n",
       "        [3, 3, 3],\n",
       "        [4, 4, 4]]))"
      ]
     },
     "execution_count": 108,
     "metadata": {},
     "output_type": "execute_result"
    }
   ],
   "source": [
    "X,Y=np.meshgrid(x,y)\n",
    "X,Y"
   ]
  },
  {
   "cell_type": "code",
   "execution_count": 109,
   "metadata": {},
   "outputs": [],
   "source": [
    "# [list(zip(x,y)) for x,y in zip(X,Y)]"
   ]
  },
  {
   "cell_type": "markdown",
   "metadata": {},
   "source": [
    "### 벡터화 연산\n",
    "numpy 배열은 반복문을 쓰지 않고 배열에 대하여 벡터 연산을 할 수 있음"
   ]
  },
  {
   "cell_type": "code",
   "execution_count": 110,
   "metadata": {},
   "outputs": [],
   "source": [
    "x = np.arange(1,10001)\n",
    "y = np.arange(10001,20001)"
   ]
  },
  {
   "cell_type": "code",
   "execution_count": 112,
   "metadata": {},
   "outputs": [
    {
     "name": "stdout",
     "output_type": "stream",
     "text": [
      "CPU times: total: 0 ns\n",
      "Wall time: 3.02 ms\n"
     ]
    },
    {
     "data": {
      "text/plain": [
       "array([10002, 10004, 10006, ..., 29996, 29998, 30000])"
      ]
     },
     "execution_count": 112,
     "metadata": {},
     "output_type": "execute_result"
    }
   ],
   "source": [
    "%%time\n",
    "z = np.zeros_like(x)\n",
    "for index in range(len(x)):\n",
    "    z[index]=x[index]+y[index]\n",
    "z"
   ]
  },
  {
   "cell_type": "code",
   "execution_count": 114,
   "metadata": {},
   "outputs": [
    {
     "name": "stdout",
     "output_type": "stream",
     "text": [
      "CPU times: total: 0 ns\n",
      "Wall time: 0 ns\n"
     ]
    },
    {
     "data": {
      "text/plain": [
       "array([10002, 10004, 10006, ..., 29996, 29998, 30000])"
      ]
     },
     "execution_count": 114,
     "metadata": {},
     "output_type": "execute_result"
    }
   ],
   "source": [
    "%%time\n",
    "z=x+y\n",
    "z"
   ]
  },
  {
   "cell_type": "code",
   "execution_count": 115,
   "metadata": {},
   "outputs": [],
   "source": [
    "x=np.arange(5)\n",
    "y=np.arange(10,15)\n",
    "z=np.arange(5)"
   ]
  },
  {
   "cell_type": "code",
   "execution_count": 116,
   "metadata": {},
   "outputs": [
    {
     "data": {
      "text/plain": [
       "False"
      ]
     },
     "execution_count": 116,
     "metadata": {},
     "output_type": "execute_result"
    }
   ],
   "source": [
    "np.all(x == y)"
   ]
  },
  {
   "cell_type": "code",
   "execution_count": 117,
   "metadata": {},
   "outputs": [
    {
     "data": {
      "text/plain": [
       "True"
      ]
     },
     "execution_count": 117,
     "metadata": {},
     "output_type": "execute_result"
    }
   ],
   "source": [
    "np.all(x == z)"
   ]
  },
  {
   "cell_type": "code",
   "execution_count": 118,
   "metadata": {},
   "outputs": [
    {
     "data": {
      "text/plain": [
       "True"
      ]
     },
     "execution_count": 118,
     "metadata": {},
     "output_type": "execute_result"
    }
   ],
   "source": [
    "np.all(x<y)\n"
   ]
  },
  {
   "cell_type": "code",
   "execution_count": 119,
   "metadata": {},
   "outputs": [
    {
     "name": "stdout",
     "output_type": "stream",
     "text": [
      "[0 1 2 3 4]\n",
      "[ 0 10 20 30 40]\n",
      "[ 0 10 20 30 40]\n",
      "[      0       1    1024   59049 1048576]\n",
      "[    1    10   100  1000 10000]\n"
     ]
    }
   ],
   "source": [
    "print(x)\n",
    "print(x*10)\n",
    "print(10*x)\n",
    "print(x**10)\n",
    "print(10**x)"
   ]
  },
  {
   "cell_type": "markdown",
   "metadata": {},
   "source": [
    "### 브로드 캐스팅\n",
    "차원이 서로 다른 배열을 연산하는 기능, 부족한 차원에 대하여 반복 확장하여 큰 배열의 크기에 맞춘후\n",
    "연산을 진행"
   ]
  },
  {
   "cell_type": "code",
   "execution_count": 120,
   "metadata": {},
   "outputs": [
    {
     "name": "stdout",
     "output_type": "stream",
     "text": [
      "[1 2 3 4 5]\n"
     ]
    }
   ],
   "source": [
    "x=np.arange(5)\n",
    "x\n",
    "print(x+1)"
   ]
  },
  {
   "cell_type": "code",
   "execution_count": 121,
   "metadata": {},
   "outputs": [
    {
     "name": "stdout",
     "output_type": "stream",
     "text": [
      "[[ 0  1  2  3  4]\n",
      " [ 5  6  7  8  9]\n",
      " [10 11 12 13 14]]\n",
      "[0 1 2 3 4]\n",
      "[[ 0  2  4  6  8]\n",
      " [ 5  7  9 11 13]\n",
      " [10 12 14 16 18]]\n"
     ]
    }
   ],
   "source": [
    "x = np.arange(15)\n",
    "x = x.reshape(3,5)\n",
    "y = np.arange(5)\n",
    "print(x)\n",
    "print(y)\n",
    "print(x+y)"
   ]
  },
  {
   "cell_type": "code",
   "execution_count": 123,
   "metadata": {},
   "outputs": [
    {
     "name": "stdout",
     "output_type": "stream",
     "text": [
      "[[0]\n",
      " [1]\n",
      " [2]]\n",
      "[[ 0  1  2  3  4]\n",
      " [ 6  7  8  9 10]\n",
      " [12 13 14 15 16]]\n"
     ]
    }
   ],
   "source": [
    "y = np.arange(3)\n",
    "y = y.reshape(3,1)\n",
    "print(y)\n",
    "print(x+y)"
   ]
  },
  {
   "cell_type": "markdown",
   "metadata": {},
   "source": [
    "### 차원 축소 현상\n",
    "배열의 하나의 행을 하나의 집합으로 보고 그 집합에 대한 집계 처리 결과로 새로운 값을 반환하여\n",
    "배열을 생성 "
   ]
  },
  {
   "cell_type": "code",
   "execution_count": 124,
   "metadata": {},
   "outputs": [
    {
     "name": "stdout",
     "output_type": "stream",
     "text": [
      "[0 1 2 3 4 5 6 7 8 9]\n",
      "[[0 1 2 3 4]\n",
      " [5 6 7 8 9]]\n",
      "9\n",
      "0\n",
      "4.5\n"
     ]
    }
   ],
   "source": [
    "x = np.arange(10)\n",
    "print(x)\n",
    "x = x.reshape(2,5)\n",
    "print(x)\n",
    "print(x.max())\n",
    "print(x.min())\n",
    "print(x.mean())"
   ]
  },
  {
   "cell_type": "code",
   "execution_count": 125,
   "metadata": {},
   "outputs": [
    {
     "name": "stdout",
     "output_type": "stream",
     "text": [
      "[ 5  7  9 11 13]\n",
      "[10 35]\n"
     ]
    }
   ],
   "source": [
    "print(x.sum(axis=0))\n",
    "print(x.sum(axis=1))"
   ]
  },
  {
   "cell_type": "markdown",
   "metadata": {},
   "source": [
    "### 정렬\n",
    "`sort`메서드로 배열을 정렬 할 수 있음\n",
    "`axis`매개변수로 정렬 기준을 정할 수 있음\n",
    "`axis=0`:행을 따로 분리하여 정렬\n",
    "`axis=1`:열을 따로 분리하여 정렬\n",
    "`axis`를 지정하지 않으면 가장 나중 차원을 기준으로 정렬"
   ]
  },
  {
   "cell_type": "code",
   "execution_count": 127,
   "metadata": {},
   "outputs": [
    {
     "name": "stdout",
     "output_type": "stream",
     "text": [
      "[[ 5  2  7  4]\n",
      " [11  8  6  5]\n",
      " [ 8  5 11  2]]\n",
      "[[ 2  4  5  7]\n",
      " [ 5  6  8 11]\n",
      " [ 2  5  8 11]]\n",
      "[[ 2  4  5  7]\n",
      " [ 2  5  8 11]\n",
      " [ 5  6  8 11]]\n",
      "[[ 2  4  5  7]\n",
      " [ 2  5  8 11]\n",
      " [ 5  6  8 11]]\n"
     ]
    }
   ],
   "source": [
    "x=np.array([\n",
    "[5,2,7,4],\n",
    "[11,8,6,5],\n",
    "[8,5,11,2]\n",
    "])\n",
    "print(x)\n",
    "x.sort()\n",
    "print(x)\n",
    "x.sort(axis=0)\n",
    "print(x)\n",
    "x.sort(axis=1)\n",
    "print(x)"
   ]
  },
  {
   "cell_type": "code",
   "execution_count": 133,
   "metadata": {},
   "outputs": [
    {
     "name": "stdout",
     "output_type": "stream",
     "text": [
      "[[0 1 2 3]\n",
      " [0 1 2 3]\n",
      " [0 1 2 3]]\n",
      "[[0 0 0 0]\n",
      " [1 1 1 1]\n",
      " [2 2 2 2]]\n",
      "[[0 1 2 3]\n",
      " [0 1 2 3]\n",
      " [0 1 2 3]]\n"
     ]
    }
   ],
   "source": [
    "print(np.argsort(x))\n",
    "print(np.argsort(x,axis=0))\n",
    "print(np.argsort(x,axis=1))"
   ]
  },
  {
   "cell_type": "markdown",
   "metadata": {},
   "source": [
    "실수로 이루어진 3 x 3 형태의 데이터 행렬을 만들고 이 데이터에 대해 다음과 같은 값을 구한다.\n",
    "\n",
    "\n",
    "1. 전체의 최댓값\n",
    "\n",
    "2. 각 행의 합\n",
    "\n",
    "3. 각 행의 최댓값\n",
    "\n",
    "4. 각 열의 평균\n",
    "\n",
    "5. 각 열의 최솟값"
   ]
  },
  {
   "cell_type": "code",
   "execution_count": 134,
   "metadata": {},
   "outputs": [
    {
     "name": "stdout",
     "output_type": "stream",
     "text": [
      "22\n",
      "[28 40 17]\n",
      "[12 22  8]\n",
      "[ 4.33333333 10.33333333 13.66666667]\n",
      "[0 2 7]\n"
     ]
    }
   ],
   "source": [
    "x=np.array([\n",
    "[5,11,12],\n",
    "[0,18,22],\n",
    "[8,2,7]\n",
    "])\n",
    "print(x.max())\n",
    "print(x.sum(axis=1))\n",
    "print(x.max(axis=1))\n",
    "print(x.mean(axis=0))\n",
    "print(x.min(axis=0))"
   ]
  },
  {
   "cell_type": "markdown",
   "metadata": {},
   "source": [
    "### Numpy 배열 통계 연산\n",
    "- 데이터 개수 구하기 : `len()` 내장 함수 \n",
    "- 표본 평균 : `mean()` 메서드\n",
    "- 표본 분산 : `var()` 메서드\n",
    "- 표본 표준편차 : `std()` 메서드\n",
    "- 최대, 최소: `max()` , `min()`메서드\n",
    "- 중앙값 : `median` 메서드\n",
    "- 사분위수 : `percentile()` 메서드"
   ]
  },
  {
   "cell_type": "code",
   "execution_count": 136,
   "metadata": {},
   "outputs": [
    {
     "name": "stdout",
     "output_type": "stream",
     "text": [
      "[  9   2   4  20  24   2  23  92  24 -23]\n",
      "10\n",
      "17.7\n",
      "17.7\n"
     ]
    }
   ],
   "source": [
    "samples = np.array([9,2,4,20,24,2,23,92,24,-23])\n",
    "print(samples)\n",
    "sample_volume = len(samples)\n",
    "print(sample_volume)\n",
    "sample_mean = samples.mean()\n",
    "print(sample_mean)\n",
    "sample_mean = np.mean(samples)\n",
    "print(sample_mean)"
   ]
  },
  {
   "cell_type": "code",
   "execution_count": 137,
   "metadata": {},
   "outputs": [
    {
     "name": "stdout",
     "output_type": "stream",
     "text": [
      "804.61\n",
      "804.61\n",
      "28.365648238670662\n",
      "28.365648238670662\n"
     ]
    }
   ],
   "source": [
    "sample_variance=samples.var()\n",
    "print(sample_variance)\n",
    "sample_variance=np.var(samples)\n",
    "print(sample_variance)\n",
    "sample_standard=samples.std()\n",
    "print(sample_standard)\n",
    "sample_standard=np.std(samples)\n",
    "print(sample_standard)"
   ]
  },
  {
   "cell_type": "code",
   "execution_count": 138,
   "metadata": {},
   "outputs": [
    {
     "name": "stdout",
     "output_type": "stream",
     "text": [
      "92\n",
      "-23\n",
      "14.5\n",
      "-23.0\n",
      "2.5\n",
      "14.5\n",
      "23.75\n",
      "92.0\n"
     ]
    }
   ],
   "source": [
    "sample_max=samples.max()\n",
    "print(sample_max)\n",
    "sample_min=samples.min()\n",
    "print(sample_min)\n",
    "sample_median=np.median(samples)\n",
    "print(sample_median)\n",
    "sample_0per = np.percentile(samples,0)\n",
    "print(sample_0per)\n",
    "sample_25per = np.percentile(samples,25)\n",
    "print(sample_25per)\n",
    "sample_50per = np.percentile(samples,50)\n",
    "print(sample_50per)\n",
    "sample_75per = np.percentile(samples,75)\n",
    "print(sample_75per)\n",
    "sample_100per = np.percentile(samples,100)\n",
    "print(sample_100per)"
   ]
  },
  {
   "cell_type": "markdown",
   "metadata": {},
   "source": [
    "### 난수 생성에 필요한 시드 설정\n",
    "numpy 패키지에 있는 `seed()` 메서드에 매개변수로 난수 생성시 필요한 시드를 설정 함"
   ]
  },
  {
   "cell_type": "code",
   "execution_count": 140,
   "metadata": {},
   "outputs": [
    {
     "name": "stdout",
     "output_type": "stream",
     "text": [
      "[0.5488135  0.71518937 0.60276338 0.54488318 0.4236548  0.64589411\n",
      " 0.43758721 0.891773   0.96366276 0.38344152]\n"
     ]
    }
   ],
   "source": [
    "np.random.seed(0)\n",
    "random_array=np.random.rand(10)\n",
    "print(random_array)"
   ]
  },
  {
   "cell_type": "markdown",
   "metadata": {},
   "source": [
    "### 데이터 순서를 임의로 바꾸기\n",
    "numpy 패키지의 random 하위 패키지의 `suffle()`메서드로 배열을 임의 순서로 변경 가능 (자체 변환)\n"
   ]
  },
  {
   "cell_type": "code",
   "execution_count": 141,
   "metadata": {},
   "outputs": [
    {
     "name": "stdout",
     "output_type": "stream",
     "text": [
      "[0 1 2 3 4 5 6 7 8 9]\n",
      "[5 2 3 4 1 0 9 8 7 6]\n"
     ]
    }
   ],
   "source": [
    "range_array=np.arange(10)\n",
    "print(range_array)\n",
    "np.random.shuffle(range_array)\n",
    "print(range_array)"
   ]
  },
  {
   "cell_type": "markdown",
   "metadata": {},
   "source": [
    "### 데이터 샘플링\n",
    "모집단 배열에 표본으로 사용할 표본 집단 배열을 무작위로 선택하는 방법\n",
    "numpy 패키지의 random 하위 패키지의 `choice(모집단배열,표본크기,중복선택여부,각요소의 선택확률)`\n",
    "메서드로 사용가능"
   ]
  },
  {
   "cell_type": "code",
   "execution_count": 143,
   "metadata": {},
   "outputs": [
    {
     "name": "stdout",
     "output_type": "stream",
     "text": [
      "[0 1 2 3 4 5 6 7 8 9]\n",
      "[3 5 0 2 3]\n"
     ]
    }
   ],
   "source": [
    "population_array = np.arange(10)\n",
    "print(population_array)\n",
    "sample_array=np.random.choice(population_array,5)\n",
    "print(sample_array)"
   ]
  },
  {
   "cell_type": "code",
   "execution_count": 150,
   "metadata": {},
   "outputs": [
    {
     "name": "stdout",
     "output_type": "stream",
     "text": [
      "[0 5 5 5 0 9 0 4 0 5]\n"
     ]
    }
   ],
   "source": [
    "probability_array = [0.1,0.05,0.05,0,0.15,0.25,0.1,0.05,0.05,0.2]\n",
    "sample_array=np.random.choice(population_array,10,replace=True,p=probability_array)\n",
    "print(sample_array)\n"
   ]
  },
  {
   "cell_type": "code",
   "execution_count": 156,
   "metadata": {},
   "outputs": [
    {
     "name": "stdout",
     "output_type": "stream",
     "text": [
      "[7 6 1 8 5 9 4 3 2 0]\n",
      "[6 5 4 ... 0 9 1]\n"
     ]
    },
    {
     "ename": "ValueError",
     "evalue": "'a' and 'p' must have same size",
     "output_type": "error",
     "traceback": [
      "\u001b[1;31m---------------------------------------------------------------------------\u001b[0m",
      "\u001b[1;31mValueError\u001b[0m                                Traceback (most recent call last)",
      "Cell \u001b[1;32mIn[156], line 7\u001b[0m\n\u001b[0;32m      5\u001b[0m \u001b[38;5;28mprint\u001b[39m(sample_array)\n\u001b[0;32m      6\u001b[0m probability_array \u001b[38;5;241m=\u001b[39m [\u001b[38;5;241m0.1\u001b[39m,\u001b[38;5;241m0.05\u001b[39m,\u001b[38;5;241m0.05\u001b[39m,\u001b[38;5;241m0\u001b[39m,\u001b[38;5;241m0.15\u001b[39m,\u001b[38;5;241m0.25\u001b[39m,\u001b[38;5;241m0.1\u001b[39m,\u001b[38;5;241m0.05\u001b[39m,\u001b[38;5;241m0.05\u001b[39m,\u001b[38;5;241m0.1\u001b[39m,\u001b[38;5;241m0.1\u001b[39m]\n\u001b[1;32m----> 7\u001b[0m sample_array\u001b[38;5;241m=\u001b[39m\u001b[43mnp\u001b[49m\u001b[38;5;241;43m.\u001b[39;49m\u001b[43mrandom\u001b[49m\u001b[38;5;241;43m.\u001b[39;49m\u001b[43mchoice\u001b[49m\u001b[43m(\u001b[49m\u001b[43mpopulation_array\u001b[49m\u001b[43m,\u001b[49m\u001b[38;5;241;43m10000\u001b[39;49m\u001b[43m,\u001b[49m\u001b[43mreplace\u001b[49m\u001b[38;5;241;43m=\u001b[39;49m\u001b[38;5;28;43;01mTrue\u001b[39;49;00m\u001b[43m,\u001b[49m\u001b[43mp\u001b[49m\u001b[38;5;241;43m=\u001b[39;49m\u001b[43mprobability_array\u001b[49m\u001b[43m)\u001b[49m\n\u001b[0;32m      8\u001b[0m \u001b[38;5;28mprint\u001b[39m(sample_array)\n",
      "File \u001b[1;32mnumpy\\\\random\\\\mtrand.pyx:968\u001b[0m, in \u001b[0;36mnumpy.random.mtrand.RandomState.choice\u001b[1;34m()\u001b[0m\n",
      "\u001b[1;31mValueError\u001b[0m: 'a' and 'p' must have same size"
     ]
    }
   ],
   "source": [
    "sample_array=np.random.choice(population_array,10,replace=False)\n",
    "print(sample_array)\n",
    "probability_array = [0.1,0.05,0.05,0,0.15,0.25,0.1,0.05,0.05,0.2]\n",
    "sample_array=np.random.choice(population_array,10000,replace=True,p=probability_array)\n",
    "print(sample_array)\n",
    "probability_array = [0.1,0.05,0.05,0,0.15,0.25,0.1,0.05,0.05,0.1,0.1]\n",
    "sample_array=np.random.choice(population_array,10000,replace=True,p=probability_array)\n",
    "print(sample_array)\n",
    "\n"
   ]
  },
  {
   "cell_type": "markdown",
   "metadata": {},
   "source": [
    "### 난수 배열 생성 \n",
    "- `rand()`: 0과 1사이의 균일 분표를 따르는 난수 배열 생성\n",
    "- `randn()`: 표준 정규 분포를 따르는 난수 배열 생성\n",
    "- `randint(low,high=정수,size=정수혹은튜플)`: 지정한 범위의 균일 분포를 따르는 난수 배열 생성 "
   ]
  },
  {
   "cell_type": "code",
   "execution_count": 271,
   "metadata": {},
   "outputs": [
    {
     "name": "stdout",
     "output_type": "stream",
     "text": [
      "[0.68003827 0.33690274 0.42131777 0.56167131 0.06052858 0.81559086\n",
      " 0.6562382  0.1652568  0.01713746 0.7939299 ]\n",
      "[-0.57795162  0.00204626  0.36022501 -1.11139059  1.07762203 -0.2234296\n",
      " -0.03132886  0.0669097  -0.00358257 -0.29486966]\n",
      "[0 0 0]\n",
      "[[19 19 19 19 19]\n",
      " [19 19 19 19 19]\n",
      " [19 19 19 19 19]]\n"
     ]
    }
   ],
   "source": [
    "rand_array=np.random.rand(10)\n",
    "print(rand_array)\n",
    "randn_array=np.random.randn(10)\n",
    "print(randn_array)\n",
    "randint_array=np.random.randint(1,size=3)\n",
    "print(randint_array)\n",
    "randint_array=np.random.randint(19,high=20,size=(3,5))\n",
    "print(randint_array)"
   ]
  },
  {
   "cell_type": "markdown",
   "metadata": {},
   "source": [
    "### 정수 데이터 카운팅\n",
    "배열의 요소가 정수이면 `unique()`메서드나 `bincount()`메서드로 간단하게 분석할수 있음"
   ]
  },
  {
   "cell_type": "code",
   "execution_count": 279,
   "metadata": {},
   "outputs": [],
   "source": [
    "sample_array = np.array([1, 2, 2, 3, 3, 3, 4, 4, 4, 4, 4])"
   ]
  },
  {
   "cell_type": "code",
   "execution_count": 285,
   "metadata": {},
   "outputs": [
    {
     "name": "stdout",
     "output_type": "stream",
     "text": [
      "(array([1, 2, 3, 4]), array([1, 2, 3, 5], dtype=int64))\n",
      "[0 1 2 3 5 0]\n"
     ]
    }
   ],
   "source": [
    "analysis_array=np.unique(sample_array,return_counts=True)\n",
    "print(analysis_array)\n",
    "analysis_array=np.bincount(sample_array,minlength=6)\n",
    "print(analysis_array)"
   ]
  },
  {
   "cell_type": "markdown",
   "metadata": {},
   "source": [
    "파이썬으로 다음 연산을 수행한다.\n",
    "\n",
    "1. 동전을 10번 던져 앞면(숫자 1)과 뒷면(숫자 0)이 나오는 가상 실험을 파이썬으로 작성한다.\n",
    "\n",
    "2. 주사위를 100번 던져서 나오는 숫자의 평균을 구하라."
   ]
  },
  {
   "cell_type": "code",
   "execution_count": 288,
   "metadata": {},
   "outputs": [
    {
     "name": "stdout",
     "output_type": "stream",
     "text": [
      "[0 0 0 0 0 0 0 1 0 1]\n",
      "3.61\n"
     ]
    }
   ],
   "source": [
    "randint_array=np.random.randint(0,high=2,size=10)\n",
    "print(randint_array)\n",
    "randint_array=np.random.randint(1,high=7,size=100)\n",
    "print(randint_array.mean())"
   ]
  },
  {
   "cell_type": "markdown",
   "metadata": {},
   "source": [
    "파이썬으로 다음 연산을 수행한다.\n",
    "\n",
    "가격이 10,000원인 주식이 있다. \n",
    "\n",
    "이 주식의 일간 수익률(%)은 기댓값이 0%이고 표준편차가 1%인 표준 정규 분포를 따른다고 하자. \n",
    "\n",
    "250일 동안의 주가를 무작위로 생성하라"
   ]
  },
  {
   "cell_type": "code",
   "execution_count": 296,
   "metadata": {},
   "outputs": [
    {
     "name": "stdout",
     "output_type": "stream",
     "text": [
      "[ 9967  9951  9956  9753  9719  9808  9850  9885  9958 10029 10050 10057\n",
      " 10012 10009 10014  9986 10011  9969 10009  9927  9951 10166 10289 10399\n",
      " 10517 10591 10647 10656 10715 10623 10721 10845 10878 10789 10790 10747\n",
      " 10859 10849 10709 10605 10510 10535 10530 10556 10378 10475 10449 10574\n",
      " 10791 10851 10742 10716 10756 10722 10696 10687 10527 10463 10370 10478\n",
      " 10425 10429 10369 10266 10313 10386 10275 10320 10250 10112 10087  9988\n",
      "  9910  9926  9905  9768  9830  9901  9815  9906  9956 10143 10000  9927\n",
      "  9816  9910  9890  9728  9780  9735  9859  9607  9607  9663  9828  9826\n",
      "  9863 10031  9950  9869  9796  9967  9798  9795  9939 10054 10126  9993\n",
      " 10158 10003  9741  9752  9763  9757  9893  9977  9988 10080 10037  9970\n",
      "  9944  9860  9802  9762  9696  9734  9848  9708  9841  9919  9932 10037\n",
      "  9916  9789  9919  9933 10019  9866  9821  9794  9798  9909  9897  9773\n",
      "  9805  9811  9784  9750  9758  9837  9918  9952  9894  9676  9597  9536\n",
      "  9730  9772  9579  9658  9637  9657  9683  9598  9577  9641  9650  9574\n",
      "  9369  9485  9457  9478  9503  9633  9552  9578  9651  9567  9673  9722\n",
      "  9581  9593  9603  9515  9620  9485  9439  9260  9153  9197  9147  9149\n",
      "  9113  8995  9063  9243  9276  9244  9191  9295  9261  9204  9247  9292\n",
      "  9277  9136  9135  9014  8950  9022  9004  8947  8892  8669  8509  8509\n",
      "  8516  8534  8484  8548  8463  8287  8073  8057  8020  7971  7969  7857\n",
      "  7870  7813  7774  7848  7927  7922  7926  7993  8038  8000  8067  8118\n",
      "  8112  8079  8058  8129  8062  7837  7803  7906  7979  7951]\n"
     ]
    }
   ],
   "source": [
    "price=10000\n",
    "\n",
    "variation_ranges=(np.random.randn(250) / 100)+1\n",
    "#print(variation_ranges)\n",
    "stock_prices=[]\n",
    "\n",
    "for ratio in variation_ranges:\n",
    "    price = round(price*round(ratio,4))\n",
    "    stock_prices.append(price)\n",
    "\n",
    "stock_prices_array=np.array(stock_prices)\n",
    "\n",
    "print(stock_prices_array)"
   ]
  },
  {
   "cell_type": "code",
   "execution_count": 301,
   "metadata": {},
   "outputs": [
    {
     "name": "stdout",
     "output_type": "stream",
     "text": [
      "[0.99672274 0.99840968 1.00046931 0.97960146 0.99647328 1.00921617\n",
      " 1.00433289 1.00357143 1.00741705 1.00708436 1.00209437 1.00073893\n",
      " 0.99553425 0.99973402 1.00051295 0.99719711 1.00250596 0.99579161\n",
      " 1.00401513 0.99182907 1.00240631 1.0215874  1.01210148 1.01065626\n",
      " 1.01132906 1.00698837 1.00525231 1.00079511 1.00551749 0.99140965\n",
      " 1.00920552 1.01162739 1.00301769 0.99179836 1.00008833 0.99602286\n",
      " 1.01043698 0.99911739 0.98713923 0.9902756  0.99099061 1.00238999\n",
      " 0.9995107  1.00245063 0.98305112 1.00930445 0.99753615 1.01197572\n",
      " 1.0204634  1.00562971 0.99004952 0.99757915 1.00369553 0.99683289\n",
      " 0.99757015 0.99917639 0.98495204 0.99385404 0.99109004 1.01043592\n",
      " 0.99486992 1.00036929 0.99417028 0.99007011 1.00462251 1.00714846\n",
      " 0.98925126 1.00435607 0.99317872 0.98645709 0.99747438 0.9902193\n",
      " 0.99218525 1.00158489 0.99788584 0.98622602 1.00628444 1.00719057\n",
      " 0.99125501 1.00928199 1.00500165 1.01884619 0.98592174 0.99271929\n",
      " 0.9888181  1.00962022 0.99795653 0.98361139 1.00526892 0.995449\n",
      " 1.0126733  0.97438369 0.99999942 1.00582117 1.01705273 0.99984557\n",
      " 1.00377047 1.01698079 0.99187848 0.99193764 0.99258482 1.01750572\n",
      " 0.98301175 0.99972379 1.0147477  1.01161648 1.00715953 0.98688396\n",
      " 1.0165417  0.98473604 0.97382937 1.00114066 1.0010713  0.99944395\n",
      " 1.01392282 1.00851133 1.00105282 1.00917041 0.99570219 0.99328607\n",
      " 0.99737396 0.99164575 0.99414995 0.99593074 0.9932369  1.00392707\n",
      " 1.01171679 0.98578212 1.01374557 1.00791964 1.00132032 1.01059246\n",
      " 0.98787833 0.98723735 1.01330143 1.00138614 1.00874902 0.98472668\n",
      " 0.9954209  0.99734374 1.0004094  1.01129424 0.99883001 0.98754328\n",
      " 1.00330365 1.0005814  0.99722921 0.99654761 1.00077782 1.00808534\n",
      " 1.00815047 1.00340233 0.99422575 0.97800728 0.99176185 0.99363825\n",
      " 1.02033082 1.00432558 0.9803051  1.00823287 0.99781324 1.00213323\n",
      " 1.00269324 0.99123177 0.99780615 1.00668366 1.00092201 0.99206329\n",
      " 0.97859117 1.0123594  0.99702796 1.0021594  1.00259073 1.01374513\n",
      " 0.99159261 1.00273594 1.00760777 0.99125801 1.01111577 1.00511165\n",
      " 0.98546973 1.00133419 1.00099478 0.99077674 1.01096411 0.98596591\n",
      " 0.99511351 0.98098765 0.98837893 1.00481706 0.99461628 1.00021583\n",
      " 0.99614251 0.9871237  1.00761491 1.01990639 1.00361538 0.99651547\n",
      " 0.99429499 1.01132078 0.99630441 0.99379123 1.00466401 1.00493633\n",
      " 0.99839138 0.98483095 0.99991933 0.9867189  0.99293202 1.00811816\n",
      " 0.99795634 0.99371317 0.99377776 0.97487052 0.98162378 1.00003487\n",
      " 1.00077538 1.00205637 0.99414199 1.00756889 0.99006607 0.97917366\n",
      " 0.97417288 0.99801504 0.99535302 0.99386001 0.99969357 0.98590408\n",
      " 1.00157415 0.99266643 0.99500541 1.00953902 1.01005412 0.99935798\n",
      " 1.00048659 1.00850183 1.00555139 0.99526165 1.00843257 1.00627891\n",
      " 0.99922719 0.99585764 0.99738994 1.00883549 0.99172683 0.97210943\n",
      " 0.9956414  1.0131891  1.00919966 0.99650679]\n"
     ]
    }
   ],
   "source": [
    "print(variation_ranges)\n",
    "##2차복습완료 "
   ]
  }
 ],
 "metadata": {
  "kernelspec": {
   "display_name": "Python 3",
   "language": "python",
   "name": "python3"
  },
  "language_info": {
   "codemirror_mode": {
    "name": "ipython",
    "version": 3
   },
   "file_extension": ".py",
   "mimetype": "text/x-python",
   "name": "python",
   "nbconvert_exporter": "python",
   "pygments_lexer": "ipython3",
   "version": "3.12.3"
  }
 },
 "nbformat": 4,
 "nbformat_minor": 2
}
