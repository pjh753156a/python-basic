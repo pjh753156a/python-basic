{
 "cells": [
  {
   "cell_type": "markdown",
   "metadata": {},
   "source": [
    "### 판다스 패키지\n",
    "데이터를 시계열이나 표로 표현하기 위한 패키지\n",
    "시계열을 표현하는 `Series`클래스와 표로 표현하는 `DataFrame`클래스가 존재한다\n",
    "\n",
    "판다스 패키스를 사용하기 위해서는 패키지를 설치해야함\n",
    "```bash\n",
    "pip install pandas\n",
    "```\n",
    "\n",
    "패키지를 임포트할 때는 \n",
    "```python\n",
    "import pandas\n",
    "import pandas as pd\n",
    "```\n",
    "\n",
    "pandas 3.0 이상 버전 부터는 Pyarrow 패키지가 필수 의존 패키지로 지정되어 존재하지 않으면\n",
    "```bash\n",
    "pip install pyarrow\n",
    "```\n",
    "로 Pyarrow를 설치 권장"
   ]
  },
  {
   "cell_type": "code",
   "execution_count": 1,
   "metadata": {},
   "outputs": [],
   "source": [
    "import pandas as pd"
   ]
  },
  {
   "cell_type": "markdown",
   "metadata": {},
   "source": [
    "### 시리즈 클래스\n",
    "1차원의 시계열 데이터를 표현하고자 할 때 사용하는 클래스로 인덱스와 값이 한 쌍으로 나열되 있는\n",
    "형태\n",
    "시리즈를 생성하는 방법 : pandas 패키지의 `Series`클래스의 생성자로 값과 인덱스에 대한 배열 혹은\n",
    "리스트를 전달하면 생성할 수 있음"
   ]
  },
  {
   "cell_type": "code",
   "execution_count": 11,
   "metadata": {},
   "outputs": [
    {
     "name": "stdout",
     "output_type": "stream",
     "text": [
      "홍길동     85\n",
      "김철수     70\n",
      "이영희    100\n",
      "최민수     90\n",
      "박지성     55\n",
      "dtype: int64\n",
      "홍길동     85\n",
      "김철수     70\n",
      "이영희    100\n",
      "최민수     90\n",
      "박지성     55\n",
      "dtype: int64\n"
     ]
    }
   ],
   "source": [
    "scores = pd.Series([85,70,100,90,55],index=['홍길동','김철수','이영희','최민수','박지성'])\n",
    "print(scores)\n",
    "#index를 지정하지 않으면 0부터 시작하는 정수의 인덱스 값이 자동으로 생성됨\n",
    "#scores = pd.Series([85,70,100,90,55])\n",
    "print(scores)"
   ]
  },
  {
   "cell_type": "markdown",
   "metadata": {},
   "source": [
    "Series 객체의 index와 values들을 보고자 한다면 `index` 속성과 `values` 속성으로 확인할 수 있음"
   ]
  },
  {
   "cell_type": "code",
   "execution_count": 12,
   "metadata": {},
   "outputs": [
    {
     "name": "stdout",
     "output_type": "stream",
     "text": [
      "Index(['홍길동', '김철수', '이영희', '최민수', '박지성'], dtype='object')\n"
     ]
    },
    {
     "data": {
      "text/plain": [
       "array([ 85,  70, 100,  90,  55], dtype=int64)"
      ]
     },
     "execution_count": 12,
     "metadata": {},
     "output_type": "execute_result"
    }
   ],
   "source": [
    "print(scores.index)\n",
    "print(scores.values)"
   ]
  },
  {
   "cell_type": "markdown",
   "metadata": {},
   "source": [
    "`name`속성으로 value에 대한 이름을 부여할 수 있음\n",
    "`index.name`속성으로 index에 대한 이름을 부여할 수 있음"
   ]
  },
  {
   "cell_type": "code",
   "execution_count": 13,
   "metadata": {},
   "outputs": [
    {
     "name": "stdout",
     "output_type": "stream",
     "text": [
      "이름\n",
      "홍길동     85\n",
      "김철수     70\n",
      "이영희    100\n",
      "최민수     90\n",
      "박지성     55\n",
      "Name: 점수, dtype: int64\n"
     ]
    }
   ],
   "source": [
    "scores.name='점수'\n",
    "scores.index.name='이름'\n",
    "print(scores)"
   ]
  },
  {
   "cell_type": "code",
   "execution_count": 14,
   "metadata": {},
   "outputs": [
    {
     "name": "stdout",
     "output_type": "stream",
     "text": [
      "홍길동     85\n",
      "김철수     70\n",
      "이영희    100\n",
      "최민수     90\n",
      "홍길동     55\n",
      "dtype: int64\n"
     ]
    }
   ],
   "source": [
    "# 인덱스 배열의 요소는 중복이 되어도 된다\n",
    "scores = pd.Series([85,70,100,90,55],index=['홍길동','김철수','이영희','최민수','홍길동'])\n",
    "print(scores)\n",
    "print(scores['홍길동'])"
   ]
  },
  {
   "cell_type": "markdown",
   "metadata": {},
   "source": [
    "#### 시리즈 연산\n",
    "시리즈도 numpy 배열과 같이 벡터화 연산이 가능함\n",
    "단, 연산 작업은 값에만 적용됨"
   ]
  },
  {
   "cell_type": "code",
   "execution_count": 19,
   "metadata": {},
   "outputs": [
    {
     "name": "stdout",
     "output_type": "stream",
     "text": [
      "홍길동    34.0\n",
      "김철수    28.0\n",
      "이영희    40.0\n",
      "최민수    36.0\n",
      "홍길동    22.0\n",
      "dtype: float64\n",
      "홍길동    True\n",
      "김철수    True\n",
      "이영희    True\n",
      "최민수    True\n",
      "홍길동    True\n",
      "dtype: bool\n",
      "홍길동     60\n",
      "김철수    100\n",
      "이영희     90\n",
      "최민수     70\n",
      "박지성     95\n",
      "dtype: int64\n",
      "홍길동     85\n",
      "김철수     70\n",
      "이영희    100\n",
      "최민수     90\n",
      "홍길동     55\n",
      "dtype: int64\n"
     ]
    }
   ],
   "source": [
    "scores * 0.4\n",
    "print(scores * 0.4)\n",
    "print(scores >= 0.4)\n",
    "scores2 = pd.Series([60,100,90,70,95],index=['홍길동','김철수','이영희','최민수','박지성'])\n",
    "print(scores2)\n",
    "print(scores)"
   ]
  },
  {
   "cell_type": "code",
   "execution_count": 20,
   "metadata": {},
   "outputs": [
    {
     "name": "stdout",
     "output_type": "stream",
     "text": [
      "김철수    170.0\n",
      "박지성      NaN\n",
      "이영희    190.0\n",
      "최민수    160.0\n",
      "홍길동    145.0\n",
      "홍길동    115.0\n",
      "dtype: float64\n"
     ]
    }
   ],
   "source": [
    "print(scores+scores2)"
   ]
  },
  {
   "cell_type": "markdown",
   "metadata": {},
   "source": [
    "####시리즈 인덱싱\n",
    "시리즈도 리스트나 배열과 같이 인덱스 번호로 접근이 가능\n",
    "단, 시리즈는 index값으로도 접근이 가능\n",
    "배열 인덱싱이나 슬라이싱 모두 가능"
   ]
  },
  {
   "cell_type": "code",
   "execution_count": 21,
   "metadata": {},
   "outputs": [
    {
     "name": "stdout",
     "output_type": "stream",
     "text": [
      "70 70\n"
     ]
    },
    {
     "name": "stderr",
     "output_type": "stream",
     "text": [
      "C:\\Users\\ITPS\\AppData\\Local\\Temp\\ipykernel_12252\\221387229.py:1: FutureWarning: Series.__getitem__ treating keys as positions is deprecated. In a future version, integer keys will always be treated as labels (consistent with DataFrame behavior). To access a value by position, use `ser.iloc[pos]`\n",
      "  print(scores[1],scores['김철수'])\n"
     ]
    }
   ],
   "source": [
    "print(scores[1],scores['김철수'])"
   ]
  },
  {
   "cell_type": "markdown",
   "metadata": {},
   "source": [
    "배열 인덱싱을 사용하여 자료의 순서를 바꾸거나 특정한 자료만 선택하여 시리즈 객체를 생성할 수 있음"
   ]
  },
  {
   "cell_type": "code",
   "execution_count": 30,
   "metadata": {},
   "outputs": [
    {
     "name": "stdout",
     "output_type": "stream",
     "text": [
      "홍길동     85\n",
      "김철수     70\n",
      "이영희    100\n",
      "최민수     90\n",
      "홍길동     55\n",
      "dtype: int64\n",
      "홍길동    85\n",
      "최민수    90\n",
      "김철수    70\n",
      "dtype: int64\n",
      "홍길동    85\n",
      "홍길동    55\n",
      "최민수    90\n",
      "김철수    70\n",
      "dtype: int64\n",
      "홍길동    False\n",
      "김철수    False\n",
      "이영희    False\n",
      "최민수    False\n",
      "홍길동     True\n",
      "dtype: bool\n"
     ]
    },
    {
     "name": "stderr",
     "output_type": "stream",
     "text": [
      "C:\\Users\\ITPS\\AppData\\Local\\Temp\\ipykernel_12252\\2646309059.py:2: FutureWarning: Series.__getitem__ treating keys as positions is deprecated. In a future version, integer keys will always be treated as labels (consistent with DataFrame behavior). To access a value by position, use `ser.iloc[pos]`\n",
      "  print(scores[[0,3,1]])\n"
     ]
    }
   ],
   "source": [
    "print(scores)\n",
    "print(scores[[0,3,1]])\n",
    "print(scores[['홍길동','최민수','김철수']])\n",
    "print((scores<70))"
   ]
  },
  {
   "cell_type": "markdown",
   "metadata": {},
   "source": [
    "시리즈 객체도 슬라이싱이 가능한데 인덱스의 이름(라벨)으로 슬라이싱할때는 인덱스 번호로 슬라이싱할때\n",
    "와 다르게 마지막 인덱스 값도 포함되어 반환됨"
   ]
  },
  {
   "cell_type": "code",
   "execution_count": 33,
   "metadata": {},
   "outputs": [
    {
     "name": "stdout",
     "output_type": "stream",
     "text": [
      "홍길동     85\n",
      "김철수     70\n",
      "이영희    100\n",
      "최민수     90\n",
      "홍길동     55\n",
      "dtype: int64\n",
      "김철수     70\n",
      "이영희    100\n",
      "dtype: int64\n",
      "김철수     70\n",
      "이영희    100\n",
      "최민수     90\n",
      "dtype: int64\n"
     ]
    }
   ],
   "source": [
    "print(scores)\n",
    "print(scores[1:3])\n",
    "print(scores['김철수':'최민수'])"
   ]
  },
  {
   "cell_type": "markdown",
   "metadata": {},
   "source": [
    "시리즈 객체의 라벨이 영문자로 이루어져 있다면 객체의 속성에 접근하는 것과 같은 방법으로 접근할 수 있음"
   ]
  },
  {
   "cell_type": "code",
   "execution_count": 35,
   "metadata": {},
   "outputs": [
    {
     "name": "stdout",
     "output_type": "stream",
     "text": [
      "a    0\n",
      "b    1\n",
      "c    2\n",
      "dtype: int64\n",
      "0\n",
      "1\n"
     ]
    }
   ],
   "source": [
    "s0 = pd.Series(range(3),index=['a','b','c'])\n",
    "print(s0)\n",
    "print(s0.a)\n",
    "print(s0.b)"
   ]
  },
  {
   "cell_type": "markdown",
   "metadata": {},
   "source": [
    "#### 시리즈와 딕셔너리\n",
    "시리즈는 인덱스의 이름(라벨)과 값이 한쌍으로 이루어져서 관리되어 지는데, 이는 파이썬의 기본\n",
    "자료구조인 키와 값을 한 쌍으로 관리하는 딕셔너리와 비슷함\n",
    "\n",
    "시리즈 객체도 딕셔너리에서 사용가능한 `in`연산과 `items()`메서드를 사용할 수 있음"
   ]
  },
  {
   "cell_type": "code",
   "execution_count": 40,
   "metadata": {},
   "outputs": [
    {
     "name": "stdout",
     "output_type": "stream",
     "text": [
      "False\n",
      "True\n",
      "홍길동:85\n",
      "김철수:70\n",
      "이영희:100\n",
      "최민수:90\n",
      "홍길동:55\n"
     ]
    }
   ],
   "source": [
    "print('이재용' in scores)\n",
    "print('홍길동' in scores)\n",
    "for label,value in scores.items():\n",
    "    print(f'{label}:{value}')"
   ]
  },
  {
   "cell_type": "markdown",
   "metadata": {},
   "source": [
    "시리즈 객체는 딕셔너리 객체로 직접 생성할 수 있음\n",
    "단, 딕셔너리 객체는 순서가 보장되지 않기 때문에 순서를 결정하고 싶다면 `index`매개변수에 순서를 \n",
    "정한 인덱스 배열 또는 리스트를 전달해야함"
   ]
  },
  {
   "cell_type": "code",
   "execution_count": 47,
   "metadata": {},
   "outputs": [
    {
     "name": "stdout",
     "output_type": "stream",
     "text": [
      "홍길동     60\n",
      "김철수     90\n",
      "이재용    100\n",
      "권지용     75\n",
      "dtype: int64\n",
      "권지용     75\n",
      "김철수     90\n",
      "이재용    100\n",
      "홍길동     60\n",
      "dtype: int64\n",
      "권지용     75.0\n",
      "김철수     90.0\n",
      "이재용    100.0\n",
      "박지성      NaN\n",
      "dtype: float64\n"
     ]
    }
   ],
   "source": [
    "scores2 = pd.Series({'홍길동':60,'김철수':90,'이재용':100,'권지용':75})\n",
    "print(scores2)\n",
    "scores2 = pd.Series({'홍길동':60,'김철수':90,'이재용':100,'권지용':75},\n",
    "                    index=['권지용','김철수','이재용','홍길동'])\n",
    "print(scores2)\n",
    "scores2 = pd.Series({'홍길동':60,'김철수':90,'이재용':100,'권지용':75},\n",
    "                    index=['권지용','김철수','이재용','박지성'])\n",
    "print(scores2)"
   ]
  },
  {
   "cell_type": "markdown",
   "metadata": {},
   "source": [
    "#### 인덱스 기반 연산\n",
    "두 시리즈 객체간에 연산을 진행하면 인덱스가 같은 데이터에 대해서만 연산을 진행함\n",
    "시리즈 모두에 존재하지 않는 인덱스는 `NaN`으로 표시 됨"
   ]
  },
  {
   "cell_type": "code",
   "execution_count": 62,
   "metadata": {},
   "outputs": [
    {
     "name": "stdout",
     "output_type": "stream",
     "text": [
      "홍길동     85\n",
      "김철수     70\n",
      "이영희    100\n",
      "최민수     90\n",
      "홍길동     55\n",
      "dtype: int64\n",
      "권지용     75.0\n",
      "김철수     90.0\n",
      "이재용    100.0\n",
      "박지성      NaN\n",
      "dtype: float64\n",
      "권지용      NaN\n",
      "김철수    160.0\n",
      "박지성      NaN\n",
      "이영희      NaN\n",
      "이재용      NaN\n",
      "최민수      NaN\n",
      "홍길동      NaN\n",
      "홍길동      NaN\n",
      "dtype: float64\n"
     ]
    }
   ],
   "source": [
    "print(scores)\n",
    "print(scores2)\n",
    "score_sums=scores+scores2\n",
    "print(score_sums)"
   ]
  },
  {
   "cell_type": "markdown",
   "metadata": {},
   "source": [
    "값들 끼리의 연산에서는 동일하게 존재하는 인덱스의 값들에 대해서만 나타남\n",
    "(길이가 다른 값들에 대해서는 연산 불가)"
   ]
  },
  {
   "cell_type": "code",
   "execution_count": 59,
   "metadata": {},
   "outputs": [
    {
     "ename": "ValueError",
     "evalue": "operands could not be broadcast together with shapes (5,) (4,) ",
     "output_type": "error",
     "traceback": [
      "\u001b[1;31m---------------------------------------------------------------------------\u001b[0m",
      "\u001b[1;31mValueError\u001b[0m                                Traceback (most recent call last)",
      "Cell \u001b[1;32mIn[59], line 1\u001b[0m\n\u001b[1;32m----> 1\u001b[0m \u001b[38;5;28mprint\u001b[39m(\u001b[43mscores\u001b[49m\u001b[38;5;241;43m.\u001b[39;49m\u001b[43mvalues\u001b[49m\u001b[38;5;241;43m+\u001b[39;49m\u001b[43mscores2\u001b[49m\u001b[38;5;241;43m.\u001b[39;49m\u001b[43mvalues\u001b[49m)\n",
      "\u001b[1;31mValueError\u001b[0m: operands could not be broadcast together with shapes (5,) (4,) "
     ]
    }
   ],
   "source": [
    "print(scores.values+scores2.values)"
   ]
  },
  {
   "cell_type": "markdown",
   "metadata": {},
   "source": [
    "시리즈 객체에서 값이 `NaN`인지 아닌지 구하려면 `notnull()`메서드를 사용할 수 있음"
   ]
  },
  {
   "cell_type": "code",
   "execution_count": 57,
   "metadata": {},
   "outputs": [
    {
     "name": "stdout",
     "output_type": "stream",
     "text": [
      "권지용      NaN\n",
      "김철수    160.0\n",
      "박지성      NaN\n",
      "이영희      NaN\n",
      "이재용      NaN\n",
      "최민수      NaN\n",
      "홍길동      NaN\n",
      "홍길동      NaN\n",
      "dtype: float64\n",
      "권지용    False\n",
      "김철수     True\n",
      "박지성    False\n",
      "이영희    False\n",
      "이재용    False\n",
      "최민수    False\n",
      "홍길동    False\n",
      "홍길동    False\n",
      "dtype: bool\n",
      "김철수    160.0\n",
      "dtype: float64\n"
     ]
    }
   ],
   "source": [
    "print(score_sums)\n",
    "print(score_sums.notnull())\n",
    "print(score_sums[score_sums.notnull()])"
   ]
  },
  {
   "cell_type": "markdown",
   "metadata": {},
   "source": [
    "#### 데이터 갱신, 추가, 삭제\n",
    "딕셔너리와 같은 방법으로 데이터를 갱신, 추가, 삭제를 할 수 있음"
   ]
  },
  {
   "cell_type": "code",
   "execution_count": 63,
   "metadata": {},
   "outputs": [
    {
     "name": "stdout",
     "output_type": "stream",
     "text": [
      "권지용      NaN\n",
      "김철수    120.0\n",
      "박지성      NaN\n",
      "이영희      NaN\n",
      "이재용      NaN\n",
      "최민수      NaN\n",
      "홍길동      NaN\n",
      "홍길동      NaN\n",
      "dtype: float64\n",
      "권지용      NaN\n",
      "김철수    120.0\n",
      "박지성      NaN\n",
      "이영희      NaN\n",
      "이재용      NaN\n",
      "최민수      NaN\n",
      "홍길동      NaN\n",
      "홍길동      NaN\n",
      "남궁선    100.0\n",
      "dtype: float64\n"
     ]
    }
   ],
   "source": [
    "score_sums['김철수']=120\n",
    "print(score_sums)\n",
    "score_sums['남궁선']=100\n",
    "print(score_sums)"
   ]
  },
  {
   "cell_type": "code",
   "execution_count": 68,
   "metadata": {},
   "outputs": [
    {
     "name": "stdout",
     "output_type": "stream",
     "text": [
      "권지용      NaN\n",
      "김철수    120.0\n",
      "박지성      NaN\n",
      "최민수      NaN\n",
      "홍길동      NaN\n",
      "홍길동      NaN\n",
      "남궁선    100.0\n",
      "dtype: float64\n",
      "nan\n",
      "권지용      NaN\n",
      "김철수    120.0\n",
      "박지성      NaN\n",
      "홍길동      NaN\n",
      "홍길동      NaN\n",
      "남궁선    100.0\n",
      "dtype: float64\n",
      "홍길동   NaN\n",
      "홍길동   NaN\n",
      "dtype: float64\n",
      "권지용      NaN\n",
      "김철수    120.0\n",
      "박지성      NaN\n",
      "남궁선    100.0\n",
      "dtype: float64\n"
     ]
    }
   ],
   "source": [
    "del score_sums['이영희']\n",
    "print(score_sums)\n",
    "print(score_sums.pop('최민수'))\n",
    "print(score_sums)\n",
    "print(score_sums.pop('홍길동'))\n",
    "print(score_sums)"
   ]
  },
  {
   "cell_type": "markdown",
   "metadata": {},
   "source": [
    "\n",
    "**파이썬으로 다음 연산을 수행한다.**\n",
    "\n",
    "\n",
    "1.  임의로 두 개의 시리즈 객체를 만든다. \n",
    "\n",
    "모두 문자열 인덱스를 가져야 하며 두 시리즈에 공통적으로 포함되지 않는 라벨이 있어야 한다.\n",
    "\n",
    "딕셔너리 store1 = {\n",
    "'apple': 500,\n",
    "'banana': 3000,\n",
    "'carrot': 1000\n",
    "}\n",
    "\n",
    "딕셔너리 store2 = {\n",
    "'apple': 800,\n",
    "'banana': 2500,\n",
    "'dabai': 5000\n",
    "}\n",
    "\n",
    "2. 위에서 만든 두 시리즈 객체를 이용하여 사칙 연산을 한다. \n",
    "\n",
    "겹치지 않는 인덱스에 대해서 NaN으로 표시하는 시리즈 객체들과 \n",
    "\n",
    "겹치는 인덱스만 표시하는 시리즈 객체를 모두 생성한다."
   ]
  },
  {
   "cell_type": "code",
   "execution_count": 77,
   "metadata": {},
   "outputs": [
    {
     "name": "stdout",
     "output_type": "stream",
     "text": [
      "apple     1300.0\n",
      "banana    5500.0\n",
      "dtype: float64\n",
      "carrot   NaN\n",
      "dabai    NaN\n",
      "dtype: float64\n",
      "\n",
      "apple    -300.0\n",
      "banana    500.0\n",
      "dtype: float64\n",
      "carrot   NaN\n",
      "dabai    NaN\n",
      "dtype: float64\n",
      "\n",
      "apple      400000.0\n",
      "banana    7500000.0\n",
      "dtype: float64\n",
      "carrot   NaN\n",
      "dabai    NaN\n",
      "dtype: float64\n",
      "\n",
      "apple     0.625\n",
      "banana    1.200\n",
      "dtype: float64\n",
      "carrot   NaN\n",
      "dabai    NaN\n",
      "dtype: float64\n",
      "\n"
     ]
    }
   ],
   "source": [
    "store1=pd.Series({'apple':500,'banana':3000,'carrot':1000})\n",
    "# print(store1)\n",
    "store2=pd.Series({'apple':800,'banana':2500,'dabai':5000})\n",
    "# print(store2)\n",
    "# print()\n",
    "store3 = store1+store2\n",
    "print(store3[store3.notnull()])\n",
    "print(store3[~store3.notnull()])\n",
    "print()\n",
    "store4 = store1-store2\n",
    "print(store4[store4.notnull()])\n",
    "print(store4[~store4.notnull()])\n",
    "print()\n",
    "store5 = store1*store2\n",
    "print(store5[store5.notnull()])\n",
    "print(store5[~store5.notnull()])\n",
    "print()\n",
    "store6 = store1/store2\n",
    "print(store6[store6.notnull()])\n",
    "print(store6[~store6.notnull()])\n",
    "print()\n",
    "\n"
   ]
  },
  {
   "cell_type": "markdown",
   "metadata": {},
   "source": [
    "### 데이터프레임 클래스\n",
    "2차원 형태의 형렬에 열과 행에 대한 인덱스가 붙은 형태. 즉, 표(table)"
   ]
  },
  {
   "cell_type": "markdown",
   "metadata": {},
   "source": [
    "#### 데이터 프레임 생성 방법\n",
    "1. 열 인덱스 배열 혹은 리스트를 생성\n",
    "2. 행 인덱스 배열 혹은 리스트를 생성\n",
    "3. 각 열과 행에 해당하는 데이터를 가지고 있는 딕셔너리를 생성\n",
    "4. pandas 패키지의 DataFrame 클래스의 생성자로 데이터 딕셔너리와 행 인덱스, 열 인덱스를\n",
    "전달하여 생성"
   ]
  },
  {
   "cell_type": "code",
   "execution_count": 4,
   "metadata": {},
   "outputs": [
    {
     "name": "stdout",
     "output_type": "stream",
     "text": [
      "     지역     2000     2005     2010     2015  2010-2015 증가율\n",
      "서울  수도권  9853972  9762546  9631482  9904312         0.0283\n",
      "부산  경상권  3655437  3512547  3393191  3448737         0.0163\n",
      "인천  수도권  2466338  2517680  2632035  2890451         0.0982\n",
      "대구  경상권  2473990  2456016  2431774  2466052         0.0141\n"
     ]
    }
   ],
   "source": [
    "columns=['지역','2000','2005','2010','2015','2010-2015 증가율']\n",
    "index=['서울','부산','인천','대구']\n",
    "data = {\n",
    "    '2015':[9904312,3448737,2890451,2466052],\n",
    "    '2010':[9631482,3393191,2632035,2431774],\n",
    "    '2005':[9762546,3512547,2517680,2456016],\n",
    "    '2000':[9853972,3655437,2466338,2473990],\n",
    "    '지역':['수도권','경상권','수도권','경상권'],\n",
    "    '2010-2015 증가율':[.0283,.0163,.0982,.0141]\n",
    "}\n",
    "\n",
    "df = pd.DataFrame(data,index=index,columns=columns)\n",
    "print(df)"
   ]
  },
  {
   "cell_type": "markdown",
   "metadata": {},
   "source": [
    "`values` 속성:데이터에 대한 배열 반환\n",
    "`columns` 속성: 열 인덱스에 대한 배열 반환\n",
    "`index` 속성: 행 인덱스에 대한 배열 반환"
   ]
  },
  {
   "cell_type": "code",
   "execution_count": 5,
   "metadata": {},
   "outputs": [
    {
     "name": "stdout",
     "output_type": "stream",
     "text": [
      "[['수도권' 9853972 9762546 9631482 9904312 0.0283]\n",
      " ['경상권' 3655437 3512547 3393191 3448737 0.0163]\n",
      " ['수도권' 2466338 2517680 2632035 2890451 0.0982]\n",
      " ['경상권' 2473990 2456016 2431774 2466052 0.0141]]\n",
      "Index(['지역', '2000', '2005', '2010', '2015', '2010-2015 증가율'], dtype='object')\n",
      "Index(['서울', '부산', '인천', '대구'], dtype='object')\n"
     ]
    }
   ],
   "source": [
    "print(df.values)\n",
    "print(df.columns)\n",
    "print(df.index)"
   ]
  },
  {
   "cell_type": "markdown",
   "metadata": {},
   "source": [
    "열 인덱스와 행 인덱스에 이름을 부여할 수 있음"
   ]
  },
  {
   "cell_type": "code",
   "execution_count": 6,
   "metadata": {},
   "outputs": [
    {
     "name": "stdout",
     "output_type": "stream",
     "text": [
      "특성   지역     2000     2005     2010     2015  2010-2015 증가율\n",
      "도시                                                        \n",
      "서울  수도권  9853972  9762546  9631482  9904312         0.0283\n",
      "부산  경상권  3655437  3512547  3393191  3448737         0.0163\n",
      "인천  수도권  2466338  2517680  2632035  2890451         0.0982\n",
      "대구  경상권  2473990  2456016  2431774  2466052         0.0141\n"
     ]
    }
   ],
   "source": [
    "df.index.name = '도시'\n",
    "df.columns.name = '특성'\n",
    "print(df)"
   ]
  },
  {
   "cell_type": "code",
   "execution_count": 16,
   "metadata": {},
   "outputs": [
    {
     "name": "stdout",
     "output_type": "stream",
     "text": [
      "     지역     2000     2005     2010     2015  2010-2015 증가율 1995\n",
      "서울  수도권  9853972  9762546  9631482  9904312         0.0283  NaN\n",
      "부산  경상권  3655437  3512547  3393191  3448737         0.0163  NaN\n",
      "인천  수도권  2466338  2517680  2632035  2890451         0.0982  NaN\n",
      "대구  경상권  2473990  2456016  2431774  2466052         0.0141  NaN\n"
     ]
    }
   ],
   "source": [
    "columns=['지역','2000','2005','2010','2015','2010-2015 증가율','1995']\n",
    "index=['서울','부산','인천','대구']\n",
    "data = {\n",
    "    '2015':[9904312,3448737,2890451,2466052],\n",
    "    '2010':[9631482,3393191,2632035,2431774],\n",
    "    '2005':[9762546,3512547,2517680,2456016],\n",
    "    '2000':[9853972,3655437,2466338,2473990],\n",
    "    '지역':['수도권','경상권','수도권','경상권'],\n",
    "    '2010-2015 증가율':[.0283,.0163,.0982,.0141]\n",
    "}\n",
    "\n",
    "df = pd.DataFrame(data,index=index,columns=columns)\n",
    "print(df)"
   ]
  },
  {
   "cell_type": "markdown",
   "metadata": {},
   "source": [
    "데이터프레임은 넘파이 2차원 배열이 제공하는 대부분의 속성과 메서드를 지원함"
   ]
  },
  {
   "cell_type": "code",
   "execution_count": 10,
   "metadata": {},
   "outputs": [
    {
     "name": "stdout",
     "output_type": "stream",
     "text": [
      "                    서울       부산       인천       대구\n",
      "지역                 수도권      경상권      수도권      경상권\n",
      "2000           9853972  3655437  2466338  2473990\n",
      "2005           9762546  3512547  2517680  2456016\n",
      "2010           9631482  3393191  2632035  2431774\n",
      "2015           9904312  3448737  2890451  2466052\n",
      "2010-2015 증가율   0.0283   0.0163   0.0982   0.0141\n",
      "1995               NaN      NaN      NaN      NaN\n"
     ]
    }
   ],
   "source": [
    "print(df.T)"
   ]
  },
  {
   "cell_type": "markdown",
   "metadata": {},
   "source": []
  },
  {
   "cell_type": "markdown",
   "metadata": {},
   "source": [
    " **파이썬으로 다음 연산을 수행한다.**\n",
    " \n",
    "\n",
    "다음 조건을 만족하는 임의의 데이터프레임을 하나 만든다.\n",
    "\n",
    "\n",
    "지역: 서울, 인천, 부산, 울산, 대구\n",
    "\n",
    "최저기온: -2, -1, 2, 3 ,1\n",
    "\n",
    "최고기온: 7, 6, 9, 7, 1\n",
    "\n",
    "오전 강수확률: 0.2, 0.2, 0.3, 0.3, 0.3\n",
    "\n",
    "오후 강수확률: 0.6 0.6 0.6 0.6 0.6\n"
   ]
  },
  {
   "cell_type": "code",
   "execution_count": 15,
   "metadata": {},
   "outputs": [
    {
     "name": "stdout",
     "output_type": "stream",
     "text": [
      "   최저기온  최고기온  오전 강수확률  오후 강수확률\n",
      "0    -2     7      0.2      0.6\n",
      "1    -1     6      0.2      0.6\n",
      "2     2     9      0.3      0.6\n",
      "3     3     7      0.3      0.6\n",
      "4     1     1      0.3      0.6\n"
     ]
    },
    {
     "data": {
      "text/html": [
       "<div>\n",
       "<style scoped>\n",
       "    .dataframe tbody tr th:only-of-type {\n",
       "        vertical-align: middle;\n",
       "    }\n",
       "\n",
       "    .dataframe tbody tr th {\n",
       "        vertical-align: top;\n",
       "    }\n",
       "\n",
       "    .dataframe thead th {\n",
       "        text-align: right;\n",
       "    }\n",
       "</style>\n",
       "<table border=\"1\" class=\"dataframe\">\n",
       "  <thead>\n",
       "    <tr style=\"text-align: right;\">\n",
       "      <th></th>\n",
       "      <th>최저기온</th>\n",
       "      <th>최고기온</th>\n",
       "      <th>오전 강수확률</th>\n",
       "      <th>오후 강수확률</th>\n",
       "    </tr>\n",
       "  </thead>\n",
       "  <tbody>\n",
       "    <tr>\n",
       "      <th>0</th>\n",
       "      <td>-2</td>\n",
       "      <td>7</td>\n",
       "      <td>0.2</td>\n",
       "      <td>0.6</td>\n",
       "    </tr>\n",
       "    <tr>\n",
       "      <th>1</th>\n",
       "      <td>-1</td>\n",
       "      <td>6</td>\n",
       "      <td>0.2</td>\n",
       "      <td>0.6</td>\n",
       "    </tr>\n",
       "    <tr>\n",
       "      <th>2</th>\n",
       "      <td>2</td>\n",
       "      <td>9</td>\n",
       "      <td>0.3</td>\n",
       "      <td>0.6</td>\n",
       "    </tr>\n",
       "    <tr>\n",
       "      <th>3</th>\n",
       "      <td>3</td>\n",
       "      <td>7</td>\n",
       "      <td>0.3</td>\n",
       "      <td>0.6</td>\n",
       "    </tr>\n",
       "    <tr>\n",
       "      <th>4</th>\n",
       "      <td>1</td>\n",
       "      <td>1</td>\n",
       "      <td>0.3</td>\n",
       "      <td>0.6</td>\n",
       "    </tr>\n",
       "  </tbody>\n",
       "</table>\n",
       "</div>"
      ],
      "text/plain": [
       "   최저기온  최고기온  오전 강수확률  오후 강수확률\n",
       "0    -2     7      0.2      0.6\n",
       "1    -1     6      0.2      0.6\n",
       "2     2     9      0.3      0.6\n",
       "3     3     7      0.3      0.6\n",
       "4     1     1      0.3      0.6"
      ]
     },
     "execution_count": 15,
     "metadata": {},
     "output_type": "execute_result"
    }
   ],
   "source": [
    "columns=['최저기온','최고기온','오전 강수확률','오후 강수확률']\n",
    "data = {\n",
    "    '최저기온':[-2,-1,2,3,1],\n",
    "    '최고기온':[7,6,9,7,1],\n",
    "    '오전 강수확률':[0.2,0.2,0.3,0.3,0.3],\n",
    "    '오후 강수확률':[0.6,0.6,0.6,0.6,0.6],\n",
    "}\n",
    "\n",
    "df = pd.DataFrame(data,columns=columns)\n",
    "print(df)\n",
    "df"
   ]
  },
  {
   "cell_type": "markdown",
   "metadata": {},
   "source": [
    "#### 열 데이터 갱신,추가,삭제\n",
    "데이터 프레임은 열 단위로 데이터를 추가,수정,삭제할 수 있음"
   ]
  },
  {
   "cell_type": "code",
   "execution_count": 17,
   "metadata": {},
   "outputs": [
    {
     "name": "stdout",
     "output_type": "stream",
     "text": [
      "     지역     2000     2005     2010     2015  2010-2015 증가율 1995\n",
      "서울  수도권  9853972  9762546  9631482  9904312         0.0283  NaN\n",
      "부산  경상권  3655437  3512547  3393191  3448737         0.0163  NaN\n",
      "인천  수도권  2466338  2517680  2632035  2890451         0.0982  NaN\n",
      "대구  경상권  2473990  2456016  2431774  2466052         0.0141  NaN\n"
     ]
    }
   ],
   "source": [
    "columns=['지역','2000','2005','2010','2015','2010-2015 증가율','1995']\n",
    "index=['서울','부산','인천','대구']\n",
    "data = {\n",
    "    '2015':[9904312,3448737,2890451,2466052],\n",
    "    '2010':[9631482,3393191,2632035,2431774],\n",
    "    '2005':[9762546,3512547,2517680,2456016],\n",
    "    '2000':[9853972,3655437,2466338,2473990],\n",
    "    '지역':['수도권','경상권','수도권','경상권'],\n",
    "    '2010-2015 증가율':[.0283,.0163,.0982,.0141]\n",
    "}\n",
    "\n",
    "df = pd.DataFrame(data,index=index,columns=columns)\n",
    "print(df)"
   ]
  },
  {
   "cell_type": "code",
   "execution_count": 18,
   "metadata": {},
   "outputs": [
    {
     "name": "stdout",
     "output_type": "stream",
     "text": [
      "특성   지역     2000     2005     2010     2015  2010-2015 증가율 1995\n",
      "도시                                                             \n",
      "서울  수도권  9853972  9762546  9631482  9904312         0.0283  NaN\n",
      "부산  경상권  3655437  3512547  3393191  3448737         0.0163  NaN\n",
      "인천  수도권  2466338  2517680  2632035  2890451         0.0982  NaN\n",
      "대구  경상권  2473990  2456016  2431774  2466052         0.0141  NaN\n"
     ]
    }
   ],
   "source": [
    "df.index.name = '도시'\n",
    "df.columns.name = '특성'\n",
    "print(df)"
   ]
  },
  {
   "cell_type": "code",
   "execution_count": 20,
   "metadata": {},
   "outputs": [
    {
     "data": {
      "text/html": [
       "<div>\n",
       "<style scoped>\n",
       "    .dataframe tbody tr th:only-of-type {\n",
       "        vertical-align: middle;\n",
       "    }\n",
       "\n",
       "    .dataframe tbody tr th {\n",
       "        vertical-align: top;\n",
       "    }\n",
       "\n",
       "    .dataframe thead th {\n",
       "        text-align: right;\n",
       "    }\n",
       "</style>\n",
       "<table border=\"1\" class=\"dataframe\">\n",
       "  <thead>\n",
       "    <tr style=\"text-align: right;\">\n",
       "      <th>특성</th>\n",
       "      <th>지역</th>\n",
       "      <th>2000</th>\n",
       "      <th>2005</th>\n",
       "      <th>2010</th>\n",
       "      <th>2015</th>\n",
       "      <th>2010-2015 증가율</th>\n",
       "      <th>1995</th>\n",
       "    </tr>\n",
       "    <tr>\n",
       "      <th>도시</th>\n",
       "      <th></th>\n",
       "      <th></th>\n",
       "      <th></th>\n",
       "      <th></th>\n",
       "      <th></th>\n",
       "      <th></th>\n",
       "      <th></th>\n",
       "    </tr>\n",
       "  </thead>\n",
       "  <tbody>\n",
       "    <tr>\n",
       "      <th>서울</th>\n",
       "      <td>수도권</td>\n",
       "      <td>9853972</td>\n",
       "      <td>9762546</td>\n",
       "      <td>9631482</td>\n",
       "      <td>9904312</td>\n",
       "      <td>283.0</td>\n",
       "      <td>NaN</td>\n",
       "    </tr>\n",
       "    <tr>\n",
       "      <th>부산</th>\n",
       "      <td>경상권</td>\n",
       "      <td>3655437</td>\n",
       "      <td>3512547</td>\n",
       "      <td>3393191</td>\n",
       "      <td>3448737</td>\n",
       "      <td>163.0</td>\n",
       "      <td>NaN</td>\n",
       "    </tr>\n",
       "    <tr>\n",
       "      <th>인천</th>\n",
       "      <td>수도권</td>\n",
       "      <td>2466338</td>\n",
       "      <td>2517680</td>\n",
       "      <td>2632035</td>\n",
       "      <td>2890451</td>\n",
       "      <td>982.0</td>\n",
       "      <td>NaN</td>\n",
       "    </tr>\n",
       "    <tr>\n",
       "      <th>대구</th>\n",
       "      <td>경상권</td>\n",
       "      <td>2473990</td>\n",
       "      <td>2456016</td>\n",
       "      <td>2431774</td>\n",
       "      <td>2466052</td>\n",
       "      <td>141.0</td>\n",
       "      <td>NaN</td>\n",
       "    </tr>\n",
       "  </tbody>\n",
       "</table>\n",
       "</div>"
      ],
      "text/plain": [
       "특성   지역     2000     2005     2010     2015  2010-2015 증가율 1995\n",
       "도시                                                             \n",
       "서울  수도권  9853972  9762546  9631482  9904312          283.0  NaN\n",
       "부산  경상권  3655437  3512547  3393191  3448737          163.0  NaN\n",
       "인천  수도권  2466338  2517680  2632035  2890451          982.0  NaN\n",
       "대구  경상권  2473990  2456016  2431774  2466052          141.0  NaN"
      ]
     },
     "execution_count": 20,
     "metadata": {},
     "output_type": "execute_result"
    }
   ],
   "source": [
    "# 수정(갱신)\n",
    "df['2010-2015 증가율']=df['2010-2015 증가율']*100\n",
    "df"
   ]
  },
  {
   "cell_type": "code",
   "execution_count": 21,
   "metadata": {},
   "outputs": [
    {
     "data": {
      "text/html": [
       "<div>\n",
       "<style scoped>\n",
       "    .dataframe tbody tr th:only-of-type {\n",
       "        vertical-align: middle;\n",
       "    }\n",
       "\n",
       "    .dataframe tbody tr th {\n",
       "        vertical-align: top;\n",
       "    }\n",
       "\n",
       "    .dataframe thead th {\n",
       "        text-align: right;\n",
       "    }\n",
       "</style>\n",
       "<table border=\"1\" class=\"dataframe\">\n",
       "  <thead>\n",
       "    <tr style=\"text-align: right;\">\n",
       "      <th>특성</th>\n",
       "      <th>지역</th>\n",
       "      <th>2000</th>\n",
       "      <th>2005</th>\n",
       "      <th>2010</th>\n",
       "      <th>2015</th>\n",
       "      <th>2010-2015 증가율</th>\n",
       "      <th>1995</th>\n",
       "      <th>2005-2010 증가율</th>\n",
       "    </tr>\n",
       "    <tr>\n",
       "      <th>도시</th>\n",
       "      <th></th>\n",
       "      <th></th>\n",
       "      <th></th>\n",
       "      <th></th>\n",
       "      <th></th>\n",
       "      <th></th>\n",
       "      <th></th>\n",
       "      <th></th>\n",
       "    </tr>\n",
       "  </thead>\n",
       "  <tbody>\n",
       "    <tr>\n",
       "      <th>서울</th>\n",
       "      <td>수도권</td>\n",
       "      <td>9853972</td>\n",
       "      <td>9762546</td>\n",
       "      <td>9631482</td>\n",
       "      <td>9904312</td>\n",
       "      <td>283.0</td>\n",
       "      <td>NaN</td>\n",
       "      <td>-1.34</td>\n",
       "    </tr>\n",
       "    <tr>\n",
       "      <th>부산</th>\n",
       "      <td>경상권</td>\n",
       "      <td>3655437</td>\n",
       "      <td>3512547</td>\n",
       "      <td>3393191</td>\n",
       "      <td>3448737</td>\n",
       "      <td>163.0</td>\n",
       "      <td>NaN</td>\n",
       "      <td>-3.40</td>\n",
       "    </tr>\n",
       "    <tr>\n",
       "      <th>인천</th>\n",
       "      <td>수도권</td>\n",
       "      <td>2466338</td>\n",
       "      <td>2517680</td>\n",
       "      <td>2632035</td>\n",
       "      <td>2890451</td>\n",
       "      <td>982.0</td>\n",
       "      <td>NaN</td>\n",
       "      <td>4.54</td>\n",
       "    </tr>\n",
       "    <tr>\n",
       "      <th>대구</th>\n",
       "      <td>경상권</td>\n",
       "      <td>2473990</td>\n",
       "      <td>2456016</td>\n",
       "      <td>2431774</td>\n",
       "      <td>2466052</td>\n",
       "      <td>141.0</td>\n",
       "      <td>NaN</td>\n",
       "      <td>-0.99</td>\n",
       "    </tr>\n",
       "  </tbody>\n",
       "</table>\n",
       "</div>"
      ],
      "text/plain": [
       "특성   지역     2000     2005     2010     2015  2010-2015 증가율 1995  2005-2010 증가율\n",
       "도시                                                                            \n",
       "서울  수도권  9853972  9762546  9631482  9904312          283.0  NaN          -1.34\n",
       "부산  경상권  3655437  3512547  3393191  3448737          163.0  NaN          -3.40\n",
       "인천  수도권  2466338  2517680  2632035  2890451          982.0  NaN           4.54\n",
       "대구  경상권  2473990  2456016  2431774  2466052          141.0  NaN          -0.99"
      ]
     },
     "execution_count": 21,
     "metadata": {},
     "output_type": "execute_result"
    }
   ],
   "source": [
    "# 추가\n",
    "df['2005-2010 증가율']=((df['2010']-df['2005'])/df['2005']*100).round(2)\n",
    "df"
   ]
  },
  {
   "cell_type": "code",
   "execution_count": 23,
   "metadata": {},
   "outputs": [
    {
     "data": {
      "text/html": [
       "<div>\n",
       "<style scoped>\n",
       "    .dataframe tbody tr th:only-of-type {\n",
       "        vertical-align: middle;\n",
       "    }\n",
       "\n",
       "    .dataframe tbody tr th {\n",
       "        vertical-align: top;\n",
       "    }\n",
       "\n",
       "    .dataframe thead th {\n",
       "        text-align: right;\n",
       "    }\n",
       "</style>\n",
       "<table border=\"1\" class=\"dataframe\">\n",
       "  <thead>\n",
       "    <tr style=\"text-align: right;\">\n",
       "      <th>특성</th>\n",
       "      <th>지역</th>\n",
       "      <th>2000</th>\n",
       "      <th>2005</th>\n",
       "      <th>2010</th>\n",
       "      <th>2015</th>\n",
       "      <th>1995</th>\n",
       "      <th>2005-2010 증가율</th>\n",
       "    </tr>\n",
       "    <tr>\n",
       "      <th>도시</th>\n",
       "      <th></th>\n",
       "      <th></th>\n",
       "      <th></th>\n",
       "      <th></th>\n",
       "      <th></th>\n",
       "      <th></th>\n",
       "      <th></th>\n",
       "    </tr>\n",
       "  </thead>\n",
       "  <tbody>\n",
       "    <tr>\n",
       "      <th>서울</th>\n",
       "      <td>수도권</td>\n",
       "      <td>9853972</td>\n",
       "      <td>9762546</td>\n",
       "      <td>9631482</td>\n",
       "      <td>9904312</td>\n",
       "      <td>NaN</td>\n",
       "      <td>-1.34</td>\n",
       "    </tr>\n",
       "    <tr>\n",
       "      <th>부산</th>\n",
       "      <td>경상권</td>\n",
       "      <td>3655437</td>\n",
       "      <td>3512547</td>\n",
       "      <td>3393191</td>\n",
       "      <td>3448737</td>\n",
       "      <td>NaN</td>\n",
       "      <td>-3.40</td>\n",
       "    </tr>\n",
       "    <tr>\n",
       "      <th>인천</th>\n",
       "      <td>수도권</td>\n",
       "      <td>2466338</td>\n",
       "      <td>2517680</td>\n",
       "      <td>2632035</td>\n",
       "      <td>2890451</td>\n",
       "      <td>NaN</td>\n",
       "      <td>4.54</td>\n",
       "    </tr>\n",
       "    <tr>\n",
       "      <th>대구</th>\n",
       "      <td>경상권</td>\n",
       "      <td>2473990</td>\n",
       "      <td>2456016</td>\n",
       "      <td>2431774</td>\n",
       "      <td>2466052</td>\n",
       "      <td>NaN</td>\n",
       "      <td>-0.99</td>\n",
       "    </tr>\n",
       "  </tbody>\n",
       "</table>\n",
       "</div>"
      ],
      "text/plain": [
       "특성   지역     2000     2005     2010     2015 1995  2005-2010 증가율\n",
       "도시                                                             \n",
       "서울  수도권  9853972  9762546  9631482  9904312  NaN          -1.34\n",
       "부산  경상권  3655437  3512547  3393191  3448737  NaN          -3.40\n",
       "인천  수도권  2466338  2517680  2632035  2890451  NaN           4.54\n",
       "대구  경상권  2473990  2456016  2431774  2466052  NaN          -0.99"
      ]
     },
     "execution_count": 23,
     "metadata": {},
     "output_type": "execute_result"
    }
   ],
   "source": [
    "# 삭제\n",
    "del df['2010-2015 증가율']\n",
    "df"
   ]
  },
  {
   "cell_type": "markdown",
   "metadata": {},
   "source": [
    "#### 열 인덱싱\n",
    "데이터프레임은 열과 행의 인덱스를 모두 가지고 있어서 열 라벨을 통한 인덱싱도 가능\n",
    "\n",
    "만약 문자열형태의 하나의 열 라벨을 인덱싱 한다면 시리즈 객체로 반환\n",
    "만약 배열 혹은 리스트 형태의 열 라벨을 인덱싱 한다면 데이터프레임 객체로 반환"
   ]
  },
  {
   "cell_type": "code",
   "execution_count": 24,
   "metadata": {},
   "outputs": [
    {
     "data": {
      "text/plain": [
       "도시\n",
       "서울    수도권\n",
       "부산    경상권\n",
       "인천    수도권\n",
       "대구    경상권\n",
       "Name: 지역, dtype: object"
      ]
     },
     "execution_count": 24,
     "metadata": {},
     "output_type": "execute_result"
    }
   ],
   "source": [
    "df['지역']"
   ]
  },
  {
   "cell_type": "code",
   "execution_count": 25,
   "metadata": {},
   "outputs": [
    {
     "data": {
      "text/html": [
       "<div>\n",
       "<style scoped>\n",
       "    .dataframe tbody tr th:only-of-type {\n",
       "        vertical-align: middle;\n",
       "    }\n",
       "\n",
       "    .dataframe tbody tr th {\n",
       "        vertical-align: top;\n",
       "    }\n",
       "\n",
       "    .dataframe thead th {\n",
       "        text-align: right;\n",
       "    }\n",
       "</style>\n",
       "<table border=\"1\" class=\"dataframe\">\n",
       "  <thead>\n",
       "    <tr style=\"text-align: right;\">\n",
       "      <th>특성</th>\n",
       "      <th>2010</th>\n",
       "      <th>2015</th>\n",
       "    </tr>\n",
       "    <tr>\n",
       "      <th>도시</th>\n",
       "      <th></th>\n",
       "      <th></th>\n",
       "    </tr>\n",
       "  </thead>\n",
       "  <tbody>\n",
       "    <tr>\n",
       "      <th>서울</th>\n",
       "      <td>9631482</td>\n",
       "      <td>9904312</td>\n",
       "    </tr>\n",
       "    <tr>\n",
       "      <th>부산</th>\n",
       "      <td>3393191</td>\n",
       "      <td>3448737</td>\n",
       "    </tr>\n",
       "    <tr>\n",
       "      <th>인천</th>\n",
       "      <td>2632035</td>\n",
       "      <td>2890451</td>\n",
       "    </tr>\n",
       "    <tr>\n",
       "      <th>대구</th>\n",
       "      <td>2431774</td>\n",
       "      <td>2466052</td>\n",
       "    </tr>\n",
       "  </tbody>\n",
       "</table>\n",
       "</div>"
      ],
      "text/plain": [
       "특성     2010     2015\n",
       "도시                  \n",
       "서울  9631482  9904312\n",
       "부산  3393191  3448737\n",
       "인천  2632035  2890451\n",
       "대구  2431774  2466052"
      ]
     },
     "execution_count": 25,
     "metadata": {},
     "output_type": "execute_result"
    }
   ],
   "source": [
    "df[['2010','2015']]"
   ]
  },
  {
   "cell_type": "code",
   "execution_count": 27,
   "metadata": {},
   "outputs": [
    {
     "data": {
      "text/html": [
       "<div>\n",
       "<style scoped>\n",
       "    .dataframe tbody tr th:only-of-type {\n",
       "        vertical-align: middle;\n",
       "    }\n",
       "\n",
       "    .dataframe tbody tr th {\n",
       "        vertical-align: top;\n",
       "    }\n",
       "\n",
       "    .dataframe thead th {\n",
       "        text-align: right;\n",
       "    }\n",
       "</style>\n",
       "<table border=\"1\" class=\"dataframe\">\n",
       "  <thead>\n",
       "    <tr style=\"text-align: right;\">\n",
       "      <th>특성</th>\n",
       "      <th>지역</th>\n",
       "    </tr>\n",
       "    <tr>\n",
       "      <th>도시</th>\n",
       "      <th></th>\n",
       "    </tr>\n",
       "  </thead>\n",
       "  <tbody>\n",
       "    <tr>\n",
       "      <th>서울</th>\n",
       "      <td>수도권</td>\n",
       "    </tr>\n",
       "    <tr>\n",
       "      <th>부산</th>\n",
       "      <td>경상권</td>\n",
       "    </tr>\n",
       "    <tr>\n",
       "      <th>인천</th>\n",
       "      <td>수도권</td>\n",
       "    </tr>\n",
       "    <tr>\n",
       "      <th>대구</th>\n",
       "      <td>경상권</td>\n",
       "    </tr>\n",
       "  </tbody>\n",
       "</table>\n",
       "</div>"
      ],
      "text/plain": [
       "특성   지역\n",
       "도시     \n",
       "서울  수도권\n",
       "부산  경상권\n",
       "인천  수도권\n",
       "대구  경상권"
      ]
     },
     "execution_count": 27,
     "metadata": {},
     "output_type": "execute_result"
    }
   ],
   "source": [
    "df[['지역']]\n"
   ]
  },
  {
   "cell_type": "markdown",
   "metadata": {},
   "source": [
    "열 인덱싱은 정수 인덱스로 인덱싱 할 수 없음"
   ]
  },
  {
   "cell_type": "code",
   "execution_count": 28,
   "metadata": {},
   "outputs": [
    {
     "ename": "KeyError",
     "evalue": "0",
     "output_type": "error",
     "traceback": [
      "\u001b[1;31m---------------------------------------------------------------------------\u001b[0m",
      "\u001b[1;31mKeyError\u001b[0m                                  Traceback (most recent call last)",
      "File \u001b[1;32mc:\\Users\\ITPS\\AppData\\Local\\Programs\\Python\\Python312\\Lib\\site-packages\\pandas\\core\\indexes\\base.py:3802\u001b[0m, in \u001b[0;36mIndex.get_loc\u001b[1;34m(self, key)\u001b[0m\n\u001b[0;32m   3801\u001b[0m \u001b[38;5;28;01mtry\u001b[39;00m:\n\u001b[1;32m-> 3802\u001b[0m     \u001b[38;5;28;01mreturn\u001b[39;00m \u001b[38;5;28;43mself\u001b[39;49m\u001b[38;5;241;43m.\u001b[39;49m\u001b[43m_engine\u001b[49m\u001b[38;5;241;43m.\u001b[39;49m\u001b[43mget_loc\u001b[49m\u001b[43m(\u001b[49m\u001b[43mcasted_key\u001b[49m\u001b[43m)\u001b[49m\n\u001b[0;32m   3803\u001b[0m \u001b[38;5;28;01mexcept\u001b[39;00m \u001b[38;5;167;01mKeyError\u001b[39;00m \u001b[38;5;28;01mas\u001b[39;00m err:\n",
      "File \u001b[1;32mindex.pyx:153\u001b[0m, in \u001b[0;36mpandas._libs.index.IndexEngine.get_loc\u001b[1;34m()\u001b[0m\n",
      "File \u001b[1;32mindex.pyx:182\u001b[0m, in \u001b[0;36mpandas._libs.index.IndexEngine.get_loc\u001b[1;34m()\u001b[0m\n",
      "File \u001b[1;32mpandas\\\\_libs\\\\hashtable_class_helper.pxi:7081\u001b[0m, in \u001b[0;36mpandas._libs.hashtable.PyObjectHashTable.get_item\u001b[1;34m()\u001b[0m\n",
      "File \u001b[1;32mpandas\\\\_libs\\\\hashtable_class_helper.pxi:7089\u001b[0m, in \u001b[0;36mpandas._libs.hashtable.PyObjectHashTable.get_item\u001b[1;34m()\u001b[0m\n",
      "\u001b[1;31mKeyError\u001b[0m: 0",
      "\nThe above exception was the direct cause of the following exception:\n",
      "\u001b[1;31mKeyError\u001b[0m                                  Traceback (most recent call last)",
      "Cell \u001b[1;32mIn[28], line 1\u001b[0m\n\u001b[1;32m----> 1\u001b[0m \u001b[43mdf\u001b[49m\u001b[43m[\u001b[49m\u001b[38;5;241;43m0\u001b[39;49m\u001b[43m]\u001b[49m\n",
      "File \u001b[1;32mc:\\Users\\ITPS\\AppData\\Local\\Programs\\Python\\Python312\\Lib\\site-packages\\pandas\\core\\frame.py:4090\u001b[0m, in \u001b[0;36mDataFrame.__getitem__\u001b[1;34m(self, key)\u001b[0m\n\u001b[0;32m   4088\u001b[0m \u001b[38;5;28;01mif\u001b[39;00m \u001b[38;5;28mself\u001b[39m\u001b[38;5;241m.\u001b[39mcolumns\u001b[38;5;241m.\u001b[39mnlevels \u001b[38;5;241m>\u001b[39m \u001b[38;5;241m1\u001b[39m:\n\u001b[0;32m   4089\u001b[0m     \u001b[38;5;28;01mreturn\u001b[39;00m \u001b[38;5;28mself\u001b[39m\u001b[38;5;241m.\u001b[39m_getitem_multilevel(key)\n\u001b[1;32m-> 4090\u001b[0m indexer \u001b[38;5;241m=\u001b[39m \u001b[38;5;28;43mself\u001b[39;49m\u001b[38;5;241;43m.\u001b[39;49m\u001b[43mcolumns\u001b[49m\u001b[38;5;241;43m.\u001b[39;49m\u001b[43mget_loc\u001b[49m\u001b[43m(\u001b[49m\u001b[43mkey\u001b[49m\u001b[43m)\u001b[49m\n\u001b[0;32m   4091\u001b[0m \u001b[38;5;28;01mif\u001b[39;00m is_integer(indexer):\n\u001b[0;32m   4092\u001b[0m     indexer \u001b[38;5;241m=\u001b[39m [indexer]\n",
      "File \u001b[1;32mc:\\Users\\ITPS\\AppData\\Local\\Programs\\Python\\Python312\\Lib\\site-packages\\pandas\\core\\indexes\\base.py:3809\u001b[0m, in \u001b[0;36mIndex.get_loc\u001b[1;34m(self, key)\u001b[0m\n\u001b[0;32m   3804\u001b[0m     \u001b[38;5;28;01mif\u001b[39;00m \u001b[38;5;28misinstance\u001b[39m(casted_key, \u001b[38;5;28mslice\u001b[39m) \u001b[38;5;129;01mor\u001b[39;00m (\n\u001b[0;32m   3805\u001b[0m         \u001b[38;5;28misinstance\u001b[39m(casted_key, abc\u001b[38;5;241m.\u001b[39mIterable)\n\u001b[0;32m   3806\u001b[0m         \u001b[38;5;129;01mand\u001b[39;00m \u001b[38;5;28many\u001b[39m(\u001b[38;5;28misinstance\u001b[39m(x, \u001b[38;5;28mslice\u001b[39m) \u001b[38;5;28;01mfor\u001b[39;00m x \u001b[38;5;129;01min\u001b[39;00m casted_key)\n\u001b[0;32m   3807\u001b[0m     ):\n\u001b[0;32m   3808\u001b[0m         \u001b[38;5;28;01mraise\u001b[39;00m InvalidIndexError(key)\n\u001b[1;32m-> 3809\u001b[0m     \u001b[38;5;28;01mraise\u001b[39;00m \u001b[38;5;167;01mKeyError\u001b[39;00m(key) \u001b[38;5;28;01mfrom\u001b[39;00m \u001b[38;5;21;01merr\u001b[39;00m\n\u001b[0;32m   3810\u001b[0m \u001b[38;5;28;01mexcept\u001b[39;00m \u001b[38;5;167;01mTypeError\u001b[39;00m:\n\u001b[0;32m   3811\u001b[0m     \u001b[38;5;66;03m# If we have a listlike key, _check_indexing_error will raise\u001b[39;00m\n\u001b[0;32m   3812\u001b[0m     \u001b[38;5;66;03m#  InvalidIndexError. Otherwise we fall through and re-raise\u001b[39;00m\n\u001b[0;32m   3813\u001b[0m     \u001b[38;5;66;03m#  the TypeError.\u001b[39;00m\n\u001b[0;32m   3814\u001b[0m     \u001b[38;5;28mself\u001b[39m\u001b[38;5;241m.\u001b[39m_check_indexing_error(key)\n",
      "\u001b[1;31mKeyError\u001b[0m: 0"
     ]
    }
   ],
   "source": [
    "df[0]"
   ]
  },
  {
   "cell_type": "markdown",
   "metadata": {},
   "source": [
    "원래부터 정수형태의 열 인덱스를 가진다면 정수 인덱스로 인덱싱 가능"
   ]
  },
  {
   "cell_type": "code",
   "execution_count": 29,
   "metadata": {},
   "outputs": [],
   "source": [
    "import numpy as np"
   ]
  },
  {
   "cell_type": "code",
   "execution_count": 34,
   "metadata": {},
   "outputs": [
    {
     "name": "stdout",
     "output_type": "stream",
     "text": [
      "   0  1   2   3\n",
      "0  0  1   2   3\n",
      "1  4  5   6   7\n",
      "2  8  9  10  11\n",
      "0     2\n",
      "1     6\n",
      "2    10\n",
      "Name: 2, dtype: int32\n",
      "   1   3\n",
      "0  1   3\n",
      "1  5   7\n",
      "2  9  11\n"
     ]
    }
   ],
   "source": [
    "df2=pd.DataFrame(np.arange(12).reshape(3,4))\n",
    "print(df2)\n",
    "print(df2[2])\n",
    "print(df2[[1,3]])"
   ]
  },
  {
   "cell_type": "markdown",
   "metadata": {},
   "source": [
    "#### 행 인덱싱\n",
    "데이터프레임에서 행으로 인덱싱 하고자한다면 반드시 슬라이싱으로 인덱싱하여야함"
   ]
  },
  {
   "cell_type": "code",
   "execution_count": 40,
   "metadata": {},
   "outputs": [
    {
     "name": "stdout",
     "output_type": "stream",
     "text": [
      "특성   지역     2000     2005     2010     2015 1995  2005-2010 증가율\n",
      "도시                                                             \n",
      "서울  수도권  9853972  9762546  9631482  9904312  NaN          -1.34\n",
      "부산  경상권  3655437  3512547  3393191  3448737  NaN          -3.40\n",
      "인천  수도권  2466338  2517680  2632035  2890451  NaN           4.54\n",
      "대구  경상권  2473990  2456016  2431774  2466052  NaN          -0.99\n"
     ]
    }
   ],
   "source": [
    "print(df)"
   ]
  },
  {
   "cell_type": "code",
   "execution_count": 51,
   "metadata": {},
   "outputs": [
    {
     "name": "stdout",
     "output_type": "stream",
     "text": [
      "특성   지역     2000     2005     2010     2015 1995  2005-2010 증가율\n",
      "도시                                                             \n",
      "서울  수도권  9853972  9762546  9631482  9904312  NaN          -1.34\n",
      "\n",
      "특성   지역     2000     2005     2010     2015 1995  2005-2010 증가율\n",
      "도시                                                             \n",
      "서울  수도권  9853972  9762546  9631482  9904312  NaN          -1.34\n",
      "부산  경상권  3655437  3512547  3393191  3448737  NaN          -3.40\n",
      "\n",
      "특성   지역     2000     2005     2010     2015 1995  2005-2010 증가율\n",
      "도시                                                             \n",
      "서울  수도권  9853972  9762546  9631482  9904312  NaN          -1.34\n",
      "부산  경상권  3655437  3512547  3393191  3448737  NaN          -3.40\n"
     ]
    }
   ],
   "source": [
    "print(df[0:1])\n",
    "print()\n",
    "print(df[0:2])\n",
    "print()\n",
    "print(df['서울':'부산'])"
   ]
  },
  {
   "cell_type": "markdown",
   "metadata": {},
   "source": [
    "#### 개별 데이터 인덱싱\n",
    "하나의 필드 값을 얻고자 한다면 열로 먼저 인덱싱 후 행으로 다시 인덱싱 함"
   ]
  },
  {
   "cell_type": "code",
   "execution_count": 47,
   "metadata": {},
   "outputs": [
    {
     "data": {
      "text/plain": [
       "9904312"
      ]
     },
     "execution_count": 47,
     "metadata": {},
     "output_type": "execute_result"
    }
   ],
   "source": [
    "df['2015']['서울']"
   ]
  },
  {
   "cell_type": "markdown",
   "metadata": {},
   "source": [
    " **파이썬으로 다음 연산을 수행한다.**\n",
    " \n",
    "\n",
    "다음 데이터프레임에서 지정하는 데이터를 뽑아내거나 처리하라.\n",
    "\n",
    "\n",
    "```python\n",
    "\n",
    "data = \n",
    "{\n",
    "    \"국어\": [80, 90, 70, 30],\n",
    "    \"영어\": [90, 70, 60, 40],\n",
    "    \"수학\": [90, 60, 80, 70],\n",
    "\n",
    "}\n",
    "columns = [\"국어\", \"영어\", \"수학\"]\n",
    "\n",
    "index = [\"춘향\", \"몽룡\", \"향단\", \"방자\"]\n",
    "\n",
    "\n",
    "df = pd.DataFrame(data, index=index, columns=columns)\n",
    "\n",
    "```\n",
    "\n",
    "(1) 모든 학생의 수학 점수를 시리즈로 나타낸다.\n",
    "\n",
    "\n",
    "(2) 모든 학생의 국어와 영어 점수를 데이터 프레임으로 나타낸다.\n",
    "\n",
    "\n",
    "(3) 모든 학생의 각 과목 평균 점수를 새로운 열로 추가한다.\n",
    "\n",
    "\n",
    "(4) 방자의 영어 점수를 80점으로 수정하고 평균 점수도 다시 계산한다.\n",
    "\n",
    "\n",
    "(5) 춘향의 점수를 데이터프레임으로 나타낸다.\n",
    "\n",
    "\n",
    "(6) 향단의 점수를 시리즈로 나타낸다."
   ]
  },
  {
   "cell_type": "code",
   "execution_count": 111,
   "metadata": {},
   "outputs": [
    {
     "name": "stdout",
     "output_type": "stream",
     "text": [
      "    국어  영어  수학\n",
      "춘향  80  90  90\n",
      "몽룡  90  70  60\n",
      "향단  70  60  80\n",
      "방자  30  40  70\n"
     ]
    }
   ],
   "source": [
    "columns = [\"국어\", \"영어\", \"수학\"]\n",
    "\n",
    "index = [\"춘향\", \"몽룡\", \"향단\", \"방자\"]\n",
    "data = {\n",
    "    \"국어\": [80, 90, 70, 30],\n",
    "    \"영어\": [90, 70, 60, 40],\n",
    "    \"수학\": [90, 60, 80, 70],\n",
    "}\n",
    "\n",
    "df = pd.DataFrame(data, index=index, columns=columns)\n",
    "print(df)"
   ]
  },
  {
   "cell_type": "code",
   "execution_count": 116,
   "metadata": {},
   "outputs": [
    {
     "name": "stdout",
     "output_type": "stream",
     "text": [
      "춘향    90\n",
      "몽룡    60\n",
      "향단    80\n",
      "방자    70\n",
      "Name: 수학, dtype: int64\n",
      "    국어  영어\n",
      "춘향  80  90\n",
      "몽룡  90  70\n",
      "향단  70  60\n",
      "방자  30  80\n",
      "    국어  영어  수학         평균\n",
      "춘향  80  90  90  86.666667\n",
      "국어    70.0\n",
      "영어    60.0\n",
      "수학    80.0\n",
      "평균    70.0\n",
      "Name: 향단, dtype: float64\n"
     ]
    }
   ],
   "source": [
    "print(df['수학'])\n",
    "print(df[['국어','영어']])\n",
    "print(df[0:1])\n",
    "print(df.T['향단'])"
   ]
  },
  {
   "cell_type": "code",
   "execution_count": 113,
   "metadata": {},
   "outputs": [
    {
     "name": "stdout",
     "output_type": "stream",
     "text": [
      "춘향    86.666667\n",
      "몽룡    73.333333\n",
      "향단    70.000000\n",
      "방자    46.666667\n",
      "Name: 평균, dtype: float64\n"
     ]
    }
   ],
   "source": [
    "df['평균']=((df['국어']+df['영어']+df['수학'])/3)\n",
    "print(df['평균'])\n",
    "\n",
    "\n",
    "\n"
   ]
  },
  {
   "cell_type": "code",
   "execution_count": 114,
   "metadata": {},
   "outputs": [
    {
     "name": "stdout",
     "output_type": "stream",
     "text": [
      "40\n",
      "80\n",
      "춘향    86.666667\n",
      "몽룡    73.333333\n",
      "향단    70.000000\n",
      "방자    60.000000\n",
      "Name: 평균, dtype: float64\n"
     ]
    },
    {
     "name": "stderr",
     "output_type": "stream",
     "text": [
      "C:\\Users\\ITPS\\AppData\\Local\\Temp\\ipykernel_6064\\584705376.py:2: FutureWarning: ChainedAssignmentError: behaviour will change in pandas 3.0!\n",
      "You are setting values through chained assignment. Currently this works in certain cases, but when using Copy-on-Write (which will become the default behaviour in pandas 3.0) this will never work to update the original DataFrame or Series, because the intermediate object on which we are setting values will behave as a copy.\n",
      "A typical example is when you are setting values in a column of a DataFrame, like:\n",
      "\n",
      "df[\"col\"][row_indexer] = value\n",
      "\n",
      "Use `df.loc[row_indexer, \"col\"] = values` instead, to perform the assignment in a single step and ensure this keeps updating the original `df`.\n",
      "\n",
      "See the caveats in the documentation: https://pandas.pydata.org/pandas-docs/stable/user_guide/indexing.html#returning-a-view-versus-a-copy\n",
      "\n",
      "  df['영어']['방자']=80\n",
      "C:\\Users\\ITPS\\AppData\\Local\\Temp\\ipykernel_6064\\584705376.py:2: SettingWithCopyWarning: \n",
      "A value is trying to be set on a copy of a slice from a DataFrame\n",
      "\n",
      "See the caveats in the documentation: https://pandas.pydata.org/pandas-docs/stable/user_guide/indexing.html#returning-a-view-versus-a-copy\n",
      "  df['영어']['방자']=80\n"
     ]
    }
   ],
   "source": [
    "print(df['영어']['방자'])\n",
    "df['영어']['방자']=80\n",
    "print(df['영어']['방자'])\n",
    "df['평균']=((df['국어']+df['영어']+df['수학'])/3)\n",
    "print(df['평균'])"
   ]
  }
 ],
 "metadata": {
  "kernelspec": {
   "display_name": "Python 3",
   "language": "python",
   "name": "python3"
  },
  "language_info": {
   "codemirror_mode": {
    "name": "ipython",
    "version": 3
   },
   "file_extension": ".py",
   "mimetype": "text/x-python",
   "name": "python",
   "nbconvert_exporter": "python",
   "pygments_lexer": "ipython3",
   "version": "3.12.2"
  }
 },
 "nbformat": 4,
 "nbformat_minor": 2
}
