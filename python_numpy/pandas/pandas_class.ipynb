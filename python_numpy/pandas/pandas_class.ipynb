{
 "cells": [
  {
   "cell_type": "markdown",
   "metadata": {},
   "source": [
    "### 판다스 패키지\n",
    "데이터를 시계열이나 표로 표현하기 위한 패키지\n",
    "시계열을 표현하는 `Series`클래스와 표로 표현하는 `DataFrame`클래스가 존재한다\n",
    "\n",
    "판다스 패키스를 사용하기 위해서는 패키지를 설치해야함\n",
    "```bash\n",
    "pip install pandas\n",
    "```\n",
    "\n",
    "패키지를 임포트할 때는 \n",
    "```python\n",
    "import pandas\n",
    "import pandas as pd\n",
    "```\n",
    "\n",
    "pandas 3.0 이상 버전 부터는 Pyarrow 패키지가 필수 의존 패키지로 지정되어 존재하지 않으면\n",
    "```bash\n",
    "pip install pyarrow\n",
    "```\n",
    "로 Pyarrow를 설치 권장"
   ]
  },
  {
   "cell_type": "code",
   "execution_count": 1,
   "metadata": {},
   "outputs": [],
   "source": [
    "import pandas as pd"
   ]
  },
  {
   "cell_type": "markdown",
   "metadata": {},
   "source": [
    "### 시리즈 클래스\n",
    "1차원의 시계열 데이터를 표현하고자 할 때 사용하는 클래스로 인덱스와 값이 한 쌍으로 나열되 있는\n",
    "형태\n",
    "시리즈를 생성하는 방법 : pandas 패키지의 `Series`클래스의 생성자로 값과 인덱스에 대한 배열 혹은\n",
    "리스트를 전달하면 생성할 수 있음"
   ]
  },
  {
   "cell_type": "code",
   "execution_count": 11,
   "metadata": {},
   "outputs": [
    {
     "name": "stdout",
     "output_type": "stream",
     "text": [
      "홍길동     85\n",
      "김철수     70\n",
      "이영희    100\n",
      "최민수     90\n",
      "박지성     55\n",
      "dtype: int64\n",
      "홍길동     85\n",
      "김철수     70\n",
      "이영희    100\n",
      "최민수     90\n",
      "박지성     55\n",
      "dtype: int64\n"
     ]
    }
   ],
   "source": [
    "scores = pd.Series([85,70,100,90,55],index=['홍길동','김철수','이영희','최민수','박지성'])\n",
    "print(scores)\n",
    "#index를 지정하지 않으면 0부터 시작하는 정수의 인덱스 값이 자동으로 생성됨\n",
    "#scores = pd.Series([85,70,100,90,55])\n",
    "print(scores)"
   ]
  },
  {
   "cell_type": "markdown",
   "metadata": {},
   "source": [
    "Series 객체의 index와 values들을 보고자 한다면 `index` 속성과 `values` 속성으로 확인할 수 있음"
   ]
  },
  {
   "cell_type": "code",
   "execution_count": 12,
   "metadata": {},
   "outputs": [
    {
     "name": "stdout",
     "output_type": "stream",
     "text": [
      "Index(['홍길동', '김철수', '이영희', '최민수', '박지성'], dtype='object')\n"
     ]
    },
    {
     "data": {
      "text/plain": [
       "array([ 85,  70, 100,  90,  55], dtype=int64)"
      ]
     },
     "execution_count": 12,
     "metadata": {},
     "output_type": "execute_result"
    }
   ],
   "source": [
    "print(scores.index)\n",
    "print(scores.values)"
   ]
  },
  {
   "cell_type": "markdown",
   "metadata": {},
   "source": [
    "`name`속성으로 value에 대한 이름을 부여할 수 있음\n",
    "`index.name`속성으로 index에 대한 이름을 부여할 수 있음"
   ]
  },
  {
   "cell_type": "code",
   "execution_count": 13,
   "metadata": {},
   "outputs": [
    {
     "name": "stdout",
     "output_type": "stream",
     "text": [
      "이름\n",
      "홍길동     85\n",
      "김철수     70\n",
      "이영희    100\n",
      "최민수     90\n",
      "박지성     55\n",
      "Name: 점수, dtype: int64\n"
     ]
    }
   ],
   "source": [
    "scores.name='점수'\n",
    "scores.index.name='이름'\n",
    "print(scores)"
   ]
  },
  {
   "cell_type": "code",
   "execution_count": 14,
   "metadata": {},
   "outputs": [
    {
     "name": "stdout",
     "output_type": "stream",
     "text": [
      "홍길동     85\n",
      "김철수     70\n",
      "이영희    100\n",
      "최민수     90\n",
      "홍길동     55\n",
      "dtype: int64\n"
     ]
    }
   ],
   "source": [
    "# 인덱스 배열의 요소는 중복이 되어도 된다\n",
    "scores = pd.Series([85,70,100,90,55],index=['홍길동','김철수','이영희','최민수','홍길동'])\n",
    "print(scores)\n",
    "print(scores['홍길동'])"
   ]
  },
  {
   "cell_type": "markdown",
   "metadata": {},
   "source": [
    "#### 시리즈 연산\n",
    "시리즈도 numpy 배열과 같이 벡터화 연산이 가능함\n",
    "단, 연산 작업은 값에만 적용됨"
   ]
  },
  {
   "cell_type": "code",
   "execution_count": 19,
   "metadata": {},
   "outputs": [
    {
     "name": "stdout",
     "output_type": "stream",
     "text": [
      "홍길동    34.0\n",
      "김철수    28.0\n",
      "이영희    40.0\n",
      "최민수    36.0\n",
      "홍길동    22.0\n",
      "dtype: float64\n",
      "홍길동    True\n",
      "김철수    True\n",
      "이영희    True\n",
      "최민수    True\n",
      "홍길동    True\n",
      "dtype: bool\n",
      "홍길동     60\n",
      "김철수    100\n",
      "이영희     90\n",
      "최민수     70\n",
      "박지성     95\n",
      "dtype: int64\n",
      "홍길동     85\n",
      "김철수     70\n",
      "이영희    100\n",
      "최민수     90\n",
      "홍길동     55\n",
      "dtype: int64\n"
     ]
    }
   ],
   "source": [
    "scores * 0.4\n",
    "print(scores * 0.4)\n",
    "print(scores >= 0.4)\n",
    "scores2 = pd.Series([60,100,90,70,95],index=['홍길동','김철수','이영희','최민수','박지성'])\n",
    "print(scores2)\n",
    "print(scores)"
   ]
  },
  {
   "cell_type": "code",
   "execution_count": 20,
   "metadata": {},
   "outputs": [
    {
     "name": "stdout",
     "output_type": "stream",
     "text": [
      "김철수    170.0\n",
      "박지성      NaN\n",
      "이영희    190.0\n",
      "최민수    160.0\n",
      "홍길동    145.0\n",
      "홍길동    115.0\n",
      "dtype: float64\n"
     ]
    }
   ],
   "source": [
    "print(scores+scores2)"
   ]
  },
  {
   "cell_type": "markdown",
   "metadata": {},
   "source": [
    "####시리즈 인덱싱\n",
    "시리즈도 리스트나 배열과 같이 인덱스 번호로 접근이 가능\n",
    "단, 시리즈는 index값으로도 접근이 가능\n",
    "배열 인덱싱이나 슬라이싱 모두 가능"
   ]
  },
  {
   "cell_type": "code",
   "execution_count": 21,
   "metadata": {},
   "outputs": [
    {
     "name": "stdout",
     "output_type": "stream",
     "text": [
      "70 70\n"
     ]
    },
    {
     "name": "stderr",
     "output_type": "stream",
     "text": [
      "C:\\Users\\ITPS\\AppData\\Local\\Temp\\ipykernel_12252\\221387229.py:1: FutureWarning: Series.__getitem__ treating keys as positions is deprecated. In a future version, integer keys will always be treated as labels (consistent with DataFrame behavior). To access a value by position, use `ser.iloc[pos]`\n",
      "  print(scores[1],scores['김철수'])\n"
     ]
    }
   ],
   "source": [
    "print(scores[1],scores['김철수'])"
   ]
  },
  {
   "cell_type": "markdown",
   "metadata": {},
   "source": [
    "배열 인덱싱을 사용하여 자료의 순서를 바꾸거나 특정한 자료만 선택하여 시리즈 객체를 생성할 수 있음"
   ]
  },
  {
   "cell_type": "code",
   "execution_count": 30,
   "metadata": {},
   "outputs": [
    {
     "name": "stdout",
     "output_type": "stream",
     "text": [
      "홍길동     85\n",
      "김철수     70\n",
      "이영희    100\n",
      "최민수     90\n",
      "홍길동     55\n",
      "dtype: int64\n",
      "홍길동    85\n",
      "최민수    90\n",
      "김철수    70\n",
      "dtype: int64\n",
      "홍길동    85\n",
      "홍길동    55\n",
      "최민수    90\n",
      "김철수    70\n",
      "dtype: int64\n",
      "홍길동    False\n",
      "김철수    False\n",
      "이영희    False\n",
      "최민수    False\n",
      "홍길동     True\n",
      "dtype: bool\n"
     ]
    },
    {
     "name": "stderr",
     "output_type": "stream",
     "text": [
      "C:\\Users\\ITPS\\AppData\\Local\\Temp\\ipykernel_12252\\2646309059.py:2: FutureWarning: Series.__getitem__ treating keys as positions is deprecated. In a future version, integer keys will always be treated as labels (consistent with DataFrame behavior). To access a value by position, use `ser.iloc[pos]`\n",
      "  print(scores[[0,3,1]])\n"
     ]
    }
   ],
   "source": [
    "print(scores)\n",
    "print(scores[[0,3,1]])\n",
    "print(scores[['홍길동','최민수','김철수']])\n",
    "print((scores<70))"
   ]
  },
  {
   "cell_type": "markdown",
   "metadata": {},
   "source": [
    "시리즈 객체도 슬라이싱이 가능한데 인덱스의 이름(라벨)으로 슬라이싱할때는 인덱스 번호로 슬라이싱할때\n",
    "와 다르게 마지막 인덱스 값도 포함되어 반환됨"
   ]
  },
  {
   "cell_type": "code",
   "execution_count": 33,
   "metadata": {},
   "outputs": [
    {
     "name": "stdout",
     "output_type": "stream",
     "text": [
      "홍길동     85\n",
      "김철수     70\n",
      "이영희    100\n",
      "최민수     90\n",
      "홍길동     55\n",
      "dtype: int64\n",
      "김철수     70\n",
      "이영희    100\n",
      "dtype: int64\n",
      "김철수     70\n",
      "이영희    100\n",
      "최민수     90\n",
      "dtype: int64\n"
     ]
    }
   ],
   "source": [
    "print(scores)\n",
    "print(scores[1:3])\n",
    "print(scores['김철수':'최민수'])"
   ]
  },
  {
   "cell_type": "markdown",
   "metadata": {},
   "source": [
    "시리즈 객체의 라벨이 영문자로 이루어져 있다면 객체의 속성에 접근하는 것과 같은 방법으로 접근할 수 있음"
   ]
  },
  {
   "cell_type": "code",
   "execution_count": 35,
   "metadata": {},
   "outputs": [
    {
     "name": "stdout",
     "output_type": "stream",
     "text": [
      "a    0\n",
      "b    1\n",
      "c    2\n",
      "dtype: int64\n",
      "0\n",
      "1\n"
     ]
    }
   ],
   "source": [
    "s0 = pd.Series(range(3),index=['a','b','c'])\n",
    "print(s0)\n",
    "print(s0.a)\n",
    "print(s0.b)"
   ]
  },
  {
   "cell_type": "markdown",
   "metadata": {},
   "source": [
    "#### 시리즈와 딕셔너리\n",
    "시리즈는 인덱스의 이름(라벨)과 값이 한쌍으로 이루어져서 관리되어 지는데, 이는 파이썬의 기본\n",
    "자료구조인 키와 값을 한 쌍으로 관리하는 딕셔너리와 비슷함\n",
    "\n",
    "시리즈 객체도 딕셔너리에서 사용가능한 `in`연산과 `items()`메서드를 사용할 수 있음"
   ]
  },
  {
   "cell_type": "code",
   "execution_count": 40,
   "metadata": {},
   "outputs": [
    {
     "name": "stdout",
     "output_type": "stream",
     "text": [
      "False\n",
      "True\n",
      "홍길동:85\n",
      "김철수:70\n",
      "이영희:100\n",
      "최민수:90\n",
      "홍길동:55\n"
     ]
    }
   ],
   "source": [
    "print('이재용' in scores)\n",
    "print('홍길동' in scores)\n",
    "for label,value in scores.items():\n",
    "    print(f'{label}:{value}')"
   ]
  },
  {
   "cell_type": "markdown",
   "metadata": {},
   "source": [
    "시리즈 객체는 딕셔너리 객체로 직접 생성할 수 있음\n",
    "단, 딕셔너리 객체는 순서가 보장되지 않기 때문에 순서를 결정하고 싶다면 `index`매개변수에 순서를 \n",
    "정한 인덱스 배열 또는 리스트를 전달해야함"
   ]
  },
  {
   "cell_type": "code",
   "execution_count": 47,
   "metadata": {},
   "outputs": [
    {
     "name": "stdout",
     "output_type": "stream",
     "text": [
      "홍길동     60\n",
      "김철수     90\n",
      "이재용    100\n",
      "권지용     75\n",
      "dtype: int64\n",
      "권지용     75\n",
      "김철수     90\n",
      "이재용    100\n",
      "홍길동     60\n",
      "dtype: int64\n",
      "권지용     75.0\n",
      "김철수     90.0\n",
      "이재용    100.0\n",
      "박지성      NaN\n",
      "dtype: float64\n"
     ]
    }
   ],
   "source": [
    "scores2 = pd.Series({'홍길동':60,'김철수':90,'이재용':100,'권지용':75})\n",
    "print(scores2)\n",
    "scores2 = pd.Series({'홍길동':60,'김철수':90,'이재용':100,'권지용':75},\n",
    "                    index=['권지용','김철수','이재용','홍길동'])\n",
    "print(scores2)\n",
    "scores2 = pd.Series({'홍길동':60,'김철수':90,'이재용':100,'권지용':75},\n",
    "                    index=['권지용','김철수','이재용','박지성'])\n",
    "print(scores2)"
   ]
  }
 ],
 "metadata": {
  "kernelspec": {
   "display_name": "Python 3",
   "language": "python",
   "name": "python3"
  },
  "language_info": {
   "codemirror_mode": {
    "name": "ipython",
    "version": 3
   },
   "file_extension": ".py",
   "mimetype": "text/x-python",
   "name": "python",
   "nbconvert_exporter": "python",
   "pygments_lexer": "ipython3",
   "version": "3.12.2"
  }
 },
 "nbformat": 4,
 "nbformat_minor": 2
}
