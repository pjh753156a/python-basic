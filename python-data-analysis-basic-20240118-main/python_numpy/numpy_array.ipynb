{
 "cells": [
  {
   "cell_type": "markdown",
   "metadata": {},
   "source": [
    "### 넘파이 배열\n",
    "파이썬 리스트의 단점인 원소의 자료형 지정 불가, 많은 메모리 차지의 문제를 해결하고자 수치 해석 프로그램에서는 numpy라고하는 배열 패키지를 사용함  \n",
    "numpy 배열의 경우 자체적 C언어로 구현되어 있어 자료형 지정과 메모리 절약 효과를 볼 수 있음"
   ]
  },
  {
   "cell_type": "markdown",
   "metadata": {},
   "source": [
    "### NumPy import\n",
    "numpy 패키지를 사용하려면 먼저 패키지를 설치해야 함  \n",
    "```bash\n",
    "pip install numpy\n",
    "```  \n",
    "numpy 패키지를 프로그램에서 사용하려면 import 해야 함\n",
    "```python\n",
    "import numpy\n",
    "import numpy as np\n",
    "```"
   ]
  },
  {
   "cell_type": "code",
   "execution_count": null,
   "metadata": {},
   "outputs": [],
   "source": [
    "import numpy as np"
   ]
  },
  {
   "cell_type": "markdown",
   "metadata": {},
   "source": [
    "### 1차원 배열 만들기\n",
    "넘파이의 `array` 함수를 사용하여 리스트를 `ndarray` 타입으로 변경 가능"
   ]
  },
  {
   "cell_type": "code",
   "execution_count": null,
   "metadata": {},
   "outputs": [],
   "source": [
    "ndarray_ = np.array([0, 1, 2, 3, 4])\n",
    "ndarray_"
   ]
  },
  {
   "cell_type": "code",
   "execution_count": null,
   "metadata": {},
   "outputs": [],
   "source": [
    "type(ndarray_)"
   ]
  },
  {
   "cell_type": "code",
   "execution_count": null,
   "metadata": {},
   "outputs": [],
   "source": [
    "floats = np.array([1.0, 2.0, 3.0, 4.0])\n",
    "floats"
   ]
  },
  {
   "cell_type": "code",
   "execution_count": null,
   "metadata": {},
   "outputs": [],
   "source": [
    "floats = np.array([0.1, 0.2, 0.3, 0.4])\n",
    "floats"
   ]
  },
  {
   "cell_type": "markdown",
   "metadata": {},
   "source": [
    "파이썬 리스트와는 다르게 numpy의 배열의 요소는 모두 같은 타입이어야 함  \n",
    "이러한 numpy 배열의 특성 때문에 요소에 대한 접근 속도가 빠름"
   ]
  },
  {
   "cell_type": "code",
   "execution_count": null,
   "metadata": {},
   "outputs": [],
   "source": [
    "ndarray_ = np.array([1, 1.5, 2])\n",
    "ndarray_"
   ]
  },
  {
   "cell_type": "code",
   "execution_count": null,
   "metadata": {},
   "outputs": [],
   "source": [
    "ndarray_ = np.array(['문자열', 1, 1.5])\n",
    "ndarray_"
   ]
  },
  {
   "cell_type": "markdown",
   "metadata": {},
   "source": [
    "### 벡터화 연산\n",
    "numpy 배열은 각 원소에 대한 반복 연산을 간단한 명령으로 처리할 수 있는 벡터화 연산을 지원"
   ]
  },
  {
   "cell_type": "code",
   "execution_count": null,
   "metadata": {},
   "outputs": [],
   "source": [
    "# 각 요소를 2씩 곱하는 연산\n",
    "# 리스트를 사용했을 때\n",
    "numbers = list(range(10))\n",
    "\n",
    "result = []\n",
    "for number in numbers:\n",
    "    result.append(number * 2)\n",
    "\n",
    "result"
   ]
  },
  {
   "cell_type": "code",
   "execution_count": null,
   "metadata": {},
   "outputs": [],
   "source": [
    "# numpy array를 사용했을 때\n",
    "numpy_numbers = np.array(numbers)\n",
    "result = 2 * numpy_numbers\n",
    "result"
   ]
  },
  {
   "cell_type": "code",
   "execution_count": null,
   "metadata": {},
   "outputs": [],
   "source": [
    "result = 2 * numbers\n",
    "result"
   ]
  },
  {
   "cell_type": "markdown",
   "metadata": {},
   "source": [
    "numpy 배열의 벡터화 연산은 모든 종류의 연산에 적용이 가능"
   ]
  },
  {
   "cell_type": "code",
   "execution_count": null,
   "metadata": {},
   "outputs": [],
   "source": [
    "numbers1 = np.array(list(range(5)))\n",
    "numbers2 = np.array(list(range(5, 10)))\n",
    "\n",
    "numbers1, numbers2"
   ]
  },
  {
   "cell_type": "code",
   "execution_count": null,
   "metadata": {},
   "outputs": [],
   "source": [
    "result = (numbers1 * 5) + numbers2\n",
    "result"
   ]
  },
  {
   "cell_type": "code",
   "execution_count": null,
   "metadata": {},
   "outputs": [],
   "source": [
    "result = numbers1 == 3 \n",
    "result"
   ]
  },
  {
   "cell_type": "code",
   "execution_count": null,
   "metadata": {},
   "outputs": [],
   "source": [
    "result = (numbers1 > 2) & (numbers2 < 10)\n",
    "result\n",
    "\n",
    "numbers1 > 2, numbers2 < 10, result"
   ]
  },
  {
   "cell_type": "markdown",
   "metadata": {},
   "source": [
    "### 2차원 배열\n",
    "2차원 배열을 생성할 때는 요소를 리스트로 가지는 리스트를 `array()`의 매개변수로 전달하면 2차원 배열을 생성할 수 있음"
   ]
  },
  {
   "cell_type": "code",
   "execution_count": null,
   "metadata": {},
   "outputs": [],
   "source": [
    "matrix = [\n",
    "    [1, 2, 3],\n",
    "    [4, 5, 6],\n",
    "    [7, 8, 9]\n",
    "]\n",
    "numpy_matrix = np.array(matrix)\n",
    "numpy_matrix"
   ]
  },
  {
   "cell_type": "code",
   "execution_count": null,
   "metadata": {},
   "outputs": [],
   "source": [
    "len(numpy_matrix)"
   ]
  },
  {
   "cell_type": "code",
   "execution_count": null,
   "metadata": {},
   "outputs": [],
   "source": [
    "numpy_matrix[0]"
   ]
  },
  {
   "cell_type": "code",
   "execution_count": null,
   "metadata": {},
   "outputs": [],
   "source": [
    "len(numpy_matrix[0])"
   ]
  },
  {
   "cell_type": "markdown",
   "metadata": {},
   "source": [
    "### 3차원 배열 만들기\n",
    "리스트의 요소로 2차원 형태를 띄는 리스트를 지정하면 3차원 배열로 만들 수 있음"
   ]
  },
  {
   "cell_type": "code",
   "execution_count": null,
   "metadata": {},
   "outputs": [],
   "source": [
    "three_d = [\n",
    "    [\n",
    "        [1, 2, 3, 4],\n",
    "        [5, 6, 7, 8],\n",
    "        [9, 10, 11, 12]\n",
    "    ],\n",
    "    [\n",
    "        [13, 14 ,15 ,16],\n",
    "        [17, 18, 19, 20],\n",
    "        [21, 22, 23, 24]\n",
    "    ]\n",
    "]\n",
    "numpy_three_d = np.array(three_d)\n",
    "numpy_three_d"
   ]
  },
  {
   "cell_type": "markdown",
   "metadata": {},
   "source": [
    "### 배열의 차원과 크기 구하기\n",
    "`ndim` : 배열의 차원을 정수로 반환\n",
    "`shape` : 배열의 각 차원의 크기를 정수의 튜플로 반환"
   ]
  },
  {
   "cell_type": "code",
   "execution_count": null,
   "metadata": {},
   "outputs": [],
   "source": [
    "numpy_matrix.ndim, numpy_matrix.shape"
   ]
  },
  {
   "cell_type": "code",
   "execution_count": null,
   "metadata": {},
   "outputs": [],
   "source": [
    "numpy_three_d.ndim, numpy_three_d.shape"
   ]
  },
  {
   "cell_type": "markdown",
   "metadata": {},
   "source": [
    "### numpy 배열의 인덱싱\n",
    "일반적으로 `배열변수[인덱스]`의 형태로 사용함  \n",
    "다차원 형태일 경우는 일반 리스트와 다르게 `배열변수[인덱스, 인덱스, ...]`의 형태로 사용함  \n",
    "- 일반 2차원 리스트: `리스트[인덱스][인덱스]`  \n",
    "- numpy 2차원 배열: `배열[인덱스, 인덱스]`"
   ]
  },
  {
   "cell_type": "code",
   "execution_count": null,
   "metadata": {},
   "outputs": [],
   "source": [
    "# 일반 3차원 리스트\n",
    "three_d"
   ]
  },
  {
   "cell_type": "code",
   "execution_count": null,
   "metadata": {},
   "outputs": [],
   "source": [
    "three_d[1][0][3]"
   ]
  },
  {
   "cell_type": "code",
   "execution_count": null,
   "metadata": {},
   "outputs": [],
   "source": [
    "# numpy 3차원 배열\n",
    "numpy_three_d"
   ]
  },
  {
   "cell_type": "code",
   "execution_count": null,
   "metadata": {},
   "outputs": [],
   "source": [
    "numpy_three_d[1, 0, 3]"
   ]
  },
  {
   "cell_type": "markdown",
   "metadata": {},
   "source": [
    "### numpy 배열 슬라이싱\n",
    "일반 리스트에서 사용하는 배열 슬라이싱 방법, `리스트[시작인덱스:종료인덱스]`와 동일함  \n",
    "단, 다차원 배열일 경우 인덱스를 여러개 지정할 때 `,`를 써야하는 것에 주의"
   ]
  },
  {
   "cell_type": "code",
   "execution_count": null,
   "metadata": {},
   "outputs": [],
   "source": [
    "numpy_matrix"
   ]
  },
  {
   "cell_type": "code",
   "execution_count": null,
   "metadata": {},
   "outputs": [],
   "source": [
    "numpy_matrix[:]"
   ]
  },
  {
   "cell_type": "code",
   "execution_count": null,
   "metadata": {},
   "outputs": [],
   "source": [
    "numpy_matrix[:2]"
   ]
  },
  {
   "cell_type": "code",
   "execution_count": null,
   "metadata": {},
   "outputs": [],
   "source": [
    "numpy_matrix[0, :2]"
   ]
  },
  {
   "cell_type": "code",
   "execution_count": null,
   "metadata": {},
   "outputs": [],
   "source": [
    "numpy_matrix[:2, 0]"
   ]
  },
  {
   "cell_type": "code",
   "execution_count": null,
   "metadata": {},
   "outputs": [],
   "source": [
    "numpy_matrix[1:, 1:]"
   ]
  },
  {
   "cell_type": "code",
   "execution_count": null,
   "metadata": {},
   "outputs": [],
   "source": [
    "numpy_three_d[:1, :2, :2]"
   ]
  },
  {
   "cell_type": "markdown",
   "metadata": {},
   "source": [
    "##### 파이썬으로 다음 연산을 수행한다.\n",
    "다음 행렬과 같은 행렬이 있다.  \n",
    "```python\n",
    "m = np.array([[ 0,  1,  2,  3,  4],\n",
    "            [ 5,  6,  7,  8,  9],\n",
    "            [10, 11, 12, 13, 14]])\n",
    "```\n",
    "1. 이 행렬에서 값 7 을 인덱싱한다.\n",
    "2. 이 행렬에서 값 14 을 인덱싱한다.\n",
    "3. 이 행렬에서 배열 [6, 7] 을 슬라이싱한다.\n",
    "4. 이 행렬에서 배열 [7, 12] 을 슬라이싱한다.\n",
    "5. 이 행렬에서 배열 [[3, 4], [8, 9]] 을 슬라이싱한다."
   ]
  },
  {
   "cell_type": "code",
   "execution_count": null,
   "metadata": {},
   "outputs": [],
   "source": [
    "m = np.array([[ 0,  1,  2,  3,  4],\n",
    "            [ 5,  6,  7,  8,  9],\n",
    "            [10, 11, 12, 13, 14]])"
   ]
  },
  {
   "cell_type": "code",
   "execution_count": null,
   "metadata": {},
   "outputs": [],
   "source": [
    "# 이 행렬에서 값 7 을 인덱싱한다.\n",
    "m[1, 2]"
   ]
  },
  {
   "cell_type": "code",
   "execution_count": null,
   "metadata": {},
   "outputs": [],
   "source": [
    "# 이 행렬에서 값 14 을 인덱싱한다.\n",
    "m[-1, -1]"
   ]
  },
  {
   "cell_type": "code",
   "execution_count": null,
   "metadata": {},
   "outputs": [],
   "source": [
    "# 이 행렬에서 배열 [6, 7] 을 슬라이싱한다.\n",
    "m[1, 1:3]"
   ]
  },
  {
   "cell_type": "code",
   "execution_count": null,
   "metadata": {},
   "outputs": [],
   "source": [
    "# 이 행렬에서 배열 [7, 12] 을 슬라이싱한다.\n",
    "m[1:, 2]"
   ]
  },
  {
   "cell_type": "code",
   "execution_count": null,
   "metadata": {},
   "outputs": [],
   "source": [
    "# 이 행렬에서 배열 [[3, 4], [8, 9]] 을 슬라이싱한다.\n",
    "m[:2, 3:]"
   ]
  },
  {
   "cell_type": "markdown",
   "metadata": {},
   "source": [
    "### 배열 인덱싱\n",
    "**팬시 인덱싱(fancy indexing)** 이라고 부르는 배열 인덱싱 기법이 존재함  \n",
    "이 배열 인덱싱은 인덱스로 정수 형태나 슬라이스 형태로 인덱스를 전달하는 게 아니라  \n",
    "인덱스로 또 다른 넘파이 배열을 전달하여 그에 부합하는 새로운 배열을 반환"
   ]
  },
  {
   "cell_type": "markdown",
   "metadata": {},
   "source": [
    "#### 불리언 배열 인덱싱\n",
    "`True`, `False` 두 형태로만 이루어진 배열을 인덱스로 전달하여 `True`가 위치한 값만 반환하여 새로운 배열을 만드는 인덱싱 기법  \n",
    "불리언 배열 인덱싱 기법은 기존 배열과 인덱스로 전달하는 배열의 크기가 같아야 함"
   ]
  },
  {
   "cell_type": "code",
   "execution_count": null,
   "metadata": {},
   "outputs": [],
   "source": [
    "numpy_array = np.array([1, 2, 3, 4, 5, 6, 7, 8])\n",
    "index_array = np.array([True, True, False, False, False, True, True, True])\n",
    "numpy_array[index_array]"
   ]
  },
  {
   "cell_type": "markdown",
   "metadata": {},
   "source": [
    "조건 연산을 통해서도 불리언 인덱싱 처리를 할 수 있음"
   ]
  },
  {
   "cell_type": "code",
   "execution_count": null,
   "metadata": {},
   "outputs": [],
   "source": [
    "numpy_array % 2"
   ]
  },
  {
   "cell_type": "code",
   "execution_count": null,
   "metadata": {},
   "outputs": [],
   "source": [
    "numpy_array % 2 == 0"
   ]
  },
  {
   "cell_type": "code",
   "execution_count": null,
   "metadata": {},
   "outputs": [],
   "source": [
    "numpy_array[numpy_array % 2 == 0]"
   ]
  },
  {
   "cell_type": "markdown",
   "metadata": {},
   "source": [
    "#### 정수 배열 인덱싱\n",
    "인덱스 배열의 원소의 값이 기존 넘파이 배열의 원소의 인덱스를 가리키는 정수로 구성된 배열을 인덱스로 전달하여 해당하는 인덱스의 값들로 새로운 배열을 반환하는 기법"
   ]
  },
  {
   "cell_type": "code",
   "execution_count": null,
   "metadata": {},
   "outputs": [],
   "source": [
    "numpy_array"
   ]
  },
  {
   "cell_type": "code",
   "execution_count": null,
   "metadata": {},
   "outputs": [],
   "source": [
    "index_array = np.array([0, 2, 3])"
   ]
  },
  {
   "cell_type": "code",
   "execution_count": null,
   "metadata": {},
   "outputs": [],
   "source": [
    "numpy_array[index_array]"
   ]
  },
  {
   "cell_type": "markdown",
   "metadata": {},
   "source": [
    "인덱스 배열로 사용되는 정수 배열은 기존 배열의 길이보다 커도 사용 가능  \n",
    "이때, 반환되는 배열의 길이는 인덱스 배열로 전달한 배열의 길이로 결정이 됨  \n",
    "  \n",
    "인덱스 배열로 사용되는 정수 배열의 요소는 기존 배열의 최대 인덱스 범위를 벗어나는 값이 존재할 경우  \n",
    "예외가 발생함"
   ]
  },
  {
   "cell_type": "code",
   "execution_count": null,
   "metadata": {},
   "outputs": [],
   "source": [
    "index_array = np.array([0, 2, 3, 6, 0, 2, 3, 6, 0, 2, 3, 6])"
   ]
  },
  {
   "cell_type": "code",
   "execution_count": null,
   "metadata": {},
   "outputs": [],
   "source": [
    "numpy_array[index_array]"
   ]
  },
  {
   "cell_type": "code",
   "execution_count": null,
   "metadata": {},
   "outputs": [],
   "source": [
    "index_array = np.array([0, 2, 20])"
   ]
  },
  {
   "cell_type": "code",
   "execution_count": null,
   "metadata": {},
   "outputs": [],
   "source": [
    "numpy_array[index_array]"
   ]
  },
  {
   "cell_type": "markdown",
   "metadata": {},
   "source": [
    "#### 다차원 배열에서 배열 인덱싱"
   ]
  },
  {
   "cell_type": "code",
   "execution_count": null,
   "metadata": {},
   "outputs": [],
   "source": [
    "index_array = np.array([True, False, True])\n",
    "numpy_matrix[:2, index_array]"
   ]
  },
  {
   "cell_type": "code",
   "execution_count": null,
   "metadata": {},
   "outputs": [],
   "source": [
    "# 배열 인덱스 값으로 정수 리스트를 전달하면 배열의 순서가 변경 됨\n",
    "numpy_matrix[[2, 1, 0], :]"
   ]
  },
  {
   "cell_type": "markdown",
   "metadata": {},
   "source": [
    "##### 파이썬으로 다음 연산을 수행한다.\n",
    "다음 행렬과 같은 배열이 있다.  \n",
    "```python\n",
    "x = np.array([1, 2, 3, 4, 5, 6, 7, 8, 9, 10,\n",
    "            11, 12, 13, 14, 15, 16, 17, 18, 19, 20])\n",
    "```  \n",
    "1. 이 배열에서 3의 배수를 찾아라.\n",
    "2. 이 배열에서 4로 나누면 1이 남는 수를 찾아라.\n",
    "3. 이 배열에서 3으로 나누면 나누어지고 4로 나누면 1이 남는 수를 찾아라."
   ]
  },
  {
   "cell_type": "code",
   "execution_count": null,
   "metadata": {},
   "outputs": [],
   "source": [
    "x = np.array([1, 2, 3, 4, 5, 6, 7, 8, 9, 10,\n",
    "            11, 12, 13, 14, 15, 16, 17, 18, 19, 20])"
   ]
  },
  {
   "cell_type": "code",
   "execution_count": null,
   "metadata": {},
   "outputs": [],
   "source": [
    "# 이 배열에서 3의 배수를 찾아라.\n",
    "x[x % 3 == 0]"
   ]
  },
  {
   "cell_type": "code",
   "execution_count": null,
   "metadata": {},
   "outputs": [],
   "source": [
    "# 이 배열에서 4로 나누면 1이 남는 수를 찾아라.\n",
    "x[x % 4 == 1]"
   ]
  },
  {
   "cell_type": "code",
   "execution_count": null,
   "metadata": {},
   "outputs": [],
   "source": [
    "# 이 배열에서 3으로 나누면 나누어지고 4로 나누면 1이 남는 수를 찾아라.\n",
    "x[(x % 3 == 0) & (x % 4 == 1)]"
   ]
  },
  {
   "cell_type": "markdown",
   "metadata": {},
   "source": [
    "### numpy 배열의 자료형\n",
    "numpy 배열의 원소는 모두 같은 데이터 타입을 가지고 있음  \n",
    "numpy 배열의 데이터 타입을 확인하고자 한다면 `dtype` 속성으로 확인이 가능"
   ]
  },
  {
   "cell_type": "code",
   "execution_count": null,
   "metadata": {},
   "outputs": [],
   "source": [
    "numpy_array = np.array([1, 2, 3])\n",
    "numpy_array.dtype"
   ]
  },
  {
   "cell_type": "code",
   "execution_count": null,
   "metadata": {},
   "outputs": [],
   "source": [
    "numpy_array = np.array([1.0, 2.0, 3.0])\n",
    "numpy_array.dtype"
   ]
  },
  {
   "cell_type": "code",
   "execution_count": null,
   "metadata": {},
   "outputs": [],
   "source": [
    "numpy_array = np.array(['1.0', '2.0', '3.0'])\n",
    "numpy_array.dtype"
   ]
  },
  {
   "cell_type": "markdown",
   "metadata": {},
   "source": [
    "`array()` 함수를 사용하여 배열을 생성할 때 명시적으로 데이터 타입을 지정하지 않으면 자동으로 데이터 타입을 추론하여 지정하게 됨  \n",
    "만약, 명시적으로 데이터 타입을 지정하고자 한다면 `array()` 함수에 `dtype` 매개변수로 데이터 타입을 지정해주면 됨"
   ]
  },
  {
   "cell_type": "markdown",
   "metadata": {},
   "source": [
    "##### dtype의 접두사\n",
    "b : 불리언, i : 정수, f : 실수, U : 유니코드"
   ]
  },
  {
   "cell_type": "code",
   "execution_count": null,
   "metadata": {},
   "outputs": [],
   "source": [
    "numpy_array = np.array(['1.0', '2.0', '3.0'], dtype='f')\n",
    "numpy_array.dtype"
   ]
  },
  {
   "cell_type": "code",
   "execution_count": null,
   "metadata": {},
   "outputs": [],
   "source": [
    "numpy_array"
   ]
  },
  {
   "cell_type": "markdown",
   "metadata": {},
   "source": [
    "### numpy에서 Inf와 NaN\n",
    "numpy 배열 연산에서 1 을 0으로 나누면 `inf`, -1을 0으로 나누면 `-inf`, 0을 0으로 나누면 `nan` 이 반환됨"
   ]
  },
  {
   "cell_type": "markdown",
   "metadata": {},
   "source": [
    "### 배열 생성\n",
    "numpy 배열을 생성하는 방법\n",
    "- `zeros`, `ones`\n",
    "- `zeros_like`, `ones_like`\n",
    "- `empty`\n",
    "- `arange`\n",
    "- `linspace`, `logspace`"
   ]
  },
  {
   "cell_type": "markdown",
   "metadata": {},
   "source": [
    "#### zeros\n",
    "크기가 정해져 있고 원소를 0으로 초기화한 배열을 생성하는 함수"
   ]
  },
  {
   "cell_type": "code",
   "execution_count": null,
   "metadata": {},
   "outputs": [],
   "source": [
    "numpy_array = np.zeros(5)\n",
    "numpy_array"
   ]
  },
  {
   "cell_type": "code",
   "execution_count": null,
   "metadata": {},
   "outputs": [],
   "source": [
    "# 매개변수로 정수 튜플을 전달하여 다차원 배열 생성도 가능\n",
    "numpy_array = np.zeros((2, 3))\n",
    "numpy_array"
   ]
  },
  {
   "cell_type": "code",
   "execution_count": null,
   "metadata": {},
   "outputs": [],
   "source": [
    "# dtype 을 명시하여 데이터 타입을 지정할 수 있음\n",
    "numpy_array = np.zeros((2, 3), dtype='i')\n",
    "numpy_array"
   ]
  },
  {
   "cell_type": "markdown",
   "metadata": {},
   "source": [
    "만약, dtype으로 문자열 (U)로 지정하게되면 문자열의 길이가 초과하면 초과된 부분이 손실됨"
   ]
  },
  {
   "cell_type": "markdown",
   "metadata": {},
   "source": [
    "#### ones\n",
    "크기가 정해져 있고 원소를 1로 초기화한 배열을 생성하는 함수  \n",
    "`zeros` 함수와 사용법이 동일"
   ]
  },
  {
   "cell_type": "code",
   "execution_count": null,
   "metadata": {},
   "outputs": [],
   "source": [
    "ones_array = np.ones((3, 2, 2), dtype='i')\n",
    "ones_array"
   ]
  },
  {
   "cell_type": "markdown",
   "metadata": {},
   "source": [
    "#### zeros_like, ones_like\n",
    "크기를 직접 지정하지 않고 이미 존재하는 배열의 크기를 본따서 0 또는 1로 채워진 배열을 생성하는 함수"
   ]
  },
  {
   "cell_type": "code",
   "execution_count": null,
   "metadata": {},
   "outputs": [],
   "source": [
    "zeros_array = np.zeros_like(ones_array, dtype='f')\n",
    "zeros_array"
   ]
  },
  {
   "cell_type": "markdown",
   "metadata": {},
   "source": [
    "#### empty\n",
    "크기만 지정하고 원소의 값은 '쓰레기 데이터'로 채워진 배열을 생성  \n",
    "`zeros`, `ones` 함수를 사용하여 배열을 생성하는 것보다 배열 생성 속도가 빠름"
   ]
  },
  {
   "cell_type": "code",
   "execution_count": null,
   "metadata": {},
   "outputs": [],
   "source": [
    "empty_array = np.empty((10, 10))\n",
    "empty_array"
   ]
  },
  {
   "cell_type": "markdown",
   "metadata": {},
   "source": [
    "#### arange\n",
    "파이썬의 내장함수 `range()` 함수와 동일한 기능을 하는 numpy 배열 생성 함수"
   ]
  },
  {
   "cell_type": "code",
   "execution_count": null,
   "metadata": {},
   "outputs": [],
   "source": [
    "arage_array = np.arange(10)\n",
    "arage_array"
   ]
  },
  {
   "cell_type": "code",
   "execution_count": null,
   "metadata": {},
   "outputs": [],
   "source": [
    "arage_array = np.arange(10, 50)\n",
    "arage_array"
   ]
  },
  {
   "cell_type": "code",
   "execution_count": null,
   "metadata": {},
   "outputs": [],
   "source": [
    "arage_array = np.arange(50, 10, -1)\n",
    "arage_array"
   ]
  },
  {
   "cell_type": "markdown",
   "metadata": {},
   "source": [
    "### 전치 연산\n",
    "배열의 행과 열의 위치를 전치시키는 방법 배열의 `T`속성으로 반환 받을 수 있음"
   ]
  },
  {
   "cell_type": "code",
   "execution_count": null,
   "metadata": {},
   "outputs": [],
   "source": [
    "numpy_matrix"
   ]
  },
  {
   "cell_type": "code",
   "execution_count": null,
   "metadata": {},
   "outputs": [],
   "source": [
    "numpy_matrix.T"
   ]
  },
  {
   "cell_type": "code",
   "execution_count": null,
   "metadata": {},
   "outputs": [],
   "source": [
    "numpy_three_d"
   ]
  },
  {
   "cell_type": "code",
   "execution_count": null,
   "metadata": {},
   "outputs": [],
   "source": [
    "numpy_three_d.T # 2, 3, 4 -> 4, 3, 2"
   ]
  },
  {
   "cell_type": "markdown",
   "metadata": {},
   "source": [
    "### 배열의 크기 변경\n",
    "numpy 배열에서 원소의 개수를 유지한 상태로 배열의 형태의 변경하려 한다면 `reshape` 메서드를 사용하여 변경할 수 있음"
   ]
  },
  {
   "cell_type": "code",
   "execution_count": null,
   "metadata": {},
   "outputs": [],
   "source": [
    "numpy_array = np.zeros(12)\n",
    "numpy_array"
   ]
  },
  {
   "cell_type": "code",
   "execution_count": null,
   "metadata": {},
   "outputs": [],
   "source": [
    "reshape_array = numpy_array.reshape(4, 3)\n",
    "reshape_array"
   ]
  },
  {
   "cell_type": "code",
   "execution_count": null,
   "metadata": {},
   "outputs": [],
   "source": [
    "reshape_array = numpy_array.reshape(2, 6)\n",
    "reshape_array"
   ]
  },
  {
   "cell_type": "markdown",
   "metadata": {},
   "source": [
    "numpy 배열의 원소는 개수가 정해져 있기 때문에 `reshape` 메서드에 하나의 인자로 -1을 넣게 되면 다른 인자들을 통해서 추론하여 지정"
   ]
  },
  {
   "cell_type": "code",
   "execution_count": null,
   "metadata": {},
   "outputs": [],
   "source": [
    "reshape_array = numpy_array.reshape(6, -1)\n",
    "reshape_array"
   ]
  },
  {
   "cell_type": "code",
   "execution_count": null,
   "metadata": {},
   "outputs": [],
   "source": [
    "reshape_array = numpy_array.reshape(3, 1, -1)\n",
    "reshape_array"
   ]
  },
  {
   "cell_type": "markdown",
   "metadata": {},
   "source": [
    "만약, `reshape` 메서드의 인자들의 곱의 결과가 기존 배열의 원소의 총 합과 다르면 에러가 발생\n",
    "-1로 지정한 인자가 있을 때 해당 인자의 곱으로 총합을 계산할 수 없는 경우면 에러가 발생"
   ]
  },
  {
   "cell_type": "code",
   "execution_count": null,
   "metadata": {},
   "outputs": [],
   "source": [
    "reshape_array = numpy_array.reshape(5, 2)\n",
    "reshape_array"
   ]
  },
  {
   "cell_type": "code",
   "execution_count": null,
   "metadata": {},
   "outputs": [],
   "source": [
    "reshape_array = numpy_array.reshape(5, -1)\n",
    "reshape_array"
   ]
  },
  {
   "cell_type": "markdown",
   "metadata": {},
   "source": [
    "다차원 배열을 무조건 1차원 배열로 변경하려 한다면 `flatten`이나 `ravel` 메서드를 사용"
   ]
  },
  {
   "cell_type": "code",
   "execution_count": null,
   "metadata": {},
   "outputs": [],
   "source": [
    "numpy_matrix = np.empty((3, 4))\n",
    "numpy_matrix"
   ]
  },
  {
   "cell_type": "code",
   "execution_count": null,
   "metadata": {},
   "outputs": [],
   "source": [
    "numpy_array = numpy_matrix.flatten()\n",
    "numpy_array"
   ]
  },
  {
   "cell_type": "code",
   "execution_count": null,
   "metadata": {},
   "outputs": [],
   "source": [
    "numpy_array = numpy_matrix.ravel()\n",
    "numpy_array"
   ]
  },
  {
   "cell_type": "markdown",
   "metadata": {},
   "source": [
    "배열 사용에서 주의할 점은 *길이가 5인 1차원 배열* 과 *5x1 인 2차원 배열*, *1x5 인 2차원 배열*은 서로 각각 다른 배열 (요소의 개수와 내용, 순서가 모두 같더라도 형태가 다르면 다른 배열)"
   ]
  },
  {
   "cell_type": "markdown",
   "metadata": {},
   "source": [
    "차원을 한 차원 증가시키고자 한다면 `numpy.newaxis` 속성으로 차원을 증가 시킬 수 있음"
   ]
  },
  {
   "cell_type": "code",
   "execution_count": null,
   "metadata": {},
   "outputs": [],
   "source": [
    "numpy_array"
   ]
  },
  {
   "cell_type": "code",
   "execution_count": null,
   "metadata": {},
   "outputs": [],
   "source": [
    "newaxis_array = numpy_array[np.newaxis]\n",
    "newaxis_array"
   ]
  },
  {
   "cell_type": "markdown",
   "metadata": {},
   "source": [
    "### 배열 연결하기\n",
    "행의 수나 열의 수가 같은 두 개 이상의 배열을 연결하는 방법  \n",
    "- `hstack` : 행의 수가 같은 두 개 이상의 배열을 연결\n",
    "- `vstack` : 열의 수가 같은 두 개 이상의 배열을 연결\n",
    "- `dstack` : 행과 열의 수가 같은 두 개 이상의 배열을 연결\n",
    "- `stack` : dstack 확장 기능으로 행과 열의 수가 같은 두 개 이상의 배열을 연결. 단, 연결 축을 개발자가 직접 지정\n",
    "- `r_` : 배열의 요소를 연결, 메서드 인자를 `[]`에 전달함\n",
    "- `c_` : 행끼리 연결, 최소 2차원의 배열로 연결\n",
    "- `tile`: 하나의 배열을 여러번 반복하여 연결"
   ]
  },
  {
   "cell_type": "code",
   "execution_count": null,
   "metadata": {},
   "outputs": [],
   "source": [
    "zeros_array = np.zeros((3, 4))\n",
    "zeros_array"
   ]
  },
  {
   "cell_type": "code",
   "execution_count": null,
   "metadata": {},
   "outputs": [],
   "source": [
    "ones_array = np.ones((3, 2))\n",
    "ones_array"
   ]
  },
  {
   "cell_type": "code",
   "execution_count": null,
   "metadata": {},
   "outputs": [],
   "source": [
    "hstack_array = np.hstack([zeros_array, ones_array])\n",
    "hstack_array"
   ]
  },
  {
   "cell_type": "code",
   "execution_count": null,
   "metadata": {},
   "outputs": [],
   "source": [
    "zeros_array = np.zeros((3, 4))\n",
    "zeros_array"
   ]
  },
  {
   "cell_type": "code",
   "execution_count": null,
   "metadata": {},
   "outputs": [],
   "source": [
    "ones_array = np.ones((2, 4))\n",
    "ones_array"
   ]
  },
  {
   "cell_type": "code",
   "execution_count": null,
   "metadata": {},
   "outputs": [],
   "source": [
    "vstack_array = np.vstack([zeros_array, ones_array])\n",
    "vstack_array"
   ]
  },
  {
   "cell_type": "code",
   "execution_count": null,
   "metadata": {},
   "outputs": [],
   "source": [
    "zeros_array = np.zeros((3, 3))\n",
    "zeros_array"
   ]
  },
  {
   "cell_type": "code",
   "execution_count": null,
   "metadata": {},
   "outputs": [],
   "source": [
    "ones_array = np.ones((3, 3))\n",
    "ones_array"
   ]
  },
  {
   "cell_type": "code",
   "execution_count": null,
   "metadata": {},
   "outputs": [],
   "source": [
    "dstack_array = np.dstack([zeros_array, ones_array])\n",
    "dstack_array"
   ]
  },
  {
   "cell_type": "code",
   "execution_count": null,
   "metadata": {},
   "outputs": [],
   "source": [
    "zeros_array, ones_array"
   ]
  },
  {
   "cell_type": "code",
   "execution_count": null,
   "metadata": {},
   "outputs": [],
   "source": [
    "stack_array = np.stack([zeros_array, ones_array])\n",
    "stack_array"
   ]
  },
  {
   "cell_type": "code",
   "execution_count": null,
   "metadata": {},
   "outputs": [],
   "source": [
    "stack_array = np.stack([zeros_array, ones_array], axis = 1)\n",
    "stack_array"
   ]
  },
  {
   "cell_type": "code",
   "execution_count": null,
   "metadata": {},
   "outputs": [],
   "source": [
    "r_array = np.r_[zeros_array, ones_array]\n",
    "r_array"
   ]
  },
  {
   "cell_type": "code",
   "execution_count": null,
   "metadata": {},
   "outputs": [],
   "source": [
    "c_array = np.c_[zeros_array, ones_array]\n",
    "c_array"
   ]
  },
  {
   "cell_type": "code",
   "execution_count": null,
   "metadata": {},
   "outputs": [],
   "source": [
    "tile_array = np.tile(zeros_array, 2)\n",
    "tile_array"
   ]
  },
  {
   "cell_type": "code",
   "execution_count": null,
   "metadata": {},
   "outputs": [],
   "source": [
    "tile_array = np.tile(zeros_array, (3, 2))\n",
    "tile_array"
   ]
  },
  {
   "cell_type": "markdown",
   "metadata": {},
   "source": [
    "##### 파이썬으로 다음 연산을 수행한다.\n",
    "지금까지 공부한 명령어를 사용하여 다음과 같은 배열을 만들어라.  \n",
    "```python\n",
    "array([[   0.,    0.,    0.,    1.,    1.],\n",
    "       [   0.,    0.,    0.,    1.,    1.],\n",
    "       [   0.,    0.,    0.,    1.,    1.],\n",
    "       [  10.,   20.,   30.,   40.,   50.],\n",
    "       [  60.,   70.,   80.,   90.,  100.],\n",
    "       [ 110.,  120.,  130.,  140.,  150.],\n",
    "       [   0.,    0.,    0.,    1.,    1.],\n",
    "       [   0.,    0.,    0.,    1.,    1.],\n",
    "       [   0.,    0.,    0.,    1.,    1.],\n",
    "       [  10.,   20.,   30.,   40.,   50.],\n",
    "       [  60.,   70.,   80.,   90.,  100.],\n",
    "       [ 110.,  120.,  130.,  140.,  150.]])\n",
    "```"
   ]
  },
  {
   "cell_type": "code",
   "execution_count": null,
   "metadata": {},
   "outputs": [],
   "source": [
    "zeros_array = np.zeros((3, 3))\n",
    "ones_array = np.ones((3, 2))\n",
    "hstack_array = np.hstack([zeros_array, ones_array])\n",
    "\n",
    "arage_array = np.arange(10, 151, 10)\n",
    "reshape_array = arage_array.reshape(3, 5)\n",
    "vstack_array = np.vstack([hstack_array, reshape_array])\n",
    "\n",
    "tile_array = np.tile(vstack_array, (2, 1))\n",
    "tile_array"
   ]
  },
  {
   "cell_type": "markdown",
   "metadata": {},
   "source": [
    "### 2차원 그리드 포인트 생성\n",
    "좌표값의 쌍(그리드 포인트)을 생성하는 메서드 ` meshgrid` 함수로 x축과 y축의 점들로 사각형의 영역을 나타내는 조합을 생성"
   ]
  },
  {
   "cell_type": "code",
   "execution_count": null,
   "metadata": {},
   "outputs": [],
   "source": [
    "x = np.arange(3)\n",
    "x"
   ]
  },
  {
   "cell_type": "code",
   "execution_count": null,
   "metadata": {},
   "outputs": [],
   "source": [
    "y = np.arange(5)\n",
    "y"
   ]
  },
  {
   "cell_type": "code",
   "execution_count": null,
   "metadata": {},
   "outputs": [],
   "source": [
    "X, Y = np.meshgrid(x, y)\n",
    "X, Y"
   ]
  },
  {
   "cell_type": "code",
   "execution_count": null,
   "metadata": {},
   "outputs": [],
   "source": [
    "[list(zip(x, y)) for x, y in zip(X, Y)]"
   ]
  },
  {
   "cell_type": "markdown",
   "metadata": {},
   "source": [
    "### 벡터화 연산\n",
    "numpy 배열은 반복문을 쓰지않고 배열에 대하여 벡터 연산을 할 수 있음"
   ]
  },
  {
   "cell_type": "code",
   "execution_count": null,
   "metadata": {},
   "outputs": [],
   "source": [
    "x = np.arange(1, 10001)\n",
    "y = np.arange(10001, 20001)"
   ]
  },
  {
   "cell_type": "code",
   "execution_count": null,
   "metadata": {},
   "outputs": [],
   "source": [
    "%%time\n",
    "z = np.zeros_like(x)\n",
    "for index in range(len(x)):\n",
    "    z[index] = x[index] + y[index]"
   ]
  },
  {
   "cell_type": "code",
   "execution_count": null,
   "metadata": {},
   "outputs": [],
   "source": [
    "%%time\n",
    "z = x + y"
   ]
  },
  {
   "cell_type": "code",
   "execution_count": null,
   "metadata": {},
   "outputs": [],
   "source": [
    "x = np.arange(5)\n",
    "y = np.arange(10, 15)\n",
    "z = np.arange(5)"
   ]
  },
  {
   "cell_type": "code",
   "execution_count": null,
   "metadata": {},
   "outputs": [],
   "source": [
    "np.all(x == y)"
   ]
  },
  {
   "cell_type": "code",
   "execution_count": null,
   "metadata": {},
   "outputs": [],
   "source": [
    "np.all(x == z)"
   ]
  },
  {
   "cell_type": "code",
   "execution_count": null,
   "metadata": {},
   "outputs": [],
   "source": [
    "np.all(x <= y)"
   ]
  },
  {
   "cell_type": "code",
   "execution_count": null,
   "metadata": {},
   "outputs": [],
   "source": [
    "x"
   ]
  },
  {
   "cell_type": "code",
   "execution_count": null,
   "metadata": {},
   "outputs": [],
   "source": [
    "10 * x"
   ]
  },
  {
   "cell_type": "code",
   "execution_count": null,
   "metadata": {},
   "outputs": [],
   "source": [
    "10 ** x"
   ]
  },
  {
   "cell_type": "code",
   "execution_count": null,
   "metadata": {},
   "outputs": [],
   "source": [
    "x ** 10"
   ]
  },
  {
   "cell_type": "markdown",
   "metadata": {},
   "source": [
    "### 브로드 캐스팅\n",
    "차원이 서로 다른 배열을 연산하는 기능, 부족한 차원에 대하여 반복 확장하여 큰 배열의 크기에 맞춘 후 연산을 진행"
   ]
  },
  {
   "cell_type": "code",
   "execution_count": null,
   "metadata": {},
   "outputs": [],
   "source": [
    "x = np.arange(5)\n",
    "x"
   ]
  },
  {
   "cell_type": "code",
   "execution_count": null,
   "metadata": {},
   "outputs": [],
   "source": [
    "x + 1"
   ]
  },
  {
   "cell_type": "code",
   "execution_count": null,
   "metadata": {},
   "outputs": [],
   "source": [
    "x = np.arange(15)\n",
    "x = x.reshape(3, 5)\n",
    "x"
   ]
  },
  {
   "cell_type": "code",
   "execution_count": null,
   "metadata": {},
   "outputs": [],
   "source": [
    "y = np.arange(5)\n",
    "y"
   ]
  },
  {
   "cell_type": "code",
   "execution_count": null,
   "metadata": {},
   "outputs": [],
   "source": [
    "x + y"
   ]
  },
  {
   "cell_type": "code",
   "execution_count": null,
   "metadata": {},
   "outputs": [],
   "source": [
    "y = np.arange(3)\n",
    "y = y.reshape(3, 1)\n",
    "y"
   ]
  },
  {
   "cell_type": "code",
   "execution_count": null,
   "metadata": {},
   "outputs": [],
   "source": [
    "x + y"
   ]
  },
  {
   "cell_type": "markdown",
   "metadata": {},
   "source": [
    "### 차원 축소 연산\n",
    "배열의 하나의 행을 하나의 집합으로 보고 그 집합에 대한 집계 처리 결과로 새로운 값을 반환하여 배열을 생성 "
   ]
  },
  {
   "cell_type": "code",
   "execution_count": null,
   "metadata": {},
   "outputs": [],
   "source": [
    "x = np.arange(10)\n",
    "x = x.reshape(2, 5)\n",
    "x"
   ]
  },
  {
   "cell_type": "code",
   "execution_count": null,
   "metadata": {},
   "outputs": [],
   "source": [
    "x.max()"
   ]
  },
  {
   "cell_type": "code",
   "execution_count": null,
   "metadata": {},
   "outputs": [],
   "source": [
    "x.min()"
   ]
  },
  {
   "cell_type": "code",
   "execution_count": null,
   "metadata": {},
   "outputs": [],
   "source": [
    "x.mean()"
   ]
  },
  {
   "cell_type": "code",
   "execution_count": null,
   "metadata": {},
   "outputs": [],
   "source": [
    "x.sum(axis=0)"
   ]
  },
  {
   "cell_type": "code",
   "execution_count": null,
   "metadata": {},
   "outputs": [],
   "source": [
    "x.sum(axis=1)"
   ]
  },
  {
   "cell_type": "markdown",
   "metadata": {},
   "source": [
    "### 정렬\n",
    "`sort` 메서드로 배열을 정렬 할 수 있음  \n",
    "`axis` 매개변수로 정렬 기준을 정할 수 있음  \n",
    "`axis=0`: 행을 따로 분리하여 정렬  \n",
    "`axis=1`: 열을 따로 분리하여 정렬  \n",
    "`axis`를 지정하지 않으면 가장 나중 차원을 기준으로 정렬  "
   ]
  },
  {
   "cell_type": "code",
   "execution_count": null,
   "metadata": {},
   "outputs": [],
   "source": [
    "x = np.array([\n",
    "    [5, 2, 7, 4],\n",
    "    [11, 8, 6, 5],\n",
    "    [8, 5, 11, 2]\n",
    "])\n",
    "x"
   ]
  },
  {
   "cell_type": "code",
   "execution_count": null,
   "metadata": {},
   "outputs": [],
   "source": [
    "x.sort()\n",
    "x"
   ]
  },
  {
   "cell_type": "code",
   "execution_count": null,
   "metadata": {},
   "outputs": [],
   "source": [
    "x.sort(axis=0)\n",
    "x"
   ]
  },
  {
   "cell_type": "code",
   "execution_count": null,
   "metadata": {},
   "outputs": [],
   "source": [
    "x.sort(axis=1)\n",
    "x"
   ]
  },
  {
   "cell_type": "code",
   "execution_count": null,
   "metadata": {},
   "outputs": [],
   "source": [
    "np.argsort(x, axis = 0)"
   ]
  },
  {
   "cell_type": "markdown",
   "metadata": {},
   "source": [
    "##### **넘파이로 다음 연산을 수행한다.**\n",
    "실수로 이루어진 3 x 3 형태의 데이터 행렬을 만들고 이 데이터에 대해 다음과 같은 값을 구한다.\n",
    "\n",
    "1. 전체의 최댓값\n",
    "2. 각 행의 합\n",
    "3. 각 행의 최댓값\n",
    "4. 각 열의 평균\n",
    "5. 각 열의 최솟값"
   ]
  },
  {
   "cell_type": "code",
   "execution_count": null,
   "metadata": {},
   "outputs": [],
   "source": [
    "x = np.array([\n",
    "    [5, 11, 12,],\n",
    "    [0, 18, 22],\n",
    "    [8, 2, 7]\n",
    "])\n",
    "x"
   ]
  },
  {
   "cell_type": "code",
   "execution_count": null,
   "metadata": {},
   "outputs": [],
   "source": [
    "# 전체의 최댓값\n",
    "x.max()"
   ]
  },
  {
   "cell_type": "code",
   "execution_count": null,
   "metadata": {},
   "outputs": [],
   "source": [
    "# 각 행의 합\n",
    "x.sum(axis=1)"
   ]
  },
  {
   "cell_type": "code",
   "execution_count": null,
   "metadata": {},
   "outputs": [],
   "source": [
    "# 각 행의 최댓값\n",
    "x.max(axis=1)"
   ]
  },
  {
   "cell_type": "code",
   "execution_count": null,
   "metadata": {},
   "outputs": [],
   "source": [
    "# 각 열의 평균\n",
    "x.mean(axis=0)"
   ]
  },
  {
   "cell_type": "code",
   "execution_count": null,
   "metadata": {},
   "outputs": [],
   "source": [
    "# 각 열의 최솟값\n",
    "x.min(axis=0)"
   ]
  },
  {
   "cell_type": "markdown",
   "metadata": {},
   "source": [
    "### Numpy 배열 통계 연산\n",
    "- 데이터 개수 구하기 : `len()` 내장 함수\n",
    "- 표본 평균 : `mean()` 메서드\n",
    "- 표본 분산 : `var()` 메서드\n",
    "- 표본 표준편차 : `std()` 메서드\n",
    "- 최대, 최소 : `max()`, `min()` 메서드\n",
    "- 중앙값 : `median()` 메서드\n",
    "- 사분위수 : `percentile()` 메서드"
   ]
  },
  {
   "cell_type": "code",
   "execution_count": null,
   "metadata": {},
   "outputs": [],
   "source": [
    "samples = np.array([9, 2, 4, 20, 24, 2, 23, 92, 24, -23])\n",
    "samples"
   ]
  },
  {
   "cell_type": "code",
   "execution_count": null,
   "metadata": {},
   "outputs": [],
   "source": [
    "sample_volume = len(samples)\n",
    "sample_volume"
   ]
  },
  {
   "cell_type": "code",
   "execution_count": null,
   "metadata": {},
   "outputs": [],
   "source": [
    "sample_mean = samples.mean()\n",
    "sample_mean"
   ]
  },
  {
   "cell_type": "code",
   "execution_count": null,
   "metadata": {},
   "outputs": [],
   "source": [
    "sample_mean = np.mean(samples)\n",
    "sample_mean"
   ]
  },
  {
   "cell_type": "code",
   "execution_count": null,
   "metadata": {},
   "outputs": [],
   "source": [
    "sample_variance = samples.var()\n",
    "sample_variance"
   ]
  },
  {
   "cell_type": "code",
   "execution_count": null,
   "metadata": {},
   "outputs": [],
   "source": [
    "sample_variance = np.var(samples)\n",
    "sample_variance"
   ]
  },
  {
   "cell_type": "code",
   "execution_count": null,
   "metadata": {},
   "outputs": [],
   "source": [
    "sample_standard = samples.std()\n",
    "sample_standard"
   ]
  },
  {
   "cell_type": "code",
   "execution_count": null,
   "metadata": {},
   "outputs": [],
   "source": [
    "sample_standard = np.std(samples)\n",
    "sample_standard"
   ]
  },
  {
   "cell_type": "code",
   "execution_count": null,
   "metadata": {},
   "outputs": [],
   "source": [
    "sample_max = samples.max()\n",
    "sample_max"
   ]
  },
  {
   "cell_type": "code",
   "execution_count": null,
   "metadata": {},
   "outputs": [],
   "source": [
    "sample_min = samples.min()\n",
    "sample_min"
   ]
  },
  {
   "cell_type": "code",
   "execution_count": null,
   "metadata": {},
   "outputs": [],
   "source": [
    "sample_median = np.median(samples)\n",
    "sample_median"
   ]
  },
  {
   "cell_type": "code",
   "execution_count": null,
   "metadata": {},
   "outputs": [],
   "source": [
    "sample_0per = np.percentile(samples, 0)\n",
    "sample_0per"
   ]
  },
  {
   "cell_type": "code",
   "execution_count": null,
   "metadata": {},
   "outputs": [],
   "source": [
    "sample_25per = np.percentile(samples, 25)\n",
    "sample_25per"
   ]
  },
  {
   "cell_type": "code",
   "execution_count": null,
   "metadata": {},
   "outputs": [],
   "source": [
    "sample_50per = np.percentile(samples, 50)\n",
    "sample_50per"
   ]
  },
  {
   "cell_type": "code",
   "execution_count": null,
   "metadata": {},
   "outputs": [],
   "source": [
    "sample_75per = np.percentile(samples, 75)\n",
    "sample_75per"
   ]
  },
  {
   "cell_type": "code",
   "execution_count": null,
   "metadata": {},
   "outputs": [],
   "source": [
    "sample_100per = np.percentile(samples, 100)\n",
    "sample_100per"
   ]
  },
  {
   "cell_type": "markdown",
   "metadata": {},
   "source": [
    "### 난수 생성에 필요한 시드 설정\n",
    "numpy 패키지에 있는 `seed()` 메서드에 매개변수로 난수 생성시 필요한 시드를 설정 함"
   ]
  },
  {
   "cell_type": "code",
   "execution_count": null,
   "metadata": {},
   "outputs": [],
   "source": [
    "np.random.seed(10)"
   ]
  },
  {
   "cell_type": "code",
   "execution_count": null,
   "metadata": {},
   "outputs": [],
   "source": [
    "random_array = np.random.rand(10)\n",
    "random_array"
   ]
  },
  {
   "cell_type": "markdown",
   "metadata": {},
   "source": [
    "### 데이터 순서를 임의로 바꾸기\n",
    "numpy 패키지의 random 하위 패키지의 `shuffle()`메서드로 배열을 임의 순서로 변경 가능 (자체 변환)"
   ]
  },
  {
   "cell_type": "code",
   "execution_count": null,
   "metadata": {},
   "outputs": [],
   "source": [
    "range_array = np.arange(10)\n",
    "range_array"
   ]
  },
  {
   "cell_type": "code",
   "execution_count": null,
   "metadata": {},
   "outputs": [],
   "source": [
    "np.random.shuffle(range_array)\n",
    "range_array"
   ]
  },
  {
   "cell_type": "markdown",
   "metadata": {},
   "source": [
    "### 데이터 샘플링\n",
    "모집단 배열에 표본으로 사용할 표본 집단 배열을 무작위로 선택하는 방법  \n",
    "numpy 패키지의 random 하위패키지의 `choice(모집단배열, 표본크기, 중복선택여부, 각요소의선택확률배열)` 메서드로 사용 가능"
   ]
  },
  {
   "cell_type": "code",
   "execution_count": null,
   "metadata": {},
   "outputs": [],
   "source": [
    "population_array = np.arange(10)\n",
    "population_array"
   ]
  },
  {
   "cell_type": "code",
   "execution_count": null,
   "metadata": {},
   "outputs": [],
   "source": [
    "sample_array = np.random.choice(population_array, 5)\n",
    "sample_array"
   ]
  },
  {
   "cell_type": "code",
   "execution_count": null,
   "metadata": {},
   "outputs": [],
   "source": [
    "sample_array = np.random.choice(population_array, 5, replace=False)\n",
    "sample_array"
   ]
  },
  {
   "cell_type": "code",
   "execution_count": null,
   "metadata": {},
   "outputs": [],
   "source": [
    "probability_array = [0.1, 0.05, 0.05, 0, 0.15, 0.25, 0.1, 0.05, 0.05, 0.2]\n",
    "sample_array = np.random.choice(population_array, 10000, p=probability_array)\n",
    "sample_array"
   ]
  },
  {
   "cell_type": "code",
   "execution_count": null,
   "metadata": {},
   "outputs": [],
   "source": [
    "sample_array = np.random.choice(population_array, 12, replace=False)\n",
    "sample_array"
   ]
  },
  {
   "cell_type": "code",
   "execution_count": null,
   "metadata": {},
   "outputs": [],
   "source": [
    "probability_array = [0.1, 0.05, 0.05, 0, 0.15, 0.25, 0.1, 0.05, 0.25]\n",
    "sample_array = np.random.choice(population_array, 10000, p=probability_array)\n",
    "sample_array"
   ]
  },
  {
   "cell_type": "markdown",
   "metadata": {},
   "source": [
    "### 난수 배열 생성\n",
    "- `rand()`: 0과 1사이의 균일 분포를 따르는 난수 배열 생성\n",
    "- `randn()` : 표준 정규 분포를 따르는 난수 배열 생성\n",
    "- `randint(low, high=정수, size=정수혹은튜플)` : 지정한 범위 정수의 균일 분포를 따르는 난수 배열 생성"
   ]
  },
  {
   "cell_type": "code",
   "execution_count": null,
   "metadata": {},
   "outputs": [],
   "source": [
    "rand_array = np.random.rand(10)\n",
    "rand_array"
   ]
  },
  {
   "cell_type": "code",
   "execution_count": null,
   "metadata": {},
   "outputs": [],
   "source": [
    "randn_array = np.random.randn(10)\n",
    "randn_array"
   ]
  },
  {
   "cell_type": "code",
   "execution_count": null,
   "metadata": {},
   "outputs": [],
   "source": [
    "randint_array = np.random.randint(10)\n",
    "randint_array"
   ]
  },
  {
   "cell_type": "code",
   "execution_count": null,
   "metadata": {},
   "outputs": [],
   "source": [
    "randint_array = np.random.randint(10, size=10)\n",
    "randint_array"
   ]
  },
  {
   "cell_type": "code",
   "execution_count": null,
   "metadata": {},
   "outputs": [],
   "source": [
    "randint_array = np.random.randint(10, high=20, size=10)\n",
    "randint_array"
   ]
  },
  {
   "cell_type": "code",
   "execution_count": null,
   "metadata": {},
   "outputs": [],
   "source": [
    "randint_array = np.random.randint(10, high=20, size=(3, 5))\n",
    "randint_array"
   ]
  },
  {
   "cell_type": "markdown",
   "metadata": {},
   "source": [
    "### 정수 데이터 카운팅\n",
    "배열의 요소가 정수이면 `unique()` 메서드나 `bincount()` 메서드로 간단하게 분석할 수 있음"
   ]
  },
  {
   "cell_type": "code",
   "execution_count": null,
   "metadata": {},
   "outputs": [],
   "source": [
    "analysis_array = np.unique(sample_array)\n",
    "analysis_array"
   ]
  },
  {
   "cell_type": "code",
   "execution_count": null,
   "metadata": {},
   "outputs": [],
   "source": [
    "analysis_array = np.unique(sample_array, return_counts=True)\n",
    "analysis_array"
   ]
  },
  {
   "cell_type": "code",
   "execution_count": null,
   "metadata": {},
   "outputs": [],
   "source": [
    "analysis_array = np.bincount(sample_array, minlength=10)\n",
    "analysis_array"
   ]
  },
  {
   "cell_type": "markdown",
   "metadata": {},
   "source": [
    "##### 파이썬으로 다음 연산을 수행한다.\n",
    "1. 동전을 10번 던져 앞면(숫자 1)과 뒷면(숫자 0)이 나오는 가상 실험을 파이썬으로 작성한다.\n",
    "2. 주사위를 100번 던져서 나오는 숫자의 평균을 구하라."
   ]
  },
  {
   "cell_type": "code",
   "execution_count": null,
   "metadata": {},
   "outputs": [],
   "source": [
    "# 1. 동전을 10번 던져 앞면(숫자 1)과 뒷면(숫자 0)이 나오는 가상 실험을 파이썬으로 작성한다.\n",
    "coin_simulation = np.random.randint(2, size=10)\n",
    "coin_simulation"
   ]
  },
  {
   "cell_type": "code",
   "execution_count": null,
   "metadata": {},
   "outputs": [],
   "source": [
    "# 2. 주사위를 100번 던져서 나오는 숫자의 평균을 구하라.\n",
    "dice_simulation = np.random.randint(1, high=7, size=100)\n",
    "dice_simulation_mean = dice_simulation.mean()\n",
    "dice_simulation_mean"
   ]
  },
  {
   "cell_type": "markdown",
   "metadata": {},
   "source": [
    "##### 파이썬으로 다음 연산을 수행한다.\n",
    "가격이 10,000원인 주식이 있다. 이 주식의 일간 수익률(%)은 기댓값이 0%이고 표준편차가 1%인 표준 정규 분포를 따른다고 하자. 250일 동안의 주가를 무작위로 생성하라\n",
    "\n",
    "결과 예시:\n",
    "```bash\n",
    "[75200, 74000, 74100, 73400, 74400, 74300, 72700, 73600, 75200, 74300,...]\n",
    "```"
   ]
  },
  {
   "cell_type": "code",
   "execution_count": null,
   "metadata": {},
   "outputs": [],
   "source": [
    "price = 10000\n",
    "\n",
    "variation_ranges = (np.random.randn(250) / 100) + 1\n",
    "variation_ranges"
   ]
  },
  {
   "cell_type": "code",
   "execution_count": null,
   "metadata": {},
   "outputs": [],
   "source": [
    "stock_prices = []\n",
    "\n",
    "for ratio in variation_ranges:\n",
    "    price = round(price * round(ratio, 4))\n",
    "    stock_prices.append(price)\n",
    "\n",
    "stock_price_array = np.array(stock_prices)\n",
    "stock_price_array"
   ]
  }
 ],
 "metadata": {
  "kernelspec": {
   "display_name": "Python 3",
   "language": "python",
   "name": "python3"
  },
  "language_info": {
   "codemirror_mode": {
    "name": "ipython",
    "version": 3
   },
   "file_extension": ".py",
   "mimetype": "text/x-python",
   "name": "python",
   "nbconvert_exporter": "python",
   "pygments_lexer": "ipython3",
   "version": "3.12.2"
  }
 },
 "nbformat": 4,
 "nbformat_minor": 2
}
