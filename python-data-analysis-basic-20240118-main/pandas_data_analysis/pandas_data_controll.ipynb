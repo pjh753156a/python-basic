{
 "cells": [
  {
   "cell_type": "code",
   "execution_count": 1,
   "metadata": {},
   "outputs": [],
   "source": [
    "import pandas as pd\n",
    "import numpy as np"
   ]
  },
  {
   "cell_type": "markdown",
   "metadata": {},
   "source": [
    "### 데이터 개수 세기\n",
    "판다스 패키지의 `Series`,`DataFrame` 객체의 `count()`메서드로 데이터의 갯수를 셀 수 있음\n",
    "단 `NaN`값은 포함하지 않음"
   ]
  },
  {
   "cell_type": "code",
   "execution_count": 3,
   "metadata": {},
   "outputs": [
    {
     "name": "stdout",
     "output_type": "stream",
     "text": [
      "0    0.0\n",
      "1    1.0\n",
      "2    2.0\n",
      "3    NaN\n",
      "4    4.0\n",
      "5    5.0\n",
      "6    6.0\n",
      "7    7.0\n",
      "8    8.0\n",
      "9    9.0\n",
      "dtype: float64\n",
      "9\n"
     ]
    }
   ],
   "source": [
    "s = pd.Series(np.arange(10))\n",
    "s[3]=np.nan\n",
    "print(s)\n",
    "print(s.count())"
   ]
  },
  {
   "cell_type": "code",
   "execution_count": 6,
   "metadata": {},
   "outputs": [
    {
     "name": "stdout",
     "output_type": "stream",
     "text": [
      "     0    1    2    3\n",
      "0  1.0  4.0  4.0  4.0\n",
      "1  0.0  3.0  2.0  0.0\n",
      "2  4.0  4.0  2.0  NaN\n",
      "3  0.0  4.0  4.0  1.0\n",
      "0    4\n",
      "1    4\n",
      "2    4\n",
      "3    3\n",
      "dtype: int64\n"
     ]
    }
   ],
   "source": [
    "df=pd.DataFrame(np.random.randint(5,size=(4,4)),dtype=float)\n",
    "df.iloc[2,3]=np.nan\n",
    "print(df)\n",
    "#열기준으로 그룹화하여 카운드\n",
    "print(df.count())"
   ]
  },
  {
   "cell_type": "code",
   "execution_count": 7,
   "metadata": {},
   "outputs": [],
   "source": [
    "import seaborn"
   ]
  },
  {
   "cell_type": "code",
   "execution_count": 10,
   "metadata": {},
   "outputs": [
    {
     "name": "stdout",
     "output_type": "stream",
     "text": [
      "   survived  pclass     sex   age  sibsp  parch     fare embarked  class  \\\n",
      "0         0       3    male  22.0      1      0   7.2500        S  Third   \n",
      "1         1       1  female  38.0      1      0  71.2833        C  First   \n",
      "2         1       3  female  26.0      0      0   7.9250        S  Third   \n",
      "3         1       1  female  35.0      1      0  53.1000        S  First   \n",
      "4         0       3    male  35.0      0      0   8.0500        S  Third   \n",
      "\n",
      "     who  adult_male deck  embark_town alive  alone  \n",
      "0    man        True  NaN  Southampton    no  False  \n",
      "1  woman       False    C    Cherbourg   yes  False  \n",
      "2  woman       False  NaN  Southampton   yes   True  \n",
      "3  woman       False    C  Southampton   yes  False  \n",
      "4    man        True  NaN  Southampton    no   True  \n"
     ]
    }
   ],
   "source": [
    "titanic=seaborn.load_dataset('titanic')\n",
    "print(titanic.head())"
   ]
  },
  {
   "cell_type": "code",
   "execution_count": 12,
   "metadata": {},
   "outputs": [
    {
     "name": "stdout",
     "output_type": "stream",
     "text": [
      "survived       891\n",
      "pclass         891\n",
      "sex            891\n",
      "age            714\n",
      "sibsp          891\n",
      "parch          891\n",
      "fare           891\n",
      "embarked       889\n",
      "class          891\n",
      "who            891\n",
      "adult_male     891\n",
      "deck           203\n",
      "embark_town    889\n",
      "alive          891\n",
      "alone          891\n",
      "dtype: int64\n",
      "891\n"
     ]
    }
   ],
   "source": [
    "print(titanic.count())\n",
    "print(len(titanic))"
   ]
  },
  {
   "cell_type": "markdown",
   "metadata": {},
   "source": [
    "### 카테고리 값 세기\n",
    "`Series` 객체에 값이 정수, 문자열, 카테고리 값인 경우에 `value_counts()` 메서드로 각 값의\n",
    "갯수를 셀 수 있음\n",
    "`DataFrame` 객체에는 `value_counts()`메서드가 존재하지 않아 각 열마다 따로 갯수를 세야함"
   ]
  },
  {
   "cell_type": "code",
   "execution_count": 14,
   "metadata": {},
   "outputs": [
    {
     "name": "stdout",
     "output_type": "stream",
     "text": [
      "245    4\n",
      "246    0\n",
      "247    4\n",
      "248    1\n",
      "249    0\n",
      "dtype: int32\n",
      "4    49\n",
      "3    44\n",
      "1    43\n",
      "0    41\n",
      "2    37\n",
      "5    36\n",
      "Name: count, dtype: int64\n"
     ]
    }
   ],
   "source": [
    "s2=pd.Series(np.random.randint(6,size=250))\n",
    "print(s2.tail())\n",
    "print(s2.value_counts())"
   ]
  },
  {
   "cell_type": "code",
   "execution_count": 18,
   "metadata": {},
   "outputs": [
    {
     "data": {
      "text/plain": [
       "0\n",
       "0.0    2\n",
       "1.0    1\n",
       "4.0    1\n",
       "Name: count, dtype: int64"
      ]
     },
     "execution_count": 18,
     "metadata": {},
     "output_type": "execute_result"
    }
   ],
   "source": [
    "df[0].value_counts() #이해못함"
   ]
  },
  {
   "cell_type": "markdown",
   "metadata": {},
   "source": [
    "### 정렬\n",
    "`sort_index()`,`sort_values()`메서드로 정렬 가능\n",
    "`sort_index()` : 인덱스 기준으로 정렬 (기본적으로 오름처순 정렬, 만약 내림차순 정렬을 하고\n",
    "싶으면 `ascending=False`를 지정), \n",
    "`sort_values()`: 값 기준으로 정렬, 만약 NaN 값이 있다면 무조건 맨뒤로 지정됨 "
   ]
  },
  {
   "cell_type": "code",
   "execution_count": 20,
   "metadata": {},
   "outputs": [
    {
     "name": "stdout",
     "output_type": "stream",
     "text": [
      "4    49\n",
      "3    44\n",
      "1    43\n",
      "0    41\n",
      "2    37\n",
      "5    36\n",
      "Name: count, dtype: int64\n",
      "\n",
      "0    41\n",
      "1    43\n",
      "2    37\n",
      "3    44\n",
      "4    49\n",
      "5    36\n",
      "Name: count, dtype: int64\n"
     ]
    }
   ],
   "source": [
    "print(s2.value_counts())\n",
    "print()\n",
    "print(s2.value_counts().sort_index())"
   ]
  },
  {
   "cell_type": "code",
   "execution_count": 23,
   "metadata": {},
   "outputs": [
    {
     "name": "stdout",
     "output_type": "stream",
     "text": [
      "0    0.0\n",
      "1    1.0\n",
      "2    2.0\n",
      "3    NaN\n",
      "4    4.0\n",
      "5    5.0\n",
      "6    6.0\n",
      "7    7.0\n",
      "8    8.0\n",
      "9    9.0\n",
      "dtype: float64\n",
      "0    0.0\n",
      "1    1.0\n",
      "2    2.0\n",
      "4    4.0\n",
      "5    5.0\n",
      "6    6.0\n",
      "7    7.0\n",
      "8    8.0\n",
      "9    9.0\n",
      "3    NaN\n",
      "dtype: float64\n",
      "9    9.0\n",
      "8    8.0\n",
      "7    7.0\n",
      "6    6.0\n",
      "5    5.0\n",
      "4    4.0\n",
      "2    2.0\n",
      "1    1.0\n",
      "0    0.0\n",
      "3    NaN\n",
      "dtype: float64\n"
     ]
    }
   ],
   "source": [
    "print(s)\n",
    "print(s.sort_values())\n",
    "print(s.sort_values(ascending=False))"
   ]
  },
  {
   "cell_type": "markdown",
   "metadata": {},
   "source": [
    "데이터 프레임에서 `sort_values()` 메서드를 사용할 땐 `by`인수로 정렬 기준이 될 열을 지정\n",
    "`by` 인수에 리스트를 전달하면 복수 정렬을 하게 됨"
   ]
  },
  {
   "cell_type": "code",
   "execution_count": 26,
   "metadata": {},
   "outputs": [
    {
     "name": "stdout",
     "output_type": "stream",
     "text": [
      "     0    1    2    3\n",
      "0  1.0  4.0  4.0  4.0\n",
      "1  0.0  3.0  2.0  0.0\n",
      "2  4.0  4.0  2.0  NaN\n",
      "3  0.0  4.0  4.0  1.0\n",
      "\n",
      "     0    1    2    3\n",
      "1  0.0  3.0  2.0  0.0\n",
      "2  4.0  4.0  2.0  NaN\n",
      "0  1.0  4.0  4.0  4.0\n",
      "3  0.0  4.0  4.0  1.0\n",
      "\n",
      "     0    1    2    3\n",
      "1  0.0  3.0  2.0  0.0\n",
      "2  4.0  4.0  2.0  NaN\n",
      "3  0.0  4.0  4.0  1.0\n",
      "0  1.0  4.0  4.0  4.0\n"
     ]
    }
   ],
   "source": [
    "print(df)\n",
    "print()\n",
    "print(df.sort_values(by=2))\n",
    "print()\n",
    "print(df.sort_values(by=[2,0]))"
   ]
  }
 ],
 "metadata": {
  "kernelspec": {
   "display_name": "Python 3",
   "language": "python",
   "name": "python3"
  },
  "language_info": {
   "codemirror_mode": {
    "name": "ipython",
    "version": 3
   },
   "file_extension": ".py",
   "mimetype": "text/x-python",
   "name": "python",
   "nbconvert_exporter": "python",
   "pygments_lexer": "ipython3",
   "version": "3.12.2"
  }
 },
 "nbformat": 4,
 "nbformat_minor": 2
}
