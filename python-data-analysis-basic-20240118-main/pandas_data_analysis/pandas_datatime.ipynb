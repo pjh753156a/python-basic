{
 "cells": [
  {
   "cell_type": "code",
   "execution_count": 1,
   "metadata": {},
   "outputs": [],
   "source": [
    "import pandas as pd\n",
    "import numpy as np"
   ]
  },
  {
   "cell_type": "markdown",
   "metadata": {},
   "source": [
    "### `Datetime` 인덱스\n",
    "시계열 객체인 `Series`는 시계열 데이터를 관리하는 객체이기 때문에 데이터가 시간에 의해 관리되어저야함  \n",
    "지금까지는 단순한 인덱스로 사용하였는데 이를 시계열로 표현하기위해서 `DatetimeIndex`를 사용해야함  \n",
    "`DatetimeIndex`는 시계열 인덱스를 사용하기 위한 인덱스이며 `판다스.to_datetime`, `판다스.date_range` 메서드를 사용하여 생성할 수 있음"
   ]
  },
  {
   "cell_type": "markdown",
   "metadata": {},
   "source": [
    "`to_datetime()` 메서드는 날짜 및 시간을 나타내는 문자열을 Datetime 자료형으로 변경한 후 `DatetimeIndex`를 생성함 "
   ]
  },
  {
   "cell_type": "code",
   "execution_count": 7,
   "metadata": {},
   "outputs": [
    {
     "data": {
      "text/plain": [
       "DatetimeIndex(['2018-01-01', '2018-01-04', '2018-01-05', '2018-01-06'], dtype='datetime64[ns]', freq=None)"
      ]
     },
     "execution_count": 7,
     "metadata": {},
     "output_type": "execute_result"
    }
   ],
   "source": [
    "date_str = ['2018-01-01', '2018-01-04', '2018-01-05', '2018-01-06']\n",
    "idx = pd.to_datetime(date_str)\n",
    "idx"
   ]
  },
  {
   "cell_type": "code",
   "execution_count": 8,
   "metadata": {},
   "outputs": [
    {
     "data": {
      "text/plain": [
       "2018-01-01   -0.845339\n",
       "2018-01-04    0.973189\n",
       "2018-01-05    0.401024\n",
       "2018-01-06    0.871748\n",
       "dtype: float64"
      ]
     },
     "execution_count": 8,
     "metadata": {},
     "output_type": "execute_result"
    }
   ],
   "source": [
    "# 인덱스 타입: datetime 타입\n",
    "s = pd.Series(np.random.randn(4), index=idx)\n",
    "s"
   ]
  },
  {
   "cell_type": "code",
   "execution_count": 11,
   "metadata": {},
   "outputs": [
    {
     "data": {
      "text/plain": [
       "2018-01-01    1.409387\n",
       "2018-01-04    0.785470\n",
       "2018-01-05    1.052920\n",
       "2018-01-06    1.814208\n",
       "dtype: float64"
      ]
     },
     "execution_count": 11,
     "metadata": {},
     "output_type": "execute_result"
    }
   ],
   "source": [
    "# 인덱스 타입: string 타입\n",
    "s = pd.Series(np.random.randn(4), index=date_str)\n",
    "s"
   ]
  },
  {
   "cell_type": "markdown",
   "metadata": {},
   "source": [
    "`date_range` 메서드는 날짜 및 간에 대해서 시작일과 종료일 / 시작일과 기간을 입력하여 범위 내의 `DatetimeIndex`를 생성"
   ]
  },
  {
   "cell_type": "code",
   "execution_count": 12,
   "metadata": {},
   "outputs": [
    {
     "data": {
      "text/plain": [
       "DatetimeIndex(['2024-01-01', '2024-01-02', '2024-01-03', '2024-01-04',\n",
       "               '2024-01-05', '2024-01-06', '2024-01-07', '2024-01-08',\n",
       "               '2024-01-09', '2024-01-10', '2024-01-11', '2024-01-12',\n",
       "               '2024-01-13', '2024-01-14', '2024-01-15', '2024-01-16',\n",
       "               '2024-01-17', '2024-01-18', '2024-01-19', '2024-01-20',\n",
       "               '2024-01-21', '2024-01-22', '2024-01-23', '2024-01-24',\n",
       "               '2024-01-25', '2024-01-26', '2024-01-27', '2024-01-28',\n",
       "               '2024-01-29', '2024-01-30', '2024-01-31', '2024-02-01',\n",
       "               '2024-02-02', '2024-02-03', '2024-02-04', '2024-02-05',\n",
       "               '2024-02-06', '2024-02-07', '2024-02-08', '2024-02-09',\n",
       "               '2024-02-10', '2024-02-11', '2024-02-12', '2024-02-13',\n",
       "               '2024-02-14', '2024-02-15', '2024-02-16', '2024-02-17',\n",
       "               '2024-02-18', '2024-02-19', '2024-02-20', '2024-02-21',\n",
       "               '2024-02-22', '2024-02-23', '2024-02-24', '2024-02-25',\n",
       "               '2024-02-26', '2024-02-27', '2024-02-28', '2024-02-29',\n",
       "               '2024-03-01', '2024-03-02', '2024-03-03', '2024-03-04',\n",
       "               '2024-03-05', '2024-03-06', '2024-03-07', '2024-03-08',\n",
       "               '2024-03-09', '2024-03-10', '2024-03-11', '2024-03-12',\n",
       "               '2024-03-13', '2024-03-14', '2024-03-15', '2024-03-16',\n",
       "               '2024-03-17', '2024-03-18', '2024-03-19', '2024-03-20',\n",
       "               '2024-03-21', '2024-03-22', '2024-03-23', '2024-03-24',\n",
       "               '2024-03-25', '2024-03-26', '2024-03-27', '2024-03-28',\n",
       "               '2024-03-29', '2024-03-30', '2024-03-31'],\n",
       "              dtype='datetime64[ns]', freq='D')"
      ]
     },
     "execution_count": 12,
     "metadata": {},
     "output_type": "execute_result"
    }
   ],
   "source": [
    "pd.date_range('2024-01-01', '2024-03-31')"
   ]
  },
  {
   "cell_type": "code",
   "execution_count": 13,
   "metadata": {},
   "outputs": [
    {
     "data": {
      "text/plain": [
       "DatetimeIndex(['2024-01-01', '2024-01-02', '2024-01-03', '2024-01-04',\n",
       "               '2024-01-05', '2024-01-06', '2024-01-07', '2024-01-08',\n",
       "               '2024-01-09', '2024-01-10', '2024-01-11', '2024-01-12',\n",
       "               '2024-01-13', '2024-01-14', '2024-01-15', '2024-01-16',\n",
       "               '2024-01-17', '2024-01-18', '2024-01-19', '2024-01-20',\n",
       "               '2024-01-21', '2024-01-22', '2024-01-23', '2024-01-24',\n",
       "               '2024-01-25', '2024-01-26', '2024-01-27', '2024-01-28',\n",
       "               '2024-01-29', '2024-01-30'],\n",
       "              dtype='datetime64[ns]', freq='D')"
      ]
     },
     "execution_count": 13,
     "metadata": {},
     "output_type": "execute_result"
    }
   ],
   "source": [
    "pd.date_range('2024-01-01', periods=30)"
   ]
  },
  {
   "cell_type": "markdown",
   "metadata": {},
   "source": [
    "`freq` 인수로 특정한 날짜만 생성되도록 할 수 있음"
   ]
  },
  {
   "cell_type": "code",
   "execution_count": 14,
   "metadata": {},
   "outputs": [
    {
     "data": {
      "text/plain": [
       "DatetimeIndex(['2024-02-29 09:48:00', '2024-02-29 09:48:01',\n",
       "               '2024-02-29 09:48:02', '2024-02-29 09:48:03',\n",
       "               '2024-02-29 09:48:04', '2024-02-29 09:48:05',\n",
       "               '2024-02-29 09:48:06', '2024-02-29 09:48:07',\n",
       "               '2024-02-29 09:48:08', '2024-02-29 09:48:09',\n",
       "               '2024-02-29 09:48:10'],\n",
       "              dtype='datetime64[ns]', freq='s')"
      ]
     },
     "execution_count": 14,
     "metadata": {},
     "output_type": "execute_result"
    }
   ],
   "source": [
    "# s : 초\n",
    "pd.date_range('2024-02-29 09:48:00', '2024-02-29 09:48:10', freq='s')"
   ]
  },
  {
   "cell_type": "code",
   "execution_count": 15,
   "metadata": {},
   "outputs": [
    {
     "data": {
      "text/plain": [
       "DatetimeIndex(['2024-02-01', '2024-02-02', '2024-02-05', '2024-02-06',\n",
       "               '2024-02-07', '2024-02-08', '2024-02-09', '2024-02-12',\n",
       "               '2024-02-13', '2024-02-14', '2024-02-15', '2024-02-16',\n",
       "               '2024-02-19', '2024-02-20', '2024-02-21', '2024-02-22',\n",
       "               '2024-02-23', '2024-02-26', '2024-02-27', '2024-02-28',\n",
       "               '2024-02-29'],\n",
       "              dtype='datetime64[ns]', freq='B')"
      ]
     },
     "execution_count": 15,
     "metadata": {},
     "output_type": "execute_result"
    }
   ],
   "source": [
    "# B : 평일\n",
    "pd.date_range('2024-02-01', '2024-02-29', freq='B')"
   ]
  },
  {
   "cell_type": "code",
   "execution_count": 16,
   "metadata": {},
   "outputs": [
    {
     "data": {
      "text/plain": [
       "DatetimeIndex(['2024-03-31', '2024-06-30', '2024-09-30', '2024-12-31'], dtype='datetime64[ns]', freq='QE-DEC')"
      ]
     },
     "execution_count": 16,
     "metadata": {},
     "output_type": "execute_result"
    }
   ],
   "source": [
    "# Q-DEC : 각 분기별 마지막 날\n",
    "pd.date_range('2024-01-01', '2024-12-31', freq='QE-DEC')"
   ]
  },
  {
   "cell_type": "markdown",
   "metadata": {},
   "source": [
    "### `shift` 연산\n",
    "`shift()` 메서드는 인덱스는 그대로 두고 데이터만 이동  \n",
    "`freq` 인수를 지정하면 인덱스를 변경시킴"
   ]
  },
  {
   "cell_type": "code",
   "execution_count": 22,
   "metadata": {},
   "outputs": [
    {
     "data": {
      "text/plain": [
       "2024-02-29   -1.677339\n",
       "2024-03-31   -1.567207\n",
       "2024-04-30    0.126522\n",
       "2024-05-31   -1.404182\n",
       "Freq: ME, dtype: float64"
      ]
     },
     "execution_count": 22,
     "metadata": {},
     "output_type": "execute_result"
    }
   ],
   "source": [
    "ts = pd.Series(np.random.randn(4), index=pd.date_range('2024-02-01', periods=4, freq='ME'))\n",
    "ts"
   ]
  },
  {
   "cell_type": "code",
   "execution_count": 23,
   "metadata": {},
   "outputs": [
    {
     "data": {
      "text/plain": [
       "2024-02-29         NaN\n",
       "2024-03-31   -1.677339\n",
       "2024-04-30   -1.567207\n",
       "2024-05-31    0.126522\n",
       "Freq: ME, dtype: float64"
      ]
     },
     "execution_count": 23,
     "metadata": {},
     "output_type": "execute_result"
    }
   ],
   "source": [
    "ts.shift(1)"
   ]
  },
  {
   "cell_type": "code",
   "execution_count": 24,
   "metadata": {},
   "outputs": [
    {
     "data": {
      "text/plain": [
       "2024-02-29   -1.567207\n",
       "2024-03-31    0.126522\n",
       "2024-04-30   -1.404182\n",
       "2024-05-31         NaN\n",
       "Freq: ME, dtype: float64"
      ]
     },
     "execution_count": 24,
     "metadata": {},
     "output_type": "execute_result"
    }
   ],
   "source": [
    "ts.shift(-1)"
   ]
  },
  {
   "cell_type": "code",
   "execution_count": 51,
   "metadata": {},
   "outputs": [
    {
     "data": {
      "text/plain": [
       "2024-04-30   -1.677339\n",
       "2024-05-31   -1.567207\n",
       "2024-06-30    0.126522\n",
       "2024-07-31   -1.404182\n",
       "Freq: ME, dtype: float64"
      ]
     },
     "execution_count": 51,
     "metadata": {},
     "output_type": "execute_result"
    }
   ],
   "source": [
    "ts.shift(2,freq='ME')"
   ]
  },
  {
   "cell_type": "markdown",
   "metadata": {},
   "source": [
    "### `resample` 메서드\n",
    "`resample()` 메서드는 `DatetimeIndex`의 시간 간격을 재조정함  \n",
    "시간 간격이 좁은 단위로 변경하면 데이터 양이 증가해서 업-샘플링(up-sampling)이라 하고 넓은 단위로 변경되면 데이터 양이 감소해서 다운-샘플링(down-sampling)이라 함"
   ]
  },
  {
   "cell_type": "code",
   "execution_count": 52,
   "metadata": {},
   "outputs": [
    {
     "data": {
      "text/plain": [
       "2024-03-21   -0.422529\n",
       "2024-03-22    0.471938\n",
       "2024-03-23   -0.224971\n",
       "2024-03-24   -0.297583\n",
       "2024-03-25   -0.030229\n",
       "2024-03-26   -1.851277\n",
       "2024-03-27   -0.856709\n",
       "2024-03-28   -1.576359\n",
       "2024-03-29    0.846669\n",
       "2024-03-30    1.468135\n",
       "2024-03-31   -0.633565\n",
       "2024-04-01   -0.050465\n",
       "2024-04-02   -0.499471\n",
       "2024-04-03    0.645216\n",
       "2024-04-04   -0.369057\n",
       "2024-04-05    1.819520\n",
       "2024-04-06    1.168923\n",
       "2024-04-07    0.967753\n",
       "2024-04-08    0.650605\n",
       "2024-04-09    0.036018\n",
       "Freq: D, dtype: float64"
      ]
     },
     "execution_count": 52,
     "metadata": {},
     "output_type": "execute_result"
    }
   ],
   "source": [
    "ts = pd.Series(np.random.randn(100), index=pd.date_range('2024-01-01', \n",
    "periods=100))\n",
    "ts.tail(20)"
   ]
  },
  {
   "cell_type": "markdown",
   "metadata": {},
   "source": [
    "다운-샘플링 시에는 기존 데이터가 그룹화되는 경우와 같기 때문에 대표값을 지정해야함 (집계처리를 해야함)"
   ]
  },
  {
   "cell_type": "code",
   "execution_count": 55,
   "metadata": {},
   "outputs": [
    {
     "data": {
      "text/plain": [
       "2024-01-01    0.038530\n",
       "2024-01-02    1.614353\n",
       "2024-01-03   -2.685810\n",
       "2024-01-04    1.239776\n",
       "2024-01-05   -0.887989\n",
       "                ...   \n",
       "2024-04-05    1.819520\n",
       "2024-04-06    1.168923\n",
       "2024-04-07    0.967753\n",
       "2024-04-08    0.650605\n",
       "2024-04-09    0.036018\n",
       "Freq: D, Length: 100, dtype: float64"
      ]
     },
     "execution_count": 55,
     "metadata": {},
     "output_type": "execute_result"
    }
   ],
   "source": [
    "ts"
   ]
  },
  {
   "cell_type": "code",
   "execution_count": 59,
   "metadata": {},
   "outputs": [
    {
     "data": {
      "text/plain": [
       "2024-01-31   -0.497801\n",
       "2024-02-29   -0.052017\n",
       "2024-03-31   -0.189562\n",
       "2024-04-30    0.485449\n",
       "Freq: ME, dtype: float64"
      ]
     },
     "execution_count": 59,
     "metadata": {},
     "output_type": "execute_result"
    }
   ],
   "source": [
    "ts.resample('ME').mean()"
   ]
  },
  {
   "cell_type": "markdown",
   "metadata": {},
   "source": [
    "시간 (시/분) 단위에서는 가장 빠른 값은 포함하고, 가장 늦은 값은 포함하지 않음"
   ]
  },
  {
   "cell_type": "code",
   "execution_count": 83,
   "metadata": {},
   "outputs": [
    {
     "data": {
      "text/plain": [
       "2024-02-29 00:00:00     0\n",
       "2024-02-29 00:01:00     1\n",
       "2024-02-29 00:02:00     2\n",
       "2024-02-29 00:03:00     3\n",
       "2024-02-29 00:04:00     4\n",
       "2024-02-29 00:05:00     5\n",
       "2024-02-29 00:06:00     6\n",
       "2024-02-29 00:07:00     7\n",
       "2024-02-29 00:08:00     8\n",
       "2024-02-29 00:09:00     9\n",
       "2024-02-29 00:10:00    10\n",
       "2024-02-29 00:11:00    11\n",
       "2024-02-29 00:12:00    12\n",
       "2024-02-29 00:13:00    13\n",
       "2024-02-29 00:14:00    14\n",
       "2024-02-29 00:15:00    15\n",
       "2024-02-29 00:16:00    16\n",
       "2024-02-29 00:17:00    17\n",
       "2024-02-29 00:18:00    18\n",
       "2024-02-29 00:19:00    19\n",
       "2024-02-29 00:20:00    20\n",
       "2024-02-29 00:21:00    21\n",
       "2024-02-29 00:22:00    22\n",
       "2024-02-29 00:23:00    23\n",
       "2024-02-29 00:24:00    24\n",
       "2024-02-29 00:25:00    25\n",
       "2024-02-29 00:26:00    26\n",
       "2024-02-29 00:27:00    27\n",
       "2024-02-29 00:28:00    28\n",
       "2024-02-29 00:29:00    29\n",
       "2024-02-29 00:30:00    30\n",
       "2024-02-29 00:31:00    31\n",
       "2024-02-29 00:32:00    32\n",
       "2024-02-29 00:33:00    33\n",
       "2024-02-29 00:34:00    34\n",
       "2024-02-29 00:35:00    35\n",
       "2024-02-29 00:36:00    36\n",
       "2024-02-29 00:37:00    37\n",
       "2024-02-29 00:38:00    38\n",
       "2024-02-29 00:39:00    39\n",
       "2024-02-29 00:40:00    40\n",
       "2024-02-29 00:41:00    41\n",
       "2024-02-29 00:42:00    42\n",
       "2024-02-29 00:43:00    43\n",
       "2024-02-29 00:44:00    44\n",
       "2024-02-29 00:45:00    45\n",
       "2024-02-29 00:46:00    46\n",
       "2024-02-29 00:47:00    47\n",
       "2024-02-29 00:48:00    48\n",
       "2024-02-29 00:49:00    49\n",
       "2024-02-29 00:50:00    50\n",
       "2024-02-29 00:51:00    51\n",
       "2024-02-29 00:52:00    52\n",
       "2024-02-29 00:53:00    53\n",
       "2024-02-29 00:54:00    54\n",
       "2024-02-29 00:55:00    55\n",
       "2024-02-29 00:56:00    56\n",
       "2024-02-29 00:57:00    57\n",
       "2024-02-29 00:58:00    58\n",
       "2024-02-29 00:59:00    59\n",
       "Freq: min, dtype: int32"
      ]
     },
     "execution_count": 83,
     "metadata": {},
     "output_type": "execute_result"
    }
   ],
   "source": [
    "ts = pd.Series(np.arange(60), index=pd.date_range('2024-02-29', periods=60, freq='min'))\n",
    "ts"
   ]
  },
  {
   "cell_type": "code",
   "execution_count": 84,
   "metadata": {},
   "outputs": [
    {
     "data": {
      "text/plain": [
       "2024-02-29 00:00:00     0\n",
       "2024-02-29 00:10:00    10\n",
       "2024-02-29 00:20:00    20\n",
       "2024-02-29 00:30:00    30\n",
       "2024-02-29 00:40:00    40\n",
       "2024-02-29 00:50:00    50\n",
       "Freq: 10min, dtype: int32"
      ]
     },
     "execution_count": 84,
     "metadata": {},
     "output_type": "execute_result"
    }
   ],
   "source": [
    "ts.resample('10min').min()"
   ]
  },
  {
   "cell_type": "markdown",
   "metadata": {},
   "source": [
    "구간 한계 값을 가장 늦은 값으로 지정하고자 한다면 `closed='right'`를 지정함"
   ]
  },
  {
   "cell_type": "code",
   "execution_count": 91,
   "metadata": {},
   "outputs": [
    {
     "data": {
      "text/plain": [
       "2024-02-29 00:00:00     0\n",
       "2024-02-29 00:01:00     1\n",
       "2024-02-29 00:02:00     2\n",
       "2024-02-29 00:03:00     3\n",
       "2024-02-29 00:04:00     4\n",
       "2024-02-29 00:05:00     5\n",
       "2024-02-29 00:06:00     6\n",
       "2024-02-29 00:07:00     7\n",
       "2024-02-29 00:08:00     8\n",
       "2024-02-29 00:09:00     9\n",
       "2024-02-29 00:10:00    10\n",
       "2024-02-29 00:11:00    11\n",
       "2024-02-29 00:12:00    12\n",
       "2024-02-29 00:13:00    13\n",
       "2024-02-29 00:14:00    14\n",
       "2024-02-29 00:15:00    15\n",
       "2024-02-29 00:16:00    16\n",
       "2024-02-29 00:17:00    17\n",
       "2024-02-29 00:18:00    18\n",
       "2024-02-29 00:19:00    19\n",
       "2024-02-29 00:20:00    20\n",
       "2024-02-29 00:21:00    21\n",
       "2024-02-29 00:22:00    22\n",
       "2024-02-29 00:23:00    23\n",
       "2024-02-29 00:24:00    24\n",
       "2024-02-29 00:25:00    25\n",
       "2024-02-29 00:26:00    26\n",
       "2024-02-29 00:27:00    27\n",
       "2024-02-29 00:28:00    28\n",
       "2024-02-29 00:29:00    29\n",
       "2024-02-29 00:30:00    30\n",
       "2024-02-29 00:31:00    31\n",
       "2024-02-29 00:32:00    32\n",
       "2024-02-29 00:33:00    33\n",
       "2024-02-29 00:34:00    34\n",
       "2024-02-29 00:35:00    35\n",
       "2024-02-29 00:36:00    36\n",
       "2024-02-29 00:37:00    37\n",
       "2024-02-29 00:38:00    38\n",
       "2024-02-29 00:39:00    39\n",
       "2024-02-29 00:40:00    40\n",
       "2024-02-29 00:41:00    41\n",
       "2024-02-29 00:42:00    42\n",
       "2024-02-29 00:43:00    43\n",
       "2024-02-29 00:44:00    44\n",
       "2024-02-29 00:45:00    45\n",
       "2024-02-29 00:46:00    46\n",
       "2024-02-29 00:47:00    47\n",
       "2024-02-29 00:48:00    48\n",
       "2024-02-29 00:49:00    49\n",
       "2024-02-29 00:50:00    50\n",
       "2024-02-29 00:51:00    51\n",
       "2024-02-29 00:52:00    52\n",
       "2024-02-29 00:53:00    53\n",
       "2024-02-29 00:54:00    54\n",
       "2024-02-29 00:55:00    55\n",
       "2024-02-29 00:56:00    56\n",
       "2024-02-29 00:57:00    57\n",
       "2024-02-29 00:58:00    58\n",
       "2024-02-29 00:59:00    59\n",
       "Freq: min, dtype: int32"
      ]
     },
     "execution_count": 91,
     "metadata": {},
     "output_type": "execute_result"
    }
   ],
   "source": [
    "ts"
   ]
  },
  {
   "cell_type": "code",
   "execution_count": 93,
   "metadata": {},
   "outputs": [
    {
     "name": "stdout",
     "output_type": "stream",
     "text": [
      "2024-02-29 00:00:00     9\n",
      "2024-02-29 00:10:00    19\n",
      "2024-02-29 00:20:00    29\n",
      "2024-02-29 00:30:00    39\n",
      "2024-02-29 00:40:00    49\n",
      "2024-02-29 00:50:00    59\n",
      "Freq: 10min, dtype: int32\n",
      "\n",
      "2024-02-28 23:50:00     0\n",
      "2024-02-29 00:00:00    10\n",
      "2024-02-29 00:10:00    20\n",
      "2024-02-29 00:20:00    30\n",
      "2024-02-29 00:30:00    40\n",
      "2024-02-29 00:40:00    50\n",
      "2024-02-29 00:50:00    59\n",
      "Freq: 10min, dtype: int32\n"
     ]
    }
   ],
   "source": [
    "print(ts.resample('10min').max())\n",
    "print()\n",
    "print(ts.resample('10min', closed='right').max())\n"
   ]
  },
  {
   "cell_type": "markdown",
   "metadata": {},
   "source": [
    "`ohlc()` 메서드는 구간의 시점, 고점, 저점, 종점의 값을 표현"
   ]
  },
  {
   "cell_type": "code",
   "execution_count": 95,
   "metadata": {},
   "outputs": [
    {
     "data": {
      "text/html": [
       "<div>\n",
       "<style scoped>\n",
       "    .dataframe tbody tr th:only-of-type {\n",
       "        vertical-align: middle;\n",
       "    }\n",
       "\n",
       "    .dataframe tbody tr th {\n",
       "        vertical-align: top;\n",
       "    }\n",
       "\n",
       "    .dataframe thead th {\n",
       "        text-align: right;\n",
       "    }\n",
       "</style>\n",
       "<table border=\"1\" class=\"dataframe\">\n",
       "  <thead>\n",
       "    <tr style=\"text-align: right;\">\n",
       "      <th></th>\n",
       "      <th>open</th>\n",
       "      <th>high</th>\n",
       "      <th>low</th>\n",
       "      <th>close</th>\n",
       "    </tr>\n",
       "  </thead>\n",
       "  <tbody>\n",
       "    <tr>\n",
       "      <th>2024-02-29 00:00:00</th>\n",
       "      <td>0</td>\n",
       "      <td>9</td>\n",
       "      <td>0</td>\n",
       "      <td>9</td>\n",
       "    </tr>\n",
       "    <tr>\n",
       "      <th>2024-02-29 00:10:00</th>\n",
       "      <td>10</td>\n",
       "      <td>19</td>\n",
       "      <td>10</td>\n",
       "      <td>19</td>\n",
       "    </tr>\n",
       "    <tr>\n",
       "      <th>2024-02-29 00:20:00</th>\n",
       "      <td>20</td>\n",
       "      <td>29</td>\n",
       "      <td>20</td>\n",
       "      <td>29</td>\n",
       "    </tr>\n",
       "    <tr>\n",
       "      <th>2024-02-29 00:30:00</th>\n",
       "      <td>30</td>\n",
       "      <td>39</td>\n",
       "      <td>30</td>\n",
       "      <td>39</td>\n",
       "    </tr>\n",
       "    <tr>\n",
       "      <th>2024-02-29 00:40:00</th>\n",
       "      <td>40</td>\n",
       "      <td>49</td>\n",
       "      <td>40</td>\n",
       "      <td>49</td>\n",
       "    </tr>\n",
       "    <tr>\n",
       "      <th>2024-02-29 00:50:00</th>\n",
       "      <td>50</td>\n",
       "      <td>59</td>\n",
       "      <td>50</td>\n",
       "      <td>59</td>\n",
       "    </tr>\n",
       "  </tbody>\n",
       "</table>\n",
       "</div>"
      ],
      "text/plain": [
       "                     open  high  low  close\n",
       "2024-02-29 00:00:00     0     9    0      9\n",
       "2024-02-29 00:10:00    10    19   10     19\n",
       "2024-02-29 00:20:00    20    29   20     29\n",
       "2024-02-29 00:30:00    30    39   30     39\n",
       "2024-02-29 00:40:00    40    49   40     49\n",
       "2024-02-29 00:50:00    50    59   50     59"
      ]
     },
     "execution_count": 95,
     "metadata": {},
     "output_type": "execute_result"
    }
   ],
   "source": [
    "ts.resample('10min').ohlc()"
   ]
  },
  {
   "cell_type": "code",
   "execution_count": 96,
   "metadata": {},
   "outputs": [
    {
     "data": {
      "text/html": [
       "<div>\n",
       "<style scoped>\n",
       "    .dataframe tbody tr th:only-of-type {\n",
       "        vertical-align: middle;\n",
       "    }\n",
       "\n",
       "    .dataframe tbody tr th {\n",
       "        vertical-align: top;\n",
       "    }\n",
       "\n",
       "    .dataframe thead th {\n",
       "        text-align: right;\n",
       "    }\n",
       "</style>\n",
       "<table border=\"1\" class=\"dataframe\">\n",
       "  <thead>\n",
       "    <tr style=\"text-align: right;\">\n",
       "      <th></th>\n",
       "      <th>open</th>\n",
       "      <th>high</th>\n",
       "      <th>low</th>\n",
       "      <th>close</th>\n",
       "    </tr>\n",
       "  </thead>\n",
       "  <tbody>\n",
       "    <tr>\n",
       "      <th>2024-02-28 23:50:00</th>\n",
       "      <td>0</td>\n",
       "      <td>0</td>\n",
       "      <td>0</td>\n",
       "      <td>0</td>\n",
       "    </tr>\n",
       "    <tr>\n",
       "      <th>2024-02-29 00:00:00</th>\n",
       "      <td>1</td>\n",
       "      <td>10</td>\n",
       "      <td>1</td>\n",
       "      <td>10</td>\n",
       "    </tr>\n",
       "    <tr>\n",
       "      <th>2024-02-29 00:10:00</th>\n",
       "      <td>11</td>\n",
       "      <td>20</td>\n",
       "      <td>11</td>\n",
       "      <td>20</td>\n",
       "    </tr>\n",
       "    <tr>\n",
       "      <th>2024-02-29 00:20:00</th>\n",
       "      <td>21</td>\n",
       "      <td>30</td>\n",
       "      <td>21</td>\n",
       "      <td>30</td>\n",
       "    </tr>\n",
       "    <tr>\n",
       "      <th>2024-02-29 00:30:00</th>\n",
       "      <td>31</td>\n",
       "      <td>40</td>\n",
       "      <td>31</td>\n",
       "      <td>40</td>\n",
       "    </tr>\n",
       "    <tr>\n",
       "      <th>2024-02-29 00:40:00</th>\n",
       "      <td>41</td>\n",
       "      <td>50</td>\n",
       "      <td>41</td>\n",
       "      <td>50</td>\n",
       "    </tr>\n",
       "    <tr>\n",
       "      <th>2024-02-29 00:50:00</th>\n",
       "      <td>51</td>\n",
       "      <td>59</td>\n",
       "      <td>51</td>\n",
       "      <td>59</td>\n",
       "    </tr>\n",
       "  </tbody>\n",
       "</table>\n",
       "</div>"
      ],
      "text/plain": [
       "                     open  high  low  close\n",
       "2024-02-28 23:50:00     0     0    0      0\n",
       "2024-02-29 00:00:00     1    10    1     10\n",
       "2024-02-29 00:10:00    11    20   11     20\n",
       "2024-02-29 00:20:00    21    30   21     30\n",
       "2024-02-29 00:30:00    31    40   31     40\n",
       "2024-02-29 00:40:00    41    50   41     50\n",
       "2024-02-29 00:50:00    51    59   51     59"
      ]
     },
     "execution_count": 96,
     "metadata": {},
     "output_type": "execute_result"
    }
   ],
   "source": [
    "ts.resample('10min', closed='right').ohlc()"
   ]
  },
  {
   "cell_type": "markdown",
   "metadata": {},
   "source": [
    "업-샘플링은 데이터를 추가해야하기 때문에 foward filling 방식과 back filling 방식을 사용할 수 있음  \n",
    "foward filling은 이전 데이터를 가져와 사용하는 방법 - `ffiil()`  \n",
    "back filling은 다음 데이터를 가져와 사용하는 방법 - `bfill()`"
   ]
  },
  {
   "cell_type": "code",
   "execution_count": 97,
   "metadata": {},
   "outputs": [
    {
     "data": {
      "text/plain": [
       "2024-02-29 00:00:00     0\n",
       "2024-02-29 00:01:00     1\n",
       "2024-02-29 00:02:00     2\n",
       "2024-02-29 00:03:00     3\n",
       "2024-02-29 00:04:00     4\n",
       "2024-02-29 00:05:00     5\n",
       "2024-02-29 00:06:00     6\n",
       "2024-02-29 00:07:00     7\n",
       "2024-02-29 00:08:00     8\n",
       "2024-02-29 00:09:00     9\n",
       "2024-02-29 00:10:00    10\n",
       "2024-02-29 00:11:00    11\n",
       "2024-02-29 00:12:00    12\n",
       "2024-02-29 00:13:00    13\n",
       "2024-02-29 00:14:00    14\n",
       "2024-02-29 00:15:00    15\n",
       "2024-02-29 00:16:00    16\n",
       "2024-02-29 00:17:00    17\n",
       "2024-02-29 00:18:00    18\n",
       "2024-02-29 00:19:00    19\n",
       "2024-02-29 00:20:00    20\n",
       "2024-02-29 00:21:00    21\n",
       "2024-02-29 00:22:00    22\n",
       "2024-02-29 00:23:00    23\n",
       "2024-02-29 00:24:00    24\n",
       "2024-02-29 00:25:00    25\n",
       "2024-02-29 00:26:00    26\n",
       "2024-02-29 00:27:00    27\n",
       "2024-02-29 00:28:00    28\n",
       "2024-02-29 00:29:00    29\n",
       "2024-02-29 00:30:00    30\n",
       "2024-02-29 00:31:00    31\n",
       "2024-02-29 00:32:00    32\n",
       "2024-02-29 00:33:00    33\n",
       "2024-02-29 00:34:00    34\n",
       "2024-02-29 00:35:00    35\n",
       "2024-02-29 00:36:00    36\n",
       "2024-02-29 00:37:00    37\n",
       "2024-02-29 00:38:00    38\n",
       "2024-02-29 00:39:00    39\n",
       "2024-02-29 00:40:00    40\n",
       "2024-02-29 00:41:00    41\n",
       "2024-02-29 00:42:00    42\n",
       "2024-02-29 00:43:00    43\n",
       "2024-02-29 00:44:00    44\n",
       "2024-02-29 00:45:00    45\n",
       "2024-02-29 00:46:00    46\n",
       "2024-02-29 00:47:00    47\n",
       "2024-02-29 00:48:00    48\n",
       "2024-02-29 00:49:00    49\n",
       "2024-02-29 00:50:00    50\n",
       "2024-02-29 00:51:00    51\n",
       "2024-02-29 00:52:00    52\n",
       "2024-02-29 00:53:00    53\n",
       "2024-02-29 00:54:00    54\n",
       "2024-02-29 00:55:00    55\n",
       "2024-02-29 00:56:00    56\n",
       "2024-02-29 00:57:00    57\n",
       "2024-02-29 00:58:00    58\n",
       "2024-02-29 00:59:00    59\n",
       "Freq: min, dtype: int32"
      ]
     },
     "execution_count": 97,
     "metadata": {},
     "output_type": "execute_result"
    }
   ],
   "source": [
    "ts"
   ]
  },
  {
   "cell_type": "code",
   "execution_count": 98,
   "metadata": {},
   "outputs": [
    {
     "data": {
      "text/plain": [
       "2024-02-29 00:00:00     0\n",
       "2024-02-29 00:00:30     0\n",
       "2024-02-29 00:01:00     1\n",
       "2024-02-29 00:01:30     1\n",
       "2024-02-29 00:02:00     2\n",
       "                       ..\n",
       "2024-02-29 00:57:00    57\n",
       "2024-02-29 00:57:30    57\n",
       "2024-02-29 00:58:00    58\n",
       "2024-02-29 00:58:30    58\n",
       "2024-02-29 00:59:00    59\n",
       "Freq: 30s, Length: 119, dtype: int32"
      ]
     },
     "execution_count": 98,
     "metadata": {},
     "output_type": "execute_result"
    }
   ],
   "source": [
    "ts.resample('30s').ffill()"
   ]
  },
  {
   "cell_type": "code",
   "execution_count": 99,
   "metadata": {},
   "outputs": [
    {
     "data": {
      "text/plain": [
       "2024-02-29 00:00:00     0\n",
       "2024-02-29 00:00:30     1\n",
       "2024-02-29 00:01:00     1\n",
       "2024-02-29 00:01:30     2\n",
       "2024-02-29 00:02:00     2\n",
       "                       ..\n",
       "2024-02-29 00:57:00    57\n",
       "2024-02-29 00:57:30    58\n",
       "2024-02-29 00:58:00    58\n",
       "2024-02-29 00:58:30    59\n",
       "2024-02-29 00:59:00    59\n",
       "Freq: 30s, Length: 119, dtype: int32"
      ]
     },
     "execution_count": 99,
     "metadata": {},
     "output_type": "execute_result"
    }
   ],
   "source": [
    "ts.resample('30s').bfill()"
   ]
  },
  {
   "cell_type": "markdown",
   "metadata": {},
   "source": [
    "### `dt` 접근자\n",
    "datetime의 데이터 타입 시리즈는 `dt` 접근자를 사용하여 datetime 데이터 타입이 가지는 여러가지 속성 및 메서드를 사용할 수 있음"
   ]
  },
  {
   "cell_type": "code",
   "execution_count": 100,
   "metadata": {},
   "outputs": [
    {
     "data": {
      "text/plain": [
       "0   2024-01-01\n",
       "1   2024-01-02\n",
       "2   2024-01-03\n",
       "3   2024-01-04\n",
       "4   2024-01-05\n",
       "5   2024-01-06\n",
       "6   2024-01-07\n",
       "7   2024-01-08\n",
       "8   2024-01-09\n",
       "9   2024-01-10\n",
       "dtype: datetime64[ns]"
      ]
     },
     "execution_count": 100,
     "metadata": {},
     "output_type": "execute_result"
    }
   ],
   "source": [
    "s = pd.Series(pd.date_range('2024-01-01', periods=10))\n",
    "s"
   ]
  },
  {
   "cell_type": "markdown",
   "metadata": {},
   "source": [
    "`year`, `month`, `day`와 같은 속성을 사용할 수 있음"
   ]
  },
  {
   "cell_type": "code",
   "execution_count": 101,
   "metadata": {},
   "outputs": [
    {
     "data": {
      "text/plain": [
       "0     1\n",
       "1     2\n",
       "2     3\n",
       "3     4\n",
       "4     5\n",
       "5     6\n",
       "6     7\n",
       "7     8\n",
       "8     9\n",
       "9    10\n",
       "dtype: int32"
      ]
     },
     "execution_count": 101,
     "metadata": {},
     "output_type": "execute_result"
    }
   ],
   "source": [
    "s.dt.day"
   ]
  },
  {
   "cell_type": "code",
   "execution_count": 102,
   "metadata": {},
   "outputs": [
    {
     "data": {
      "text/plain": [
       "0    2024\n",
       "1    2024\n",
       "2    2024\n",
       "3    2024\n",
       "4    2024\n",
       "5    2024\n",
       "6    2024\n",
       "7    2024\n",
       "8    2024\n",
       "9    2024\n",
       "dtype: int32"
      ]
     },
     "execution_count": 102,
     "metadata": {},
     "output_type": "execute_result"
    }
   ],
   "source": [
    "s.dt.year"
   ]
  },
  {
   "cell_type": "markdown",
   "metadata": {},
   "source": [
    "`strftime()` 메서드를 사용하여 datetime 데이터 타입의 데이터를 문자열 데이터로 변경 할 수 있음"
   ]
  },
  {
   "cell_type": "code",
   "execution_count": 103,
   "metadata": {},
   "outputs": [
    {
     "data": {
      "text/plain": [
       "0    2024-01-01 00:00:00\n",
       "1    2024-01-02 00:00:00\n",
       "2    2024-01-03 00:00:00\n",
       "3    2024-01-04 00:00:00\n",
       "4    2024-01-05 00:00:00\n",
       "5    2024-01-06 00:00:00\n",
       "6    2024-01-07 00:00:00\n",
       "7    2024-01-08 00:00:00\n",
       "8    2024-01-09 00:00:00\n",
       "9    2024-01-10 00:00:00\n",
       "dtype: object"
      ]
     },
     "execution_count": 103,
     "metadata": {},
     "output_type": "execute_result"
    }
   ],
   "source": [
    "s.dt.strftime('%Y. %m. %d. %H:%M:%s')"
   ]
  },
  {
   "cell_type": "markdown",
   "metadata": {},
   "source": [
    "##### 파이썬으로 다음 연산을 수행한다.\n",
    "\n",
    "다음 명령으로 만들어진 데이터프레임에 대해 월별 value의 합계를 구하라. (힌트: `groupby` 메서드와 `dt` 접근자를 사용하라)\n",
    "```python\n",
    "np.random.seed(0)\n",
    "df = pd.DataFrame({\n",
    "    \"date\": pd.date_range(\"2020-12-25\", periods=100, freq=\"D\"),\n",
    "    \"value\": np.random.randint(100, size=(100,))\n",
    "})\n",
    "```"
   ]
  },
  {
   "cell_type": "code",
   "execution_count": 148,
   "metadata": {},
   "outputs": [
    {
     "name": "stdout",
     "output_type": "stream",
     "text": [
      "0     12\n",
      "1     12\n",
      "2     12\n",
      "3     12\n",
      "4     12\n",
      "      ..\n",
      "95     3\n",
      "96     3\n",
      "97     4\n",
      "98     4\n",
      "99     4\n",
      "Name: date, Length: 100, dtype: int32\n"
     ]
    }
   ],
   "source": [
    "np.random.seed(0)\n",
    "df = pd.DataFrame({\n",
    "    \"date\": pd.date_range(\"2020-12-25\", periods=100, freq=\"D\"),\n",
    "    \"value\": np.random.randint(100, size=(100,))\n",
    "})\n",
    "df\n",
    "print(df.date.dt.month)"
   ]
  },
  {
   "cell_type": "code",
   "execution_count": 149,
   "metadata": {},
   "outputs": [],
   "source": [
    "df.date = df.date.dt.month"
   ]
  },
  {
   "cell_type": "code",
   "execution_count": 157,
   "metadata": {},
   "outputs": [
    {
     "data": {
      "text/html": [
       "<div>\n",
       "<style scoped>\n",
       "    .dataframe tbody tr th:only-of-type {\n",
       "        vertical-align: middle;\n",
       "    }\n",
       "\n",
       "    .dataframe tbody tr th {\n",
       "        vertical-align: top;\n",
       "    }\n",
       "\n",
       "    .dataframe thead th {\n",
       "        text-align: right;\n",
       "    }\n",
       "</style>\n",
       "<table border=\"1\" class=\"dataframe\">\n",
       "  <thead>\n",
       "    <tr style=\"text-align: right;\">\n",
       "      <th></th>\n",
       "      <th>value</th>\n",
       "    </tr>\n",
       "    <tr>\n",
       "      <th>date</th>\n",
       "      <th></th>\n",
       "    </tr>\n",
       "  </thead>\n",
       "  <tbody>\n",
       "    <tr>\n",
       "      <th>1</th>\n",
       "      <td>1811</td>\n",
       "    </tr>\n",
       "    <tr>\n",
       "      <th>2</th>\n",
       "      <td>985</td>\n",
       "    </tr>\n",
       "    <tr>\n",
       "      <th>3</th>\n",
       "      <td>1500</td>\n",
       "    </tr>\n",
       "    <tr>\n",
       "      <th>4</th>\n",
       "      <td>146</td>\n",
       "    </tr>\n",
       "    <tr>\n",
       "      <th>12</th>\n",
       "      <td>381</td>\n",
       "    </tr>\n",
       "  </tbody>\n",
       "</table>\n",
       "</div>"
      ],
      "text/plain": [
       "      value\n",
       "date       \n",
       "1      1811\n",
       "2       985\n",
       "3      1500\n",
       "4       146\n",
       "12      381"
      ]
     },
     "execution_count": 157,
     "metadata": {},
     "output_type": "execute_result"
    }
   ],
   "source": [
    "df.groupby(df.date).sum()"
   ]
  }
 ],
 "metadata": {
  "kernelspec": {
   "display_name": "Python 3",
   "language": "python",
   "name": "python3"
  },
  "language_info": {
   "codemirror_mode": {
    "name": "ipython",
    "version": 3
   },
   "file_extension": ".py",
   "mimetype": "text/x-python",
   "name": "python",
   "nbconvert_exporter": "python",
   "pygments_lexer": "ipython3",
   "version": "3.12.2"
  }
 },
 "nbformat": 4,
 "nbformat_minor": 2
}
